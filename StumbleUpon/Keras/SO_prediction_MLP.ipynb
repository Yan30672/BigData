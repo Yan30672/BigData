{
 "cells": [
  {
   "cell_type": "code",
   "execution_count": 83,
   "metadata": {},
   "outputs": [],
   "source": [
    "import numpy as np\n",
    "import pandas as pd\n",
    "from sklearn import preprocessing\n",
    "np.random.seed(10)"
   ]
  },
  {
   "cell_type": "code",
   "execution_count": 84,
   "metadata": {},
   "outputs": [],
   "source": [
    "all_df = pd.read_table(\"data/SO_train.tsv\", sep = \"\\t\")\n",
    "useful_df = all_df[(all_df != \"?\").all(axis=1)]\n",
    "header = [x for x in useful_df]\n",
    "cols = [header[-1]]+header[3:-1]\n",
    "data_df = useful_df[cols]\n",
    "df = pd.get_dummies(data=data_df, columns=['alchemy_category']).astype(float)\n",
    "msk = np.random.rand(len(df)) < 0.8\n",
    "train_df = df[msk]\n",
    "test_df = df[~msk]"
   ]
  },
  {
   "cell_type": "code",
   "execution_count": 85,
   "metadata": {},
   "outputs": [
    {
     "data": {
      "text/html": [
       "<div>\n",
       "<style scoped>\n",
       "    .dataframe tbody tr th:only-of-type {\n",
       "        vertical-align: middle;\n",
       "    }\n",
       "\n",
       "    .dataframe tbody tr th {\n",
       "        vertical-align: top;\n",
       "    }\n",
       "\n",
       "    .dataframe thead th {\n",
       "        text-align: right;\n",
       "    }\n",
       "</style>\n",
       "<table border=\"1\" class=\"dataframe\">\n",
       "  <thead>\n",
       "    <tr style=\"text-align: right;\">\n",
       "      <th></th>\n",
       "      <th>label</th>\n",
       "      <th>alchemy_category_score</th>\n",
       "      <th>avglinksize</th>\n",
       "      <th>commonlinkratio_1</th>\n",
       "      <th>commonlinkratio_2</th>\n",
       "      <th>commonlinkratio_3</th>\n",
       "      <th>commonlinkratio_4</th>\n",
       "      <th>compression_ratio</th>\n",
       "      <th>embed_ratio</th>\n",
       "      <th>framebased</th>\n",
       "      <th>...</th>\n",
       "      <th>alchemy_category_culture_politics</th>\n",
       "      <th>alchemy_category_gaming</th>\n",
       "      <th>alchemy_category_health</th>\n",
       "      <th>alchemy_category_law_crime</th>\n",
       "      <th>alchemy_category_recreation</th>\n",
       "      <th>alchemy_category_religion</th>\n",
       "      <th>alchemy_category_science_technology</th>\n",
       "      <th>alchemy_category_sports</th>\n",
       "      <th>alchemy_category_unknown</th>\n",
       "      <th>alchemy_category_weather</th>\n",
       "    </tr>\n",
       "  </thead>\n",
       "  <tbody>\n",
       "    <tr>\n",
       "      <th>0</th>\n",
       "      <td>0.0</td>\n",
       "      <td>0.789131</td>\n",
       "      <td>2.055556</td>\n",
       "      <td>0.676471</td>\n",
       "      <td>0.205882</td>\n",
       "      <td>0.047059</td>\n",
       "      <td>0.023529</td>\n",
       "      <td>0.443783</td>\n",
       "      <td>0.0</td>\n",
       "      <td>0.0</td>\n",
       "      <td>...</td>\n",
       "      <td>0.0</td>\n",
       "      <td>0.0</td>\n",
       "      <td>0.0</td>\n",
       "      <td>0.0</td>\n",
       "      <td>0.0</td>\n",
       "      <td>0.0</td>\n",
       "      <td>0.0</td>\n",
       "      <td>0.0</td>\n",
       "      <td>0.0</td>\n",
       "      <td>0.0</td>\n",
       "    </tr>\n",
       "    <tr>\n",
       "      <th>1</th>\n",
       "      <td>1.0</td>\n",
       "      <td>0.574147</td>\n",
       "      <td>3.677966</td>\n",
       "      <td>0.508021</td>\n",
       "      <td>0.288770</td>\n",
       "      <td>0.213904</td>\n",
       "      <td>0.144385</td>\n",
       "      <td>0.468649</td>\n",
       "      <td>0.0</td>\n",
       "      <td>0.0</td>\n",
       "      <td>...</td>\n",
       "      <td>0.0</td>\n",
       "      <td>0.0</td>\n",
       "      <td>0.0</td>\n",
       "      <td>0.0</td>\n",
       "      <td>1.0</td>\n",
       "      <td>0.0</td>\n",
       "      <td>0.0</td>\n",
       "      <td>0.0</td>\n",
       "      <td>0.0</td>\n",
       "      <td>0.0</td>\n",
       "    </tr>\n",
       "  </tbody>\n",
       "</table>\n",
       "<p>2 rows × 36 columns</p>\n",
       "</div>"
      ],
      "text/plain": [
       "   label  alchemy_category_score  avglinksize  commonlinkratio_1  \\\n",
       "0    0.0                0.789131     2.055556           0.676471   \n",
       "1    1.0                0.574147     3.677966           0.508021   \n",
       "\n",
       "   commonlinkratio_2  commonlinkratio_3  commonlinkratio_4  compression_ratio  \\\n",
       "0           0.205882           0.047059           0.023529           0.443783   \n",
       "1           0.288770           0.213904           0.144385           0.468649   \n",
       "\n",
       "   embed_ratio  framebased            ...             \\\n",
       "0          0.0         0.0            ...              \n",
       "1          0.0         0.0            ...              \n",
       "\n",
       "   alchemy_category_culture_politics  alchemy_category_gaming  \\\n",
       "0                                0.0                      0.0   \n",
       "1                                0.0                      0.0   \n",
       "\n",
       "   alchemy_category_health  alchemy_category_law_crime  \\\n",
       "0                      0.0                         0.0   \n",
       "1                      0.0                         0.0   \n",
       "\n",
       "   alchemy_category_recreation  alchemy_category_religion  \\\n",
       "0                          0.0                        0.0   \n",
       "1                          1.0                        0.0   \n",
       "\n",
       "   alchemy_category_science_technology  alchemy_category_sports  \\\n",
       "0                                  0.0                      0.0   \n",
       "1                                  0.0                      0.0   \n",
       "\n",
       "   alchemy_category_unknown  alchemy_category_weather  \n",
       "0                       0.0                       0.0  \n",
       "1                       0.0                       0.0  \n",
       "\n",
       "[2 rows x 36 columns]"
      ]
     },
     "execution_count": 85,
     "metadata": {},
     "output_type": "execute_result"
    }
   ],
   "source": [
    "train_df[:2]"
   ]
  },
  {
   "cell_type": "code",
   "execution_count": 86,
   "metadata": {},
   "outputs": [
    {
     "data": {
      "text/html": [
       "<div>\n",
       "<style scoped>\n",
       "    .dataframe tbody tr th:only-of-type {\n",
       "        vertical-align: middle;\n",
       "    }\n",
       "\n",
       "    .dataframe tbody tr th {\n",
       "        vertical-align: top;\n",
       "    }\n",
       "\n",
       "    .dataframe thead th {\n",
       "        text-align: right;\n",
       "    }\n",
       "</style>\n",
       "<table border=\"1\" class=\"dataframe\">\n",
       "  <thead>\n",
       "    <tr style=\"text-align: right;\">\n",
       "      <th></th>\n",
       "      <th>label</th>\n",
       "      <th>alchemy_category_score</th>\n",
       "      <th>avglinksize</th>\n",
       "      <th>commonlinkratio_1</th>\n",
       "      <th>commonlinkratio_2</th>\n",
       "      <th>commonlinkratio_3</th>\n",
       "      <th>commonlinkratio_4</th>\n",
       "      <th>compression_ratio</th>\n",
       "      <th>embed_ratio</th>\n",
       "      <th>framebased</th>\n",
       "      <th>...</th>\n",
       "      <th>alchemy_category_culture_politics</th>\n",
       "      <th>alchemy_category_gaming</th>\n",
       "      <th>alchemy_category_health</th>\n",
       "      <th>alchemy_category_law_crime</th>\n",
       "      <th>alchemy_category_recreation</th>\n",
       "      <th>alchemy_category_religion</th>\n",
       "      <th>alchemy_category_science_technology</th>\n",
       "      <th>alchemy_category_sports</th>\n",
       "      <th>alchemy_category_unknown</th>\n",
       "      <th>alchemy_category_weather</th>\n",
       "    </tr>\n",
       "  </thead>\n",
       "  <tbody>\n",
       "    <tr>\n",
       "      <th>19</th>\n",
       "      <td>1.0</td>\n",
       "      <td>0.585389</td>\n",
       "      <td>2.826772</td>\n",
       "      <td>0.669065</td>\n",
       "      <td>0.237410</td>\n",
       "      <td>0.064748</td>\n",
       "      <td>0.021583</td>\n",
       "      <td>0.562795</td>\n",
       "      <td>0.0</td>\n",
       "      <td>0.0</td>\n",
       "      <td>...</td>\n",
       "      <td>0.0</td>\n",
       "      <td>0.0</td>\n",
       "      <td>1.0</td>\n",
       "      <td>0.0</td>\n",
       "      <td>0.0</td>\n",
       "      <td>0.0</td>\n",
       "      <td>0.0</td>\n",
       "      <td>0.0</td>\n",
       "      <td>0.0</td>\n",
       "      <td>0.0</td>\n",
       "    </tr>\n",
       "    <tr>\n",
       "      <th>26</th>\n",
       "      <td>0.0</td>\n",
       "      <td>0.348995</td>\n",
       "      <td>3.355263</td>\n",
       "      <td>0.488372</td>\n",
       "      <td>0.290698</td>\n",
       "      <td>0.081395</td>\n",
       "      <td>0.023256</td>\n",
       "      <td>0.573826</td>\n",
       "      <td>0.0</td>\n",
       "      <td>0.0</td>\n",
       "      <td>...</td>\n",
       "      <td>0.0</td>\n",
       "      <td>0.0</td>\n",
       "      <td>0.0</td>\n",
       "      <td>0.0</td>\n",
       "      <td>0.0</td>\n",
       "      <td>0.0</td>\n",
       "      <td>0.0</td>\n",
       "      <td>1.0</td>\n",
       "      <td>0.0</td>\n",
       "      <td>0.0</td>\n",
       "    </tr>\n",
       "  </tbody>\n",
       "</table>\n",
       "<p>2 rows × 36 columns</p>\n",
       "</div>"
      ],
      "text/plain": [
       "    label  alchemy_category_score  avglinksize  commonlinkratio_1  \\\n",
       "19    1.0                0.585389     2.826772           0.669065   \n",
       "26    0.0                0.348995     3.355263           0.488372   \n",
       "\n",
       "    commonlinkratio_2  commonlinkratio_3  commonlinkratio_4  \\\n",
       "19           0.237410           0.064748           0.021583   \n",
       "26           0.290698           0.081395           0.023256   \n",
       "\n",
       "    compression_ratio  embed_ratio  framebased            ...             \\\n",
       "19           0.562795          0.0         0.0            ...              \n",
       "26           0.573826          0.0         0.0            ...              \n",
       "\n",
       "    alchemy_category_culture_politics  alchemy_category_gaming  \\\n",
       "19                                0.0                      0.0   \n",
       "26                                0.0                      0.0   \n",
       "\n",
       "    alchemy_category_health  alchemy_category_law_crime  \\\n",
       "19                      1.0                         0.0   \n",
       "26                      0.0                         0.0   \n",
       "\n",
       "    alchemy_category_recreation  alchemy_category_religion  \\\n",
       "19                          0.0                        0.0   \n",
       "26                          0.0                        0.0   \n",
       "\n",
       "    alchemy_category_science_technology  alchemy_category_sports  \\\n",
       "19                                  0.0                      0.0   \n",
       "26                                  0.0                      1.0   \n",
       "\n",
       "    alchemy_category_unknown  alchemy_category_weather  \n",
       "19                       0.0                       0.0  \n",
       "26                       0.0                       0.0  \n",
       "\n",
       "[2 rows x 36 columns]"
      ]
     },
     "execution_count": 86,
     "metadata": {},
     "output_type": "execute_result"
    }
   ],
   "source": [
    "test_df[:2]"
   ]
  },
  {
   "cell_type": "code",
   "execution_count": 87,
   "metadata": {},
   "outputs": [
    {
     "name": "stdout",
     "output_type": "stream",
     "text": [
      "total: 3566 train: 2851 test: 715\n"
     ]
    }
   ],
   "source": [
    "print('total:',len(data_df),\n",
    "      'train:',len(train_df),\n",
    "      'test:',len(test_df))"
   ]
  },
  {
   "cell_type": "code",
   "execution_count": 88,
   "metadata": {},
   "outputs": [],
   "source": [
    "def PreprocessData(raw_df):\n",
    "    ndarray = raw_df.values\n",
    "    Label = ndarray[:, 0]\n",
    "    Features = ndarray[:,1:]\n",
    "    minmax_scale = preprocessing.MinMaxScaler(feature_range=(0, 1))\n",
    "    scaledFeatures=minmax_scale.fit_transform(Features)\n",
    "    return scaledFeatures,Label"
   ]
  },
  {
   "cell_type": "code",
   "execution_count": 89,
   "metadata": {},
   "outputs": [
    {
     "data": {
      "text/plain": [
       "(2851, 35)"
      ]
     },
     "execution_count": 89,
     "metadata": {},
     "output_type": "execute_result"
    }
   ],
   "source": [
    "train_Features,train_Label=PreprocessData(train_df)\n",
    "train_Features.shape"
   ]
  },
  {
   "cell_type": "code",
   "execution_count": 90,
   "metadata": {},
   "outputs": [
    {
     "data": {
      "text/plain": [
       "(715, 35)"
      ]
     },
     "execution_count": 90,
     "metadata": {},
     "output_type": "execute_result"
    }
   ],
   "source": [
    "test_Features,test_Label=PreprocessData(test_df)\n",
    "test_Features.shape"
   ]
  },
  {
   "cell_type": "code",
   "execution_count": 91,
   "metadata": {},
   "outputs": [
    {
     "data": {
      "text/plain": [
       "array([[0.55045667, 0.04391268, 0.71243006, 0.31862931, 0.09612104,\n",
       "        0.03204035, 0.02679977, 0.82352941, 0.        , 0.26868453,\n",
       "        0.        , 0.37632351, 0.10842325, 0.        , 1.        ,\n",
       "        0.55670103, 0.        , 0.01694588, 0.12685185, 0.5       ,\n",
       "        0.17089279, 0.14347826, 0.        , 0.        , 0.        ,\n",
       "        0.        , 0.        , 1.        , 0.        , 0.        ,\n",
       "        0.        , 0.        , 0.        , 0.        , 0.        ]])"
      ]
     },
     "execution_count": 91,
     "metadata": {},
     "output_type": "execute_result"
    }
   ],
   "source": [
    "test_Features[:1]"
   ]
  },
  {
   "cell_type": "code",
   "execution_count": null,
   "metadata": {},
   "outputs": [],
   "source": []
  },
  {
   "cell_type": "code",
   "execution_count": 92,
   "metadata": {},
   "outputs": [
    {
     "data": {
      "text/plain": [
       "array([[0.77382544, 0.01272487, 0.67647059, 0.20946292, 0.04960254,\n",
       "        0.02480127, 0.02113253, 0.91666667, 0.        , 0.2155878 ,\n",
       "        0.        , 0.39591215, 0.0189412 , 0.        , 1.        ,\n",
       "        0.24      , 0.        , 0.06336523, 0.05149299, 0.38095238,\n",
       "        0.15294118, 0.07912957, 0.        , 1.        , 0.        ,\n",
       "        0.        , 0.        , 0.        , 0.        , 0.        ,\n",
       "        0.        , 0.        , 0.        , 0.        , 0.        ]])"
      ]
     },
     "execution_count": 92,
     "metadata": {},
     "output_type": "execute_result"
    }
   ],
   "source": [
    "train_Features[:1]"
   ]
  },
  {
   "cell_type": "code",
   "execution_count": 93,
   "metadata": {},
   "outputs": [
    {
     "name": "stdout",
     "output_type": "stream",
     "text": [
      "Train on 2565 samples, validate on 286 samples\n",
      "Epoch 1/15\n",
      " - 0s - loss: 0.6831 - acc: 0.6253 - val_loss: 0.6448 - val_acc: 0.6713\n",
      "Epoch 2/15\n",
      " - 0s - loss: 0.6102 - acc: 0.6756 - val_loss: 0.5726 - val_acc: 0.6958\n",
      "Epoch 3/15\n",
      " - 0s - loss: 0.5942 - acc: 0.6834 - val_loss: 0.5606 - val_acc: 0.7203\n",
      "Epoch 4/15\n",
      " - 0s - loss: 0.5901 - acc: 0.6936 - val_loss: 0.5566 - val_acc: 0.7238\n",
      "Epoch 5/15\n",
      " - 0s - loss: 0.5858 - acc: 0.6975 - val_loss: 0.5535 - val_acc: 0.7308\n",
      "Epoch 6/15\n",
      " - 0s - loss: 0.5844 - acc: 0.6901 - val_loss: 0.5552 - val_acc: 0.7203\n",
      "Epoch 7/15\n",
      " - 0s - loss: 0.5858 - acc: 0.6904 - val_loss: 0.5515 - val_acc: 0.7273\n",
      "Epoch 8/15\n",
      " - 0s - loss: 0.5802 - acc: 0.7025 - val_loss: 0.5571 - val_acc: 0.7028\n",
      "Epoch 9/15\n",
      " - 0s - loss: 0.5784 - acc: 0.7041 - val_loss: 0.5478 - val_acc: 0.7378\n",
      "Epoch 10/15\n",
      " - 0s - loss: 0.5762 - acc: 0.7057 - val_loss: 0.5517 - val_acc: 0.7273\n",
      "Epoch 11/15\n",
      " - 0s - loss: 0.5765 - acc: 0.7041 - val_loss: 0.5453 - val_acc: 0.7273\n",
      "Epoch 12/15\n",
      " - 0s - loss: 0.5744 - acc: 0.7025 - val_loss: 0.5434 - val_acc: 0.7343\n",
      "Epoch 13/15\n",
      " - 0s - loss: 0.5744 - acc: 0.7068 - val_loss: 0.5460 - val_acc: 0.7413\n",
      "Epoch 14/15\n",
      " - 0s - loss: 0.5718 - acc: 0.7111 - val_loss: 0.5463 - val_acc: 0.7378\n",
      "Epoch 15/15\n",
      " - 0s - loss: 0.5695 - acc: 0.7053 - val_loss: 0.5493 - val_acc: 0.7378\n"
     ]
    }
   ],
   "source": [
    "from keras.models import Sequential\n",
    "from keras.layers import Dense,Dropout\n",
    "\n",
    "model = Sequential()\n",
    "model.add(Dense(units=40, input_dim=35, \n",
    "                kernel_initializer='uniform', \n",
    "                activation='relu'))\n",
    "model.add(Dense(units=30, \n",
    "                kernel_initializer='uniform', \n",
    "                activation='relu'))\n",
    "model.add(Dense(units=1, \n",
    "                kernel_initializer='uniform',\n",
    "                activation='sigmoid'))\n",
    "model.compile(loss='binary_crossentropy', \n",
    "              optimizer='adam', metrics=['accuracy'])\n",
    "train_history =model.fit(x=train_Features, \n",
    "                         y=train_Label, \n",
    "                         validation_split=0.1, \n",
    "                         epochs=15, \n",
    "                         batch_size=30,verbose=2)"
   ]
  },
  {
   "cell_type": "code",
   "execution_count": 94,
   "metadata": {},
   "outputs": [
    {
     "data": {
      "image/png": "[encoded data removed]",
      "text/plain": [
       "<Figure size 432x288 with 1 Axes>"
      ]
     },
     "metadata": {},
     "output_type": "display_data"
    }
   ],
   "source": [
    "import matplotlib.pyplot as plt\n",
    "def show_train_history(train_history,train,validation):\n",
    "    plt.plot(train_history.history[train])\n",
    "    plt.plot(train_history.history[validation])\n",
    "    plt.title('Train History')\n",
    "    plt.ylabel(train)\n",
    "    plt.xlabel('Epoch')\n",
    "    plt.legend(['train', 'validation'], loc='upper left')\n",
    "    plt.show()\n",
    "    \n",
    "show_train_history(train_history,'acc','val_acc')"
   ]
  },
  {
   "cell_type": "code",
   "execution_count": 95,
   "metadata": {},
   "outputs": [
    {
     "data": {
      "image/png": "[encoded data removed]",
      "text/plain": [
       "<Figure size 432x288 with 1 Axes>"
      ]
     },
     "metadata": {},
     "output_type": "display_data"
    }
   ],
   "source": [
    "show_train_history(train_history,'loss','val_loss')"
   ]
  },
  {
   "cell_type": "code",
   "execution_count": 96,
   "metadata": {},
   "outputs": [
    {
     "name": "stdout",
     "output_type": "stream",
     "text": [
      "715/715 [==============================] - 0s 21us/step\n"
     ]
    },
    {
     "data": {
      "text/plain": [
       "0.58741258774604"
      ]
     },
     "execution_count": 96,
     "metadata": {},
     "output_type": "execute_result"
    }
   ],
   "source": [
    "scores = model.evaluate(x=test_Features, \n",
    "                        y=test_Label)\n",
    "scores[1]\n",
    "#MLP準確率過低"
   ]
  }
 ],
 "metadata": {
  "kernelspec": {
   "display_name": "Python 3",
   "language": "python",
   "name": "python3"
  },
  "language_info": {
   "codemirror_mode": {
    "name": "ipython",
    "version": 3
   },
   "file_extension": ".py",
   "mimetype": "text/x-python",
   "name": "python",
   "nbconvert_exporter": "python",
   "pygments_lexer": "ipython3",
   "version": "3.5.5"
  }
 },
 "nbformat": 4,
 "nbformat_minor": 2
}
