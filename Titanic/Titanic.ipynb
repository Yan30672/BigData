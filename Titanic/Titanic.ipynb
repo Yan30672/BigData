{
 "cells": [
  {
   "cell_type": "markdown",
   "metadata": {},
   "source": [
    "# 執行模式"
   ]
  },
  {
   "cell_type": "code",
   "execution_count": 80,
   "metadata": {
    "collapsed": false
   },
   "outputs": [
    {
     "data": {
      "text/plain": [
       "u'local[*]'"
      ]
     },
     "execution_count": 80,
     "metadata": {},
     "output_type": "execute_result"
    }
   ],
   "source": [
    "sc.master"
   ]
  },
  {
   "cell_type": "markdown",
   "metadata": {},
   "source": [
    "# 資料準備"
   ]
  },
  {
   "cell_type": "code",
   "execution_count": 81,
   "metadata": {
    "collapsed": true
   },
   "outputs": [],
   "source": [
    "#讀取資料\n",
    "global Path    \n",
    "if sc.master[0:5]==\"local\" :\n",
    "   Path=\"file:/home/hduser/pythonsparkexample/PythonProject/\"\n",
    "else:   \n",
    "   Path=\"hdfs://master:9000/user/hduser/\""
   ]
  },
  {
   "cell_type": "code",
   "execution_count": 82,
   "metadata": {
    "collapsed": false,
    "scrolled": true
   },
   "outputs": [
    {
     "name": "stdout",
     "output_type": "stream",
     "text": [
      "開始匯入資料...\n"
     ]
    },
    {
     "data": {
      "text/plain": [
       "[u'PassengerId,Survived,Pclass,Name,Sex,Age,SibSp,Parch,Ticket,Fare,Cabin,Embarked',\n",
       " u'1,0,3,\"Braund, Mr. Owen Harris\",male,22,1,0,A/5 21171,7.25,,S']"
      ]
     },
     "execution_count": 82,
     "metadata": {},
     "output_type": "execute_result"
    }
   ],
   "source": [
    "#觀察資料型態\n",
    "#Name無用, Sex and Embraked需要轉換成數值, Age and Cabin轉成float, ,SibSp and Parch有參考價值\n",
    "print(\"開始匯入資料...\")\n",
    "rawDataWithHeader = sc.textFile(Path+\"data/train.csv\")\n",
    "rawDataWithHeader.take(2)"
   ]
  },
  {
   "cell_type": "code",
   "execution_count": 83,
   "metadata": {
    "collapsed": false
   },
   "outputs": [
    {
     "name": "stdout",
     "output_type": "stream",
     "text": [
      "開始匯入資料...\n",
      "共計：891筆\n"
     ]
    }
   ],
   "source": [
    "#將資料整理成label與特徵欄位\n",
    "print(\"開始匯入資料...\")\n",
    "rawDataWithHeader = sc.textFile(Path+\"data/train.csv\")\n",
    "header = rawDataWithHeader.first() \n",
    "rawData = rawDataWithHeader.filter(lambda x:x !=header)\n",
    "lines = rawData.map(lambda x: x.split(\",\"))\n",
    "newline = lines.map(lambda x: x[:3]+x[5:11]+[x[-1]])\n",
    "print(\"共計：\" + str(lines.count()) + \"筆\")"
   ]
  },
  {
   "cell_type": "code",
   "execution_count": 84,
   "metadata": {
    "collapsed": false
   },
   "outputs": [
    {
     "data": {
      "text/plain": [
       "[u'\"Braund', u' Mr. Owen Harris\"']"
      ]
     },
     "execution_count": 84,
     "metadata": {},
     "output_type": "execute_result"
    }
   ],
   "source": [
    "#第三和第四欄為名字，無參考價值，Cabin亦無參考價值\n",
    "lines.take(1)[0][3:5]"
   ]
  },
  {
   "cell_type": "code",
   "execution_count": 85,
   "metadata": {
    "collapsed": false
   },
   "outputs": [
    {
     "data": {
      "text/plain": [
       "[[u'1', u'0', u'3', u'male', u'22', u'1', u'0', u'A/5 21171', u'7.25', u'S']]"
      ]
     },
     "execution_count": 85,
     "metadata": {},
     "output_type": "execute_result"
    }
   ],
   "source": [
    "#資料只包含標籤與特徵欄位\n",
    "newline.take(1)"
   ]
  },
  {
   "cell_type": "code",
   "execution_count": 86,
   "metadata": {
    "collapsed": false
   },
   "outputs": [
    {
     "data": {
      "text/plain": [
       "{u'': 1, u'C': 3, u'Q': 0, u'S': 2}"
      ]
     },
     "execution_count": 86,
     "metadata": {},
     "output_type": "execute_result"
    }
   ],
   "source": [
    "categoriesMap = newline.map(lambda x:x[-1]).distinct().zipWithIndex().collectAsMap()\n",
    "categoriesMap"
   ]
  },
  {
   "cell_type": "code",
   "execution_count": 87,
   "metadata": {
    "collapsed": false
   },
   "outputs": [
    {
     "data": {
      "text/plain": [
       "4"
      ]
     },
     "execution_count": 87,
     "metadata": {},
     "output_type": "execute_result"
    }
   ],
   "source": [
    "len(categoriesMap)"
   ]
  },
  {
   "cell_type": "code",
   "execution_count": 88,
   "metadata": {
    "collapsed": false
   },
   "outputs": [
    {
     "data": {
      "text/plain": [
       "dict"
      ]
     },
     "execution_count": 88,
     "metadata": {},
     "output_type": "execute_result"
    }
   ],
   "source": [
    "type(categoriesMap)"
   ]
  },
  {
   "cell_type": "code",
   "execution_count": 89,
   "metadata": {
    "collapsed": false
   },
   "outputs": [],
   "source": [
    "#擷取特徵欄位Sex, Embarked\n",
    "import numpy as np\n",
    "#將Sex轉換為數值（male=1, female=0）\n",
    "def genderIndex(x):\n",
    "    if x==\"male\":\n",
    "        return 1\n",
    "    else:\n",
    "        return 0\n",
    "    \n",
    "def convert_float(x):\n",
    "    if x ==\"\":\n",
    "        return 0\n",
    "    else:\n",
    "        return float(x)\n",
    "    \n",
    "def embarkedIdx(x):\n",
    "    if x[-1]==\"C\":\n",
    "        return 1\n",
    "    elif x[-1]==\"Q\":\n",
    "        return 2\n",
    "    else:\n",
    "        return 3\n",
    "\n",
    "#收集特徵\n",
    "def extract_features(x):\n",
    "    categoryFeatures = np.zeros(4)\n",
    "    categoryFeatures[0] = genderIndex(x[3])\n",
    "    if len(x[-1]) != 0:\n",
    "        categoryFeatures[embarkedIdx(x)] = 1\n",
    "    else:\n",
    "        pass\n",
    "    numericalFeatures=[x[2], convert_float(x[4]), x[5], x[6], convert_float(x[8])]\n",
    "    return np.concatenate((categoryFeatures, numericalFeatures))\n",
    "    \n",
    "def extract_label(x):\n",
    "    label = x[1]\n",
    "    return float(label)\n",
    "\n",
    "from pyspark.mllib.regression import LabeledPoint\n",
    "\n",
    "labelpointRDD = newline.map(lambda r: LabeledPoint(extract_label(r), extract_features(r)))"
   ]
  },
  {
   "cell_type": "code",
   "execution_count": 90,
   "metadata": {
    "collapsed": false
   },
   "outputs": [
    {
     "data": {
      "text/plain": [
       "[LabeledPoint(0.0, [1.0,0.0,0.0,1.0,3.0,22.0,1.0,0.0,7.25]),\n",
       " LabeledPoint(1.0, [0.0,1.0,0.0,0.0,1.0,38.0,1.0,0.0,71.2833]),\n",
       " LabeledPoint(1.0, [0.0,0.0,0.0,1.0,3.0,26.0,0.0,0.0,7.925]),\n",
       " LabeledPoint(1.0, [0.0,0.0,0.0,1.0,1.0,35.0,1.0,0.0,53.1]),\n",
       " LabeledPoint(0.0, [1.0,0.0,0.0,1.0,3.0,35.0,0.0,0.0,8.05]),\n",
       " LabeledPoint(0.0, [1.0,0.0,1.0,0.0,3.0,0.0,0.0,0.0,8.4583]),\n",
       " LabeledPoint(0.0, [1.0,0.0,0.0,1.0,1.0,54.0,0.0,0.0,51.8625]),\n",
       " LabeledPoint(0.0, [1.0,0.0,0.0,1.0,3.0,2.0,3.0,1.0,21.075]),\n",
       " LabeledPoint(1.0, [0.0,0.0,0.0,1.0,3.0,27.0,0.0,2.0,11.1333]),\n",
       " LabeledPoint(1.0, [0.0,1.0,0.0,0.0,2.0,14.0,1.0,0.0,30.0708])]"
      ]
     },
     "execution_count": 90,
     "metadata": {},
     "output_type": "execute_result"
    }
   ],
   "source": [
    "#將整理的資料儲存成labeledPointRDD\n",
    "labelpointRDD.take(10)"
   ]
  },
  {
   "cell_type": "code",
   "execution_count": 91,
   "metadata": {
    "collapsed": false
   },
   "outputs": [
    {
     "name": "stdout",
     "output_type": "stream",
     "text": [
      "將資料分trainData:725   validationData:71   testData:95\n"
     ]
    }
   ],
   "source": [
    "(trainData, validationData, testData) = labelpointRDD.randomSplit([8, 1, 1])\n",
    "print(\"將資料分trainData:\" + str(trainData.count()) +   \n",
    "          \"   validationData:\" + str(validationData.count()) + \n",
    "          \"   testData:\" + str(testData.count()))\n"
   ]
  },
  {
   "cell_type": "code",
   "execution_count": 92,
   "metadata": {
    "collapsed": false
   },
   "outputs": [
    {
     "name": "stdout",
     "output_type": "stream",
     "text": [
      "開始匯入資料...\n",
      "共計：891筆\n",
      "將資料分為trainData:721   validationData:84   testData:86\n"
     ]
    },
    {
     "data": {
      "text/plain": [
       "PythonRDD[242] at RDD at PythonRDD.scala:48"
      ]
     },
     "execution_count": 92,
     "metadata": {},
     "output_type": "execute_result"
    }
   ],
   "source": [
    "#資料準備\n",
    "from pyspark.mllib.regression import LabeledPoint\n",
    "import numpy as np\n",
    "#將Sex轉換為數值（male=0, female=1）\n",
    "def genderIndex(x):\n",
    "    if x==\"male\":\n",
    "        return 1\n",
    "    else:\n",
    "        return 0\n",
    "\n",
    "def embarkedIdx(x):\n",
    "    if x[-1]==\"C\":\n",
    "        return 1\n",
    "    elif x[-1]==\"Q\":\n",
    "        return 2\n",
    "    else:\n",
    "        return 3\n",
    "    \n",
    "def convert_float(x):\n",
    "    if x ==\"\":\n",
    "        return 0\n",
    "    else:\n",
    "        return float(x)\n",
    "\n",
    "#收集特徵\n",
    "def extract_features(x):\n",
    "    categoryFeatures = np.zeros(4)\n",
    "    categoryFeatures[0] = genderIndex(x[3])\n",
    "    if len(x[-1]) != 0:\n",
    "        categoryFeatures[embarkedIdx(x)] = 1\n",
    "    else:\n",
    "        pass\n",
    "    numericalFeatures=[x[2], convert_float(x[4]), x[5], x[6], convert_float(x[8])]\n",
    "    return np.concatenate((categoryFeatures, numericalFeatures))\n",
    "    \n",
    "def extract_label(x):\n",
    "    label = x[1]\n",
    "    return float(label)\n",
    "\n",
    "def PrepareData(sc): \n",
    "    #----------------------1.匯入並轉換資料-------------\n",
    "    global Path    \n",
    "    if sc.master[0:5]==\"local\" :\n",
    "       Path=\"file:/home/hduser/pythonsparkexample/PythonProject/\"\n",
    "    else:   \n",
    "       Path=\"hdfs://master:9000/user/hduser/\"\n",
    "\n",
    "    print(\"開始匯入資料...\")\n",
    "    rawDataWithHeader = sc.textFile(Path+\"data/train.csv\")\n",
    "    header = rawDataWithHeader.first() \n",
    "    rawData = rawDataWithHeader.filter(lambda x:x !=header)\n",
    "    lines = rawData.map(lambda x: x.split(\",\"))\n",
    "    newline = lines.map(lambda x: x[:3]+x[5:])\n",
    "    print(\"共計：\" + str(lines.count()) + \"筆\")\n",
    "    #----------2.建立訓練評估所需資料 RDD[LabeledPoint]-------    \n",
    "    labelpointRDD = newline.map(lambda r: LabeledPoint(extract_label(r), extract_features(r)))\n",
    "        \n",
    "    #-----------3.以隨機方式將資料分為3部份並且回傳-------------\n",
    "    (trainData, validationData, testData) = labelpointRDD.randomSplit([8, 1, 1])\n",
    "    print(\"將資料分為trainData:\" + str(trainData.count()) + \n",
    "              \"   validationData:\" + str(validationData.count()) +\n",
    "              \"   testData:\" + str(testData.count()))\n",
    "    return (trainData, validationData, testData) #回傳資料\n",
    "\n",
    "(trainData, validationData, testData) =PrepareData(sc)\n",
    "trainData.persist()\n",
    "validationData.persist()\n",
    "testData.persist()"
   ]
  },
  {
   "cell_type": "markdown",
   "metadata": {},
   "source": [
    "# 訓練模型與預測資料"
   ]
  },
  {
   "cell_type": "code",
   "execution_count": 93,
   "metadata": {
    "collapsed": false,
    "scrolled": true
   },
   "outputs": [
    {
     "name": "stdout",
     "output_type": "stream",
     "text": [
      "==========預測資料===============\n",
      "開始匯入資料...\n",
      "共計：418筆\n",
      " 名單編號：  892\n",
      "             ==>預測:0.0 說明:死亡\n",
      "\n",
      " 名單編號：  893\n",
      "             ==>預測:0.0 說明:死亡\n",
      "\n",
      " 名單編號：  894\n",
      "             ==>預測:0.0 說明:死亡\n",
      "\n",
      " 名單編號：  895\n",
      "             ==>預測:0.0 說明:死亡\n",
      "\n",
      " 名單編號：  896\n",
      "             ==>預測:1.0 說明:倖存\n",
      "\n",
      " 名單編號：  897\n",
      "             ==>預測:0.0 說明:死亡\n",
      "\n",
      " 名單編號：  898\n",
      "             ==>預測:0.0 說明:死亡\n",
      "\n",
      " 名單編號：  899\n",
      "             ==>預測:0.0 說明:死亡\n",
      "\n",
      " 名單編號：  900\n",
      "             ==>預測:1.0 說明:倖存\n",
      "\n",
      " 名單編號：  901\n",
      "             ==>預測:0.0 說明:死亡\n",
      "\n"
     ]
    }
   ],
   "source": [
    "from pyspark.mllib.tree import DecisionTree\n",
    "from pyspark.mllib.regression import LabeledPoint\n",
    "import csv\n",
    "\n",
    "model=DecisionTree.trainClassifier( \\\n",
    "        trainData, numClasses=2, categoricalFeaturesInfo={}, \\\n",
    "        impurity=\"entropy\", maxDepth=5, maxBins=5)\n",
    "\n",
    "#testdata沒有label欄位，所以選取特徵都必須往前挪一欄\n",
    "\n",
    "def extract_features1(x):\n",
    "    categoryFeatures = np.zeros(4)\n",
    "    categoryFeatures[0] = genderIndex(x[2])\n",
    "    if len(x[-1]) != 0:\n",
    "        categoryFeatures[embarkedIdx(x)] = 1\n",
    "    else:\n",
    "        pass\n",
    "    numericalFeatures=[x[1], convert_float(x[3]), x[4], x[5], convert_float(x[7])]\n",
    "    return np.concatenate((categoryFeatures, numericalFeatures))\n",
    "\n",
    "def PredictData(sc,model): \n",
    "    print(\"開始匯入資料...\")\n",
    "    rawDataWithHeader = sc.textFile(Path+\"data/test.csv\")\n",
    "    header = rawDataWithHeader.first() \n",
    "    rawData = rawDataWithHeader.filter(lambda x:x !=header)\n",
    "    lines = rawData.map(lambda x: x.split(\",\"))\n",
    "    newline = lines.map(lambda x: x[:2]+x[4:])\n",
    "    print(\"共計：\" + str(newline.count()) + \"筆\")\n",
    "    dataRDD = newline.map(lambda r:(r[0], extract_features1(r)))\n",
    "    DescDict = {\n",
    "           0: \"死亡\",\n",
    "           1: \"倖存\"\n",
    "     }\n",
    "    for data in dataRDD.take(10):\n",
    "        predictResult = model.predict(data[1])\n",
    "        print \" 名單編號：  \" +str(data[0])+\"\\n\" +\\\n",
    "                  \"             ==>預測:\"+ str(predictResult)+ \\\n",
    "                  \" 說明:\"+DescDict[predictResult] +\"\\n\"\n",
    "    num = dataRDD.count()\n",
    "    predictions = [(str(data[0]), int(model.predict(data[1]))) for data in dataRDD.take(num)]\n",
    "    with open(\"prediction.csv\", \"w\") as f:\n",
    "        cw = csv.writer(f)\n",
    "        cw.writerows(r for r in predictions)\n",
    "        \n",
    "\n",
    "print(\"==========預測資料===============\")\n",
    "PredictData(sc, model)   "
   ]
  },
  {
   "cell_type": "markdown",
   "metadata": {},
   "source": [
    "# 評估模型的準確率"
   ]
  },
  {
   "cell_type": "code",
   "execution_count": 94,
   "metadata": {
    "collapsed": false
   },
   "outputs": [
    {
     "data": {
      "text/plain": [
       "[(0.0, 0.0), (0.0, 0.0), (1.0, 1.0), (0.0, 0.0), (0.0, 0.0)]"
      ]
     },
     "execution_count": 94,
     "metadata": {},
     "output_type": "execute_result"
    }
   ],
   "source": [
    "score = model.predict(validationData.map(lambda p: p.features))\n",
    "scoreAndLabels=score.zip(validationData.map(lambda p: p.label))\n",
    "scoreAndLabels.take(5)"
   ]
  },
  {
   "cell_type": "code",
   "execution_count": 95,
   "metadata": {
    "collapsed": false
   },
   "outputs": [
    {
     "name": "stdout",
     "output_type": "stream",
     "text": [
      "AUC=0.898148148148\n"
     ]
    }
   ],
   "source": [
    "from pyspark.mllib.evaluation import BinaryClassificationMetrics\n",
    "metrics = BinaryClassificationMetrics(scoreAndLabels)\n",
    "print \"AUC=\"+str(metrics.areaUnderROC)"
   ]
  },
  {
   "cell_type": "code",
   "execution_count": 96,
   "metadata": {
    "collapsed": true
   },
   "outputs": [],
   "source": [
    "def evaluateModel(model, validationData):\n",
    "    score = model.predict(validationData.map(lambda p: p.features))\n",
    "    scoreAndLabels=score.zip(validationData.map(lambda p: p.label))\n",
    "    metrics = BinaryClassificationMetrics(scoreAndLabels)\n",
    "    AUC=metrics.areaUnderROC\n",
    "    return( AUC)"
   ]
  },
  {
   "cell_type": "code",
   "execution_count": 97,
   "metadata": {
    "collapsed": false
   },
   "outputs": [
    {
     "name": "stdout",
     "output_type": "stream",
     "text": [
      "AUC=0.898148148148\n"
     ]
    }
   ],
   "source": [
    "AUC=evaluateModel(model, validationData)\n",
    "print \"AUC=\"+str(AUC)"
   ]
  },
  {
   "cell_type": "code",
   "execution_count": 98,
   "metadata": {
    "collapsed": false
   },
   "outputs": [
    {
     "name": "stdout",
     "output_type": "stream",
     "text": [
      "訓練評估：使用參數 impurity=entropy maxDepth=5 maxBins=5\n",
      " ==>所需時間=3.4222779274 結果AUC = 0.898148148148\n",
      "訓練評估：使用參數 impurity=entropy maxDepth=5 maxBins=5\n",
      " ==>所需時間=2.05824804306 結果AUC = 0.734649122807\n"
     ]
    }
   ],
   "source": [
    "from time import time\n",
    "def trainEvaluateModel(trainData,validationData,\n",
    "                                        impurityParm, maxDepthParm, maxBinsParm):\n",
    "    startTime = time()\n",
    "    model = DecisionTree.trainClassifier(trainData,\n",
    "                numClasses=2, categoricalFeaturesInfo={}, impurity=impurityParm,\n",
    "                maxDepth=maxDepthParm, maxBins=maxBinsParm)\n",
    "    AUC = evaluateModel(model, validationData)\n",
    "    duration = time() - startTime\n",
    "    print    \"訓練評估：使用參數\" + \\\n",
    "                \" impurity=\"+str(impurityParm) +\\\n",
    "                \" maxDepth=\"+str(maxDepthParm) + \\\n",
    "                \" maxBins=\"+str(maxBinsParm) +\"\\n\" +\\\n",
    "                 \" ==>所需時間=\"+str(duration) + \\\n",
    "                 \" 結果AUC = \" + str(AUC) \n",
    "    return (AUC,duration, impurityParm, maxDepthParm, maxBinsParm,model)\n",
    "(AUC,duration, impurityParm, maxDepthParm, maxBinsParm,model)=  \\\n",
    "       trainEvaluateModel(trainData, validationData, \"entropy\", 5, 5)\n",
    "(AUC,duration, impurityParm, maxDepthParm, maxBinsParm,model)=  \\\n",
    "       trainEvaluateModel(trainData, testData, \"entropy\", 5, 5)"
   ]
  },
  {
   "cell_type": "code",
   "execution_count": 99,
   "metadata": {
    "collapsed": false
   },
   "outputs": [
    {
     "name": "stdout",
     "output_type": "stream",
     "text": [
      "訓練評估：使用參數 impurity=gini maxDepth=10 maxBins=10\n",
      " ==>所需時間=2.76986193657 結果AUC = 0.812962962963\n",
      "訓練評估：使用參數 impurity=entropy maxDepth=10 maxBins=10\n",
      " ==>所需時間=1.77896308899 結果AUC = 0.82962962963\n"
     ]
    }
   ],
   "source": [
    "#測試gini and entropy何者較佳\n",
    "impurityList=[\"gini\", \"entropy\"]\n",
    "maxDepthList  =[10]\n",
    "maxBinsList=[10 ]\n",
    "\n",
    "metrics = [trainEvaluateModel(trainData, validationData,  \n",
    "                              impurity,maxDepth,  maxBins  ) \n",
    "                 for impurity in impurityList \n",
    "                 for maxDepth in maxDepthList  \n",
    "                 for maxBins in maxBinsList ]"
   ]
  },
  {
   "cell_type": "code",
   "execution_count": 100,
   "metadata": {
    "collapsed": false
   },
   "outputs": [
    {
     "data": {
      "text/plain": [
       "[(0.8129629629629629,\n",
       "  2.769861936569214,\n",
       "  'gini',\n",
       "  10,\n",
       "  10,\n",
       "  DecisionTreeModel classifier of depth 10 with 279 nodes),\n",
       " (0.8296296296296296,\n",
       "  1.7789630889892578,\n",
       "  'entropy',\n",
       "  10,\n",
       "  10,\n",
       "  DecisionTreeModel classifier of depth 10 with 265 nodes)]"
      ]
     },
     "execution_count": 100,
     "metadata": {},
     "output_type": "execute_result"
    }
   ],
   "source": [
    "#AUC, duration, impurity, maxDepth, maxBins, model\n",
    "metrics"
   ]
  },
  {
   "cell_type": "code",
   "execution_count": 101,
   "metadata": {
    "collapsed": false
   },
   "outputs": [
    {
     "data": {
      "text/html": [
       "<div>\n",
       "<table border=\"1\" class=\"dataframe\">\n",
       "  <thead>\n",
       "    <tr style=\"text-align: right;\">\n",
       "      <th></th>\n",
       "      <th>AUC</th>\n",
       "      <th>duration</th>\n",
       "      <th>impurity</th>\n",
       "      <th>maxDepth</th>\n",
       "      <th>maxBins</th>\n",
       "      <th>model</th>\n",
       "    </tr>\n",
       "  </thead>\n",
       "  <tbody>\n",
       "    <tr>\n",
       "      <th>gini</th>\n",
       "      <td>0.812963</td>\n",
       "      <td>2.769862</td>\n",
       "      <td>gini</td>\n",
       "      <td>10</td>\n",
       "      <td>10</td>\n",
       "      <td>DecisionTreeModel classifier of depth 10 with ...</td>\n",
       "    </tr>\n",
       "    <tr>\n",
       "      <th>entropy</th>\n",
       "      <td>0.829630</td>\n",
       "      <td>1.778963</td>\n",
       "      <td>entropy</td>\n",
       "      <td>10</td>\n",
       "      <td>10</td>\n",
       "      <td>DecisionTreeModel classifier of depth 10 with ...</td>\n",
       "    </tr>\n",
       "  </tbody>\n",
       "</table>\n",
       "</div>"
      ],
      "text/plain": [
       "              AUC  duration impurity  maxDepth  maxBins  \\\n",
       "gini     0.812963  2.769862     gini        10       10   \n",
       "entropy  0.829630  1.778963  entropy        10       10   \n",
       "\n",
       "                                                     model  \n",
       "gini     DecisionTreeModel classifier of depth 10 with ...  \n",
       "entropy  DecisionTreeModel classifier of depth 10 with ...  "
      ]
     },
     "execution_count": 101,
     "metadata": {},
     "output_type": "execute_result"
    }
   ],
   "source": [
    "import pandas as pd\n",
    "IndexList=impurityList\n",
    "df = pd.DataFrame(metrics,index=IndexList,\n",
    "            columns=['AUC', 'duration','impurity', 'maxDepth', 'maxBins','model'])\n",
    "df"
   ]
  },
  {
   "cell_type": "code",
   "execution_count": 113,
   "metadata": {
    "collapsed": false
   },
   "outputs": [
    {
     "data": {
      "image/png": "[encoded data removed]",
      "text/plain": [
       "<matplotlib.figure.Figure at 0x7efeb4c30ed0>"
      ]
     },
     "metadata": {},
     "output_type": "display_data"
    }
   ],
   "source": [
    "import matplotlib.pyplot as plt\n",
    "%matplotlib inline \n",
    "evalparm='impurity'\n",
    "ax = df['AUC'].plot(kind='bar', title =evalparm,figsize=(10,6),\n",
    "                legend=True, fontsize=12)\n",
    "ax.set_xlabel(evalparm,fontsize=12)\n",
    "ax.set_ylim([0.6,0.85])\n",
    "ax.set_ylabel(\"AUC\",fontsize=12)\n",
    "ax2 = ax.twinx()\n",
    "ax2.plot(df['duration'].values, linestyle='-', marker='o', linewidth=2.0,color='r')\n",
    "plt.show()"
   ]
  },
  {
   "cell_type": "code",
   "execution_count": 103,
   "metadata": {
    "collapsed": true
   },
   "outputs": [],
   "source": [
    "import matplotlib.pyplot as plt\n",
    "def showchart(df,evalparm ,barData,lineData,yMin,yMax):\n",
    "    ax = df[barData].plot(kind='bar', title =evalparm,\n",
    "                                         figsize=(10,6),legend=True, fontsize=12)\n",
    "    ax.set_xlabel(evalparm,fontsize=12)\n",
    "    ax.set_ylim([yMin,yMax])\n",
    "    ax.set_ylabel(barData,fontsize=12)\n",
    "    ax2 = ax.twinx()\n",
    "    ax2.plot(df[lineData ].values, linestyle='-', marker='o',\n",
    "                    linewidth=2.0,color='r')\n",
    "    plt.show()"
   ]
  },
  {
   "cell_type": "code",
   "execution_count": 114,
   "metadata": {
    "collapsed": false
   },
   "outputs": [
    {
     "data": {
      "image/png": "[encoded data removed]",
      "text/plain": [
       "<matplotlib.figure.Figure at 0x7efeb4f0c910>"
      ]
     },
     "metadata": {},
     "output_type": "display_data"
    }
   ],
   "source": [
    "showchart(df,'impurity','AUC','duration',0.5,0.85 )"
   ]
  },
  {
   "cell_type": "markdown",
   "metadata": {},
   "source": [
    "# 找出最好的評估參數"
   ]
  },
  {
   "cell_type": "code",
   "execution_count": 118,
   "metadata": {
    "collapsed": true
   },
   "outputs": [],
   "source": [
    "#定義evalParameter函數\n",
    "def evalParameter(trainData, validationData, evalparm,\n",
    "                  impurityList, maxDepthList, maxBinsList):\n",
    "    #訓練評估參數\n",
    "    metrics = [trainEvaluateModel(trainData, validationData,  \n",
    "                                impurity,maxDepth,  maxBins  ) \n",
    "                       for impurity in impurityList\n",
    "                       for maxDepth in maxDepthList  \n",
    "                       for maxBins in maxBinsList ]\n",
    "    #設定目前評估的參數\n",
    "    if evalparm==\"impurity\":\n",
    "        IndexList=impurityList[:]\n",
    "    elif evalparm==\"maxDepth\":\n",
    "        IndexList=maxDepthList[:]\n",
    "    elif evalparm==\"maxBins\":\n",
    "        IndexList=maxBinsList[:]\n",
    "    #轉換為Pandas DataFrame\n",
    "    df = pd.DataFrame(metrics,index=IndexList,\n",
    "            columns=['AUC', 'duration','impurity', 'maxDepth', 'maxBins','model'])\n",
    "    #顯示圖形\n",
    "    showchart(df,evalparm,'AUC','duration',0.5,0.9 )"
   ]
  },
  {
   "cell_type": "code",
   "execution_count": 119,
   "metadata": {
    "collapsed": false
   },
   "outputs": [
    {
     "name": "stdout",
     "output_type": "stream",
     "text": [
      "訓練評估：使用參數 impurity=gini maxDepth=10 maxBins=10\n",
      " ==>所需時間=1.56891393661 結果AUC = 0.812962962963\n",
      "訓練評估：使用參數 impurity=entropy maxDepth=10 maxBins=10\n",
      " ==>所需時間=1.4875600338 結果AUC = 0.82962962963\n"
     ]
    },
    {
     "data": {
      "image/png": "[encoded data removed]",
      "text/plain": [
       "<matplotlib.figure.Figure at 0x7efeb5035b50>"
      ]
     },
     "metadata": {},
     "output_type": "display_data"
    }
   ],
   "source": [
    "evalParameter(trainData, validationData,\"impurity\", \n",
    "                              impurityList=[\"gini\", \"entropy\"],   \n",
    "                              maxDepthList=[10],  \n",
    "                              maxBinsList=[10 ])  "
   ]
  },
  {
   "cell_type": "code",
   "execution_count": 120,
   "metadata": {
    "collapsed": false
   },
   "outputs": [
    {
     "name": "stdout",
     "output_type": "stream",
     "text": [
      "訓練評估：使用參數 impurity=gini maxDepth=3 maxBins=10\n",
      " ==>所需時間=0.806505918503 結果AUC = 0.816666666667\n",
      "訓練評估：使用參數 impurity=gini maxDepth=5 maxBins=10\n",
      " ==>所需時間=0.860651016235 結果AUC = 0.866666666667\n",
      "訓練評估：使用參數 impurity=gini maxDepth=10 maxBins=10\n",
      " ==>所需時間=1.43497300148 結果AUC = 0.812962962963\n",
      "訓練評估：使用參數 impurity=gini maxDepth=15 maxBins=10\n",
      " ==>所需時間=0.9979429245 結果AUC = 0.812962962963\n",
      "訓練評估：使用參數 impurity=gini maxDepth=20 maxBins=10\n",
      " ==>所需時間=1.57853412628 結果AUC = 0.812962962963\n",
      "訓練評估：使用參數 impurity=gini maxDepth=25 maxBins=10\n",
      " ==>所需時間=1.91138601303 結果AUC = 0.812962962963\n"
     ]
    },
    {
     "data": {
      "image/png": "[encoded data removed]",
      "text/plain": [
       "<matplotlib.figure.Figure at 0x7efeb4a85fd0>"
      ]
     },
     "metadata": {},
     "output_type": "display_data"
    }
   ],
   "source": [
    "evalParameter(trainData, validationData,\"maxDepth\", \n",
    "                          impurityList=[\"gini\"],                    \n",
    "                          maxDepthList=[3, 5, 10, 15, 20, 25],    \n",
    "                          maxBinsList=[10])   "
   ]
  },
  {
   "cell_type": "code",
   "execution_count": 121,
   "metadata": {
    "collapsed": false
   },
   "outputs": [
    {
     "name": "stdout",
     "output_type": "stream",
     "text": [
      "訓練評估：使用參數 impurity=gini maxDepth=10 maxBins=3\n",
      " ==>所需時間=1.35019803047 結果AUC = 0.848148148148\n",
      "訓練評估：使用參數 impurity=gini maxDepth=10 maxBins=5\n",
      " ==>所需時間=1.63691997528 結果AUC = 0.844444444444\n",
      "訓練評估：使用參數 impurity=gini maxDepth=10 maxBins=10\n",
      " ==>所需時間=1.42515587807 結果AUC = 0.812962962963\n",
      "訓練評估：使用參數 impurity=gini maxDepth=10 maxBins=50\n",
      " ==>所需時間=1.12045502663 結果AUC = 0.855555555556\n",
      "訓練評估：使用參數 impurity=gini maxDepth=10 maxBins=100\n",
      " ==>所需時間=0.866549968719 結果AUC = 0.838888888889\n",
      "訓練評估：使用參數 impurity=gini maxDepth=10 maxBins=200\n",
      " ==>所需時間=0.896891832352 結果AUC = 0.864814814815\n"
     ]
    },
    {
     "data": {
      "image/png": "[encoded data removed]",
      "text/plain": [
       "<matplotlib.figure.Figure at 0x7efeb4965510>"
      ]
     },
     "metadata": {},
     "output_type": "display_data"
    }
   ],
   "source": [
    "evalParameter(trainData, validationData,\"maxBins\", \n",
    "                          impurityList=[\"gini\"],      \n",
    "                          maxDepthList =[10],        \n",
    "                          maxBinsList=[3, 5, 10, 50, 100, 200 ])"
   ]
  },
  {
   "cell_type": "code",
   "execution_count": 122,
   "metadata": {
    "collapsed": true
   },
   "outputs": [],
   "source": [
    "#定義evalAllParameter函數\n",
    "def evalAllParameter(trainData, validationData, \n",
    "                     impurityList, maxDepthList, maxBinsList):    \n",
    "    #for迴圈訓練評估所有參數組合\n",
    "    metrics = [trainEvaluateModel(trainData, validationData,  \n",
    "                            impurity,maxDepth,  maxBins  ) \n",
    "                      for impurity in impurityList \n",
    "                      for maxDepth in maxDepthList  \n",
    "                      for  maxBins in maxBinsList ]\n",
    "    #找出AUC最大的參數組合\n",
    "    Smetrics = sorted(metrics, key=lambda k: k[0], reverse=True)\n",
    "    bestParameter=Smetrics[0]\n",
    "    #顯示調校後最佳參數組合      \n",
    "    print(\"調校後最佳參數：impurity:\" + str(bestParameter[2]) + \n",
    "                                      \",maxDepth:\" + str(bestParameter[3]) + \n",
    "                                     \",maxBins:\" + str(bestParameter[4])   + \n",
    "                                      \"\\n,    結果AUC = \" + str(bestParameter[0]))\n",
    "    #傳回最佳模型\n",
    "    return bestParameter[5]"
   ]
  },
  {
   "cell_type": "code",
   "execution_count": 123,
   "metadata": {
    "collapsed": false
   },
   "outputs": [
    {
     "name": "stdout",
     "output_type": "stream",
     "text": [
      "-----所有參數訓練評估找出最好的參數組合---------\n",
      "訓練評估：使用參數 impurity=gini maxDepth=3 maxBins=3\n",
      " ==>所需時間=0.707546949387 結果AUC = 0.816666666667\n",
      "訓練評估：使用參數 impurity=gini maxDepth=3 maxBins=5\n",
      " ==>所需時間=0.853150844574 結果AUC = 0.816666666667\n",
      "訓練評估：使用參數 impurity=gini maxDepth=3 maxBins=10\n",
      " ==>所需時間=1.32136106491 結果AUC = 0.816666666667\n",
      "訓練評估：使用參數 impurity=gini maxDepth=3 maxBins=50\n",
      " ==>所需時間=1.15638208389 結果AUC = 0.855555555556\n",
      "訓練評估：使用參數 impurity=gini maxDepth=3 maxBins=100\n",
      " ==>所需時間=0.745249032974 結果AUC = 0.855555555556\n",
      "訓練評估：使用參數 impurity=gini maxDepth=3 maxBins=200\n",
      " ==>所需時間=0.730937957764 結果AUC = 0.855555555556\n",
      "訓練評估：使用參數 impurity=gini maxDepth=5 maxBins=3\n",
      " ==>所需時間=0.873770952225 結果AUC = 0.788888888889\n",
      "訓練評估：使用參數 impurity=gini maxDepth=5 maxBins=5\n",
      " ==>所需時間=0.731662988663 結果AUC = 0.809259259259\n",
      "訓練評估：使用參數 impurity=gini maxDepth=5 maxBins=10\n",
      " ==>所需時間=1.26180100441 結果AUC = 0.866666666667\n",
      "訓練評估：使用參數 impurity=gini maxDepth=5 maxBins=50\n",
      " ==>所需時間=0.837016820908 結果AUC = 0.840740740741\n",
      "訓練評估：使用參數 impurity=gini maxDepth=5 maxBins=100\n",
      " ==>所需時間=1.02505493164 結果AUC = 0.840740740741\n",
      "訓練評估：使用參數 impurity=gini maxDepth=5 maxBins=200\n",
      " ==>所需時間=1.11828184128 結果AUC = 0.840740740741\n",
      "訓練評估：使用參數 impurity=gini maxDepth=10 maxBins=3\n",
      " ==>所需時間=0.937415838242 結果AUC = 0.848148148148\n",
      "訓練評估：使用參數 impurity=gini maxDepth=10 maxBins=5\n",
      " ==>所需時間=0.917011976242 結果AUC = 0.844444444444\n",
      "訓練評估：使用參數 impurity=gini maxDepth=10 maxBins=10\n",
      " ==>所需時間=0.867399930954 結果AUC = 0.812962962963\n",
      "訓練評估：使用參數 impurity=gini maxDepth=10 maxBins=50\n",
      " ==>所需時間=1.27503085136 結果AUC = 0.855555555556\n",
      "訓練評估：使用參數 impurity=gini maxDepth=10 maxBins=100\n",
      " ==>所需時間=1.1104619503 結果AUC = 0.838888888889\n",
      "訓練評估：使用參數 impurity=gini maxDepth=10 maxBins=200\n",
      " ==>所需時間=0.935240983963 結果AUC = 0.864814814815\n",
      "訓練評估：使用參數 impurity=gini maxDepth=15 maxBins=3\n",
      " ==>所需時間=1.00582098961 結果AUC = 0.848148148148\n",
      "訓練評估：使用參數 impurity=gini maxDepth=15 maxBins=5\n",
      " ==>所需時間=1.18794393539 結果AUC = 0.844444444444\n",
      "訓練評估：使用參數 impurity=gini maxDepth=15 maxBins=10\n",
      " ==>所需時間=2.08777809143 結果AUC = 0.812962962963\n",
      "訓練評估：使用參數 impurity=gini maxDepth=15 maxBins=50\n",
      " ==>所需時間=1.7321190834 結果AUC = 0.87962962963\n",
      "訓練評估：使用參數 impurity=gini maxDepth=15 maxBins=100\n",
      " ==>所需時間=1.87459897995 結果AUC = 0.855555555556\n",
      "訓練評估：使用參數 impurity=gini maxDepth=15 maxBins=200\n",
      " ==>所需時間=1.36338305473 結果AUC = 0.82962962963\n",
      "訓練評估：使用參數 impurity=gini maxDepth=20 maxBins=3\n",
      " ==>所需時間=1.33585691452 結果AUC = 0.848148148148\n",
      "訓練評估：使用參數 impurity=gini maxDepth=20 maxBins=5\n",
      " ==>所需時間=2.03680801392 結果AUC = 0.844444444444\n",
      "訓練評估：使用參數 impurity=gini maxDepth=20 maxBins=10\n",
      " ==>所需時間=1.88328099251 結果AUC = 0.812962962963\n",
      "訓練評估：使用參數 impurity=gini maxDepth=20 maxBins=50\n",
      " ==>所需時間=1.84346008301 結果AUC = 0.87037037037\n",
      "訓練評估：使用參數 impurity=gini maxDepth=20 maxBins=100\n",
      " ==>所需時間=1.5770740509 結果AUC = 0.827777777778\n",
      "訓練評估：使用參數 impurity=gini maxDepth=20 maxBins=200\n",
      " ==>所需時間=1.19533801079 結果AUC = 0.838888888889\n",
      "訓練評估：使用參數 impurity=gini maxDepth=25 maxBins=3\n",
      " ==>所需時間=0.986088037491 結果AUC = 0.848148148148\n",
      "訓練評估：使用參數 impurity=gini maxDepth=25 maxBins=5\n",
      " ==>所需時間=0.930458068848 結果AUC = 0.844444444444\n",
      "訓練評估：使用參數 impurity=gini maxDepth=25 maxBins=10\n",
      " ==>所需時間=1.25552201271 結果AUC = 0.812962962963\n",
      "訓練評估：使用參數 impurity=gini maxDepth=25 maxBins=50\n",
      " ==>所需時間=2.12723302841 結果AUC = 0.87037037037\n",
      "訓練評估：使用參數 impurity=gini maxDepth=25 maxBins=100\n",
      " ==>所需時間=1.33888888359 結果AUC = 0.827777777778\n",
      "訓練評估：使用參數 impurity=gini maxDepth=25 maxBins=200\n",
      " ==>所需時間=1.24165296555 結果AUC = 0.838888888889\n",
      "訓練評估：使用參數 impurity=entropy maxDepth=3 maxBins=3\n",
      " ==>所需時間=0.636145114899 結果AUC = 0.816666666667\n",
      "訓練評估：使用參數 impurity=entropy maxDepth=3 maxBins=5\n",
      " ==>所需時間=0.683205842972 結果AUC = 0.816666666667\n",
      "訓練評估：使用參數 impurity=entropy maxDepth=3 maxBins=10\n",
      " ==>所需時間=0.632183074951 結果AUC = 0.816666666667\n",
      "訓練評估：使用參數 impurity=entropy maxDepth=3 maxBins=50\n",
      " ==>所需時間=0.647615909576 結果AUC = 0.855555555556\n",
      "訓練評估：使用參數 impurity=entropy maxDepth=3 maxBins=100\n",
      " ==>所需時間=0.690898895264 結果AUC = 0.855555555556\n",
      "訓練評估：使用參數 impurity=entropy maxDepth=3 maxBins=200\n",
      " ==>所需時間=1.02929782867 結果AUC = 0.855555555556\n",
      "訓練評估：使用參數 impurity=entropy maxDepth=5 maxBins=3\n",
      " ==>所需時間=0.797169923782 結果AUC = 0.762962962963\n",
      "訓練評估：使用參數 impurity=entropy maxDepth=5 maxBins=5\n",
      " ==>所需時間=0.693864107132 結果AUC = 0.898148148148\n",
      "訓練評估：使用參數 impurity=entropy maxDepth=5 maxBins=10\n",
      " ==>所需時間=0.686352968216 結果AUC = 0.883333333333\n",
      "訓練評估：使用參數 impurity=entropy maxDepth=5 maxBins=50\n",
      " ==>所需時間=0.723731994629 結果AUC = 0.840740740741\n",
      "訓練評估：使用參數 impurity=entropy maxDepth=5 maxBins=100\n",
      " ==>所需時間=0.723681926727 結果AUC = 0.890740740741\n",
      "訓練評估：使用參數 impurity=entropy maxDepth=5 maxBins=200\n",
      " ==>所需時間=0.720381975174 結果AUC = 0.890740740741\n",
      "訓練評估：使用參數 impurity=entropy maxDepth=10 maxBins=3\n",
      " ==>所需時間=0.953084945679 結果AUC = 0.82962962963\n",
      "訓練評估：使用參數 impurity=entropy maxDepth=10 maxBins=5\n",
      " ==>所需時間=0.838705062866 結果AUC = 0.861111111111\n",
      "訓練評估：使用參數 impurity=entropy maxDepth=10 maxBins=10\n",
      " ==>所需時間=0.883024930954 結果AUC = 0.82962962963\n",
      "訓練評估：使用參數 impurity=entropy maxDepth=10 maxBins=50\n",
      " ==>所需時間=0.897583961487 結果AUC = 0.864814814815\n",
      "訓練評估：使用參數 impurity=entropy maxDepth=10 maxBins=100\n",
      " ==>所需時間=0.864849090576 結果AUC = 0.881481481481\n",
      "訓練評估：使用參數 impurity=entropy maxDepth=10 maxBins=200\n",
      " ==>所需時間=0.871737003326 結果AUC = 0.881481481481\n",
      "訓練評估：使用參數 impurity=entropy maxDepth=15 maxBins=3\n",
      " ==>所需時間=0.923157930374 結果AUC = 0.82962962963\n",
      "訓練評估：使用參數 impurity=entropy maxDepth=15 maxBins=5\n",
      " ==>所需時間=1.06786990166 結果AUC = 0.861111111111\n",
      "訓練評估：使用參數 impurity=entropy maxDepth=15 maxBins=10\n",
      " ==>所需時間=1.02848792076 結果AUC = 0.82962962963\n",
      "訓練評估：使用參數 impurity=entropy maxDepth=15 maxBins=50\n",
      " ==>所需時間=1.04113888741 結果AUC = 0.862962962963\n",
      "訓練評估：使用參數 impurity=entropy maxDepth=15 maxBins=100\n",
      " ==>所需時間=1.90784692764 結果AUC = 0.855555555556\n",
      "訓練評估：使用參數 impurity=entropy maxDepth=15 maxBins=200\n",
      " ==>所需時間=1.21972513199 結果AUC = 0.855555555556\n",
      "訓練評估：使用參數 impurity=entropy maxDepth=20 maxBins=3\n",
      " ==>所需時間=1.56031799316 結果AUC = 0.82962962963\n",
      "訓練評估：使用參數 impurity=entropy maxDepth=20 maxBins=5\n",
      " ==>所需時間=1.45472407341 結果AUC = 0.861111111111\n",
      "訓練評估：使用參數 impurity=entropy maxDepth=20 maxBins=10\n",
      " ==>所需時間=1.26964497566 結果AUC = 0.82962962963\n",
      "訓練評估：使用參數 impurity=entropy maxDepth=20 maxBins=50\n",
      " ==>所需時間=1.56853413582 結果AUC = 0.853703703704\n",
      "訓練評估：使用參數 impurity=entropy maxDepth=20 maxBins=100\n",
      " ==>所需時間=1.72406101227 結果AUC = 0.846296296296\n",
      "訓練評估：使用參數 impurity=entropy maxDepth=20 maxBins=200\n",
      " ==>所需時間=1.55010795593 結果AUC = 0.846296296296\n",
      "訓練評估：使用參數 impurity=entropy maxDepth=25 maxBins=3\n",
      " ==>所需時間=1.18010997772 結果AUC = 0.82962962963\n",
      "訓練評估：使用參數 impurity=entropy maxDepth=25 maxBins=5\n",
      " ==>所需時間=1.2392680645 結果AUC = 0.861111111111\n",
      "訓練評估：使用參數 impurity=entropy maxDepth=25 maxBins=10\n",
      " ==>所需時間=1.21290206909 結果AUC = 0.82962962963\n",
      "訓練評估：使用參數 impurity=entropy maxDepth=25 maxBins=50\n",
      " ==>所需時間=1.19467282295 結果AUC = 0.853703703704\n",
      "訓練評估：使用參數 impurity=entropy maxDepth=25 maxBins=100\n",
      " ==>所需時間=1.23487401009 結果AUC = 0.846296296296\n",
      "訓練評估：使用參數 impurity=entropy maxDepth=25 maxBins=200\n",
      " ==>所需時間=1.19483304024 結果AUC = 0.846296296296\n",
      "調校後最佳參數：impurity:entropy,maxDepth:5,maxBins:5\n",
      ",    結果AUC = 0.898148148148\n"
     ]
    }
   ],
   "source": [
    "    print(\"-----所有參數訓練評估找出最好的參數組合---------\")  \n",
    "    bestModel=evalAllParameter(trainData, validationData,\n",
    "                          [\"gini\", \"entropy\"],\n",
    "                          [3, 5, 10, 15, 20, 25], \n",
    "                          [3, 5, 10, 50, 100, 200 ])"
   ]
  },
  {
   "cell_type": "code",
   "execution_count": 124,
   "metadata": {
    "collapsed": false
   },
   "outputs": [
    {
     "name": "stdout",
     "output_type": "stream",
     "text": [
      "AUC=0.734649122807\n"
     ]
    }
   ],
   "source": [
    "#確認傳回的最佳模型是否有overfitting的問題\n",
    "AUC=evaluateModel(model, testData)\n",
    "print \"AUC=\"+str(AUC)"
   ]
  }
 ],
 "metadata": {
  "kernelspec": {
   "display_name": "Python 2",
   "language": "python",
   "name": "python2"
  },
  "language_info": {
   "codemirror_mode": {
    "name": "ipython",
    "version": 2
   },
   "file_extension": ".py",
   "mimetype": "text/x-python",
   "name": "python",
   "nbconvert_exporter": "python",
   "pygments_lexer": "ipython2",
   "version": "2.7.11"
  }
 },
 "nbformat": 4,
 "nbformat_minor": 0
}
