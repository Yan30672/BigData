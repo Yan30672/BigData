{
 "cells": [
  {
   "cell_type": "markdown",
   "metadata": {},
   "source": [
    "# 執行模式"
   ]
  },
  {
   "cell_type": "code",
   "execution_count": 66,
   "metadata": {
    "collapsed": false
   },
   "outputs": [
    {
     "data": {
      "text/plain": [
       "u'local[*]'"
      ]
     },
     "execution_count": 66,
     "metadata": {},
     "output_type": "execute_result"
    }
   ],
   "source": [
    "sc.master"
   ]
  },
  {
   "cell_type": "markdown",
   "metadata": {},
   "source": [
    "# 資料準備"
   ]
  },
  {
   "cell_type": "code",
   "execution_count": 67,
   "metadata": {
    "collapsed": true
   },
   "outputs": [],
   "source": [
    "#讀取資料\n",
    "global Path    \n",
    "if sc.master[0:5]==\"local\" :\n",
    "   Path=\"file:/home/hduser/pythonsparkexample/PythonProject/\"\n",
    "else:   \n",
    "   Path=\"hdfs://master:9000/user/hduser/\""
   ]
  },
  {
   "cell_type": "code",
   "execution_count": 68,
   "metadata": {
    "collapsed": false,
    "scrolled": true
   },
   "outputs": [
    {
     "name": "stdout",
     "output_type": "stream",
     "text": [
      "開始匯入資料...\n"
     ]
    },
    {
     "data": {
      "text/plain": [
       "[u'PassengerId,Survived,Pclass,Name,Sex,Age,SibSp,Parch,Ticket,Fare,Cabin,Embarked',\n",
       " u'1,0,3,\"Braund, Mr. Owen Harris\",male,22,1,0,A/5 21171,7.25,,S']"
      ]
     },
     "execution_count": 68,
     "metadata": {},
     "output_type": "execute_result"
    }
   ],
   "source": [
    "#觀察資料型態\n",
    "#Name無用, Sex and Embraked需要轉換成數值, Age and Cabin轉成float, ,SibSp and Parch有參考價值\n",
    "print(\"開始匯入資料...\")\n",
    "rawDataWithHeader = sc.textFile(Path+\"data/train.csv\")\n",
    "rawDataWithHeader.take(2)\n",
    "#發現年紀有部份資料為空"
   ]
  },
  {
   "cell_type": "code",
   "execution_count": 69,
   "metadata": {
    "collapsed": false
   },
   "outputs": [
    {
     "name": "stdout",
     "output_type": "stream",
     "text": [
      "開始匯入資料...\n",
      "共計：891筆\n"
     ]
    },
    {
     "data": {
      "text/plain": [
       "[[u'1', u'0', u'3', u'male', u'22', u'1', u'0', u'A/5 21171', u'7.25', u'S'],\n",
       " [u'2',\n",
       "  u'1',\n",
       "  u'1',\n",
       "  u'female',\n",
       "  u'38',\n",
       "  u'1',\n",
       "  u'0',\n",
       "  u'PC 17599',\n",
       "  u'71.2833',\n",
       "  u'C'],\n",
       " [u'3',\n",
       "  u'1',\n",
       "  u'3',\n",
       "  u'female',\n",
       "  u'26',\n",
       "  u'0',\n",
       "  u'0',\n",
       "  u'STON/O2. 3101282',\n",
       "  u'7.925',\n",
       "  u'S'],\n",
       " [u'4', u'1', u'1', u'female', u'35', u'1', u'0', u'113803', u'53.1', u'S'],\n",
       " [u'5', u'0', u'3', u'male', u'35', u'0', u'0', u'373450', u'8.05', u'S'],\n",
       " [u'6', u'0', u'3', u'male', u'', u'0', u'0', u'330877', u'8.4583', u'Q'],\n",
       " [u'7', u'0', u'1', u'male', u'54', u'0', u'0', u'17463', u'51.8625', u'S'],\n",
       " [u'8', u'0', u'3', u'male', u'2', u'3', u'1', u'349909', u'21.075', u'S'],\n",
       " [u'9', u'1', u'3', u'female', u'27', u'0', u'2', u'347742', u'11.1333', u'S'],\n",
       " [u'10',\n",
       "  u'1',\n",
       "  u'2',\n",
       "  u'female',\n",
       "  u'14',\n",
       "  u'1',\n",
       "  u'0',\n",
       "  u'237736',\n",
       "  u'30.0708',\n",
       "  u'C']]"
      ]
     },
     "execution_count": 69,
     "metadata": {},
     "output_type": "execute_result"
    }
   ],
   "source": [
    "#將資料整理成label與特徵欄位\n",
    "print(\"開始匯入資料...\")\n",
    "rawDataWithHeader = sc.textFile(Path+\"data/train.csv\")\n",
    "header = rawDataWithHeader.first() \n",
    "rawData = rawDataWithHeader.filter(lambda x:x !=header)\n",
    "lines = rawData.map(lambda x: x.split(\",\"))\n",
    "newline = lines.map(lambda x: x[:3]+x[5:11]+[x[-1]])\n",
    "print(\"共計：\" + str(lines.count()) + \"筆\")\n",
    "newline.take(10)"
   ]
  },
  {
   "cell_type": "code",
   "execution_count": 70,
   "metadata": {
    "collapsed": false
   },
   "outputs": [
    {
     "name": "stdout",
     "output_type": "stream",
     "text": [
      "[(u'', 0), (u'0.42', 1), (u'24', 2), (u'25', 3), (u'26', 4), (u'27', 5), (u'20', 6), (u'21', 7), (u'22', 8), (u'23', 9), (u'28', 10), (u'29', 11), (u'4', 12), (u'8', 13), (u'45.5', 14), (u'14.5', 15), (u'59', 16), (u'58', 17), (u'55', 18), (u'24.5', 19), (u'57', 20), (u'56', 21), (u'51', 22), (u'50', 23), (u'53', 24), (u'52', 25), (u'54', 26), (u'55.5', 27), (u'34.5', 28), (u'36.5', 29), (u'80', 30), (u'20.5', 31), (u'3', 32), (u'7', 33), (u'40.5', 34), (u'39', 35), (u'38', 36), (u'33', 37), (u'32', 38), (u'31', 39), (u'30', 40), (u'37', 41), (u'36', 42), (u'35', 43), (u'34', 44), (u'23.5', 45), (u'32.5', 46), (u'71', 87), (u'60', 48), (u'61', 49), (u'62', 50), (u'63', 51), (u'64', 52), (u'65', 53), (u'66', 54), (u'0.83', 55), (u'2', 56), (u'6', 57), (u'28.5', 58), (u'11', 59), (u'10', 60), (u'13', 61), (u'12', 62), (u'15', 63), (u'14', 64), (u'17', 65), (u'16', 66), (u'19', 67), (u'18', 68), (u'0.92', 69), (u'30.5', 70), (u'0.67', 71), (u'48', 72), (u'49', 73), (u'46', 74), (u'47', 75), (u'44', 76), (u'45', 77), (u'42', 78), (u'43', 79), (u'40', 80), (u'41', 81), (u'1', 82), (u'5', 83), (u'9', 84), (u'70.5', 85), (u'74', 86), (u'0.75', 47), (u'70', 88)]\n"
     ]
    }
   ],
   "source": [
    "AgeMap= newline.map(lambda x:x[4]).distinct().zipWithIndex().collectAsMap()\n",
    "items = list(AgeMap.items())\n",
    "print(items)\n",
    "#部份資料為空"
   ]
  },
  {
   "cell_type": "code",
   "execution_count": 71,
   "metadata": {
    "collapsed": false
   },
   "outputs": [
    {
     "name": "stdout",
     "output_type": "stream",
     "text": [
      "29.6991176471\n"
     ]
    },
    {
     "data": {
      "text/plain": [
       "[[u'1', u'0', u'3', u'male', u'22', u'1', u'0', u'A/5 21171', u'7.25', u'S'],\n",
       " [u'2',\n",
       "  u'1',\n",
       "  u'1',\n",
       "  u'female',\n",
       "  u'38',\n",
       "  u'1',\n",
       "  u'0',\n",
       "  u'PC 17599',\n",
       "  u'71.2833',\n",
       "  u'C'],\n",
       " [u'3',\n",
       "  u'1',\n",
       "  u'3',\n",
       "  u'female',\n",
       "  u'26',\n",
       "  u'0',\n",
       "  u'0',\n",
       "  u'STON/O2. 3101282',\n",
       "  u'7.925',\n",
       "  u'S'],\n",
       " [u'4', u'1', u'1', u'female', u'35', u'1', u'0', u'113803', u'53.1', u'S'],\n",
       " [u'5', u'0', u'3', u'male', u'35', u'0', u'0', u'373450', u'8.05', u'S'],\n",
       " [u'6',\n",
       "  u'0',\n",
       "  u'3',\n",
       "  u'male',\n",
       "  '29.6991176471',\n",
       "  u'0',\n",
       "  u'0',\n",
       "  u'330877',\n",
       "  u'8.4583',\n",
       "  u'Q'],\n",
       " [u'7', u'0', u'1', u'male', u'54', u'0', u'0', u'17463', u'51.8625', u'S'],\n",
       " [u'8', u'0', u'3', u'male', u'2', u'3', u'1', u'349909', u'21.075', u'S'],\n",
       " [u'9', u'1', u'3', u'female', u'27', u'0', u'2', u'347742', u'11.1333', u'S'],\n",
       " [u'10',\n",
       "  u'1',\n",
       "  u'2',\n",
       "  u'female',\n",
       "  u'14',\n",
       "  u'1',\n",
       "  u'0',\n",
       "  u'237736',\n",
       "  u'30.0708',\n",
       "  u'C']]"
      ]
     },
     "execution_count": 71,
     "metadata": {},
     "output_type": "execute_result"
    }
   ],
   "source": [
    "notnull = newline.map(lambda x: len(x[4])!=0).sum()\n",
    "#去除年紀無資料的欄位\n",
    "noNull = newline.filter(lambda x: len(x[4])!=0)\n",
    "AgeSum = noNull.map(lambda x: x[4]).collect()\n",
    "x = 0\n",
    "for a in AgeSum:\n",
    "    x += float(a)\n",
    "AgeAver = x/notnull\n",
    "print(AgeAver)\n",
    "newlines = newline.map(lambda x:  x[:4]+[str(AgeAver)]+x[5:] if len(x[4])==0 else x)\n",
    "newlines.take(10)"
   ]
  },
  {
   "cell_type": "code",
   "execution_count": 72,
   "metadata": {
    "collapsed": false
   },
   "outputs": [
    {
     "data": {
      "text/plain": [
       "[u'\"Braund', u' Mr. Owen Harris\"']"
      ]
     },
     "execution_count": 72,
     "metadata": {},
     "output_type": "execute_result"
    }
   ],
   "source": [
    "#第三和第四欄為名字，無參考價值，Cabin亦無參考價值\n",
    "lines.take(1)[0][3:5]"
   ]
  },
  {
   "cell_type": "code",
   "execution_count": 73,
   "metadata": {
    "collapsed": false
   },
   "outputs": [
    {
     "data": {
      "text/plain": [
       "[[u'1', u'0', u'3', u'male', u'22', u'1', u'0', u'A/5 21171', u'7.25', u'S']]"
      ]
     },
     "execution_count": 73,
     "metadata": {},
     "output_type": "execute_result"
    }
   ],
   "source": [
    "#資料只包含標籤與特徵欄位\n",
    "newline.take(1)"
   ]
  },
  {
   "cell_type": "code",
   "execution_count": 74,
   "metadata": {
    "collapsed": false
   },
   "outputs": [
    {
     "data": {
      "text/plain": [
       "{u'': 1, u'C': 3, u'Q': 0, u'S': 2}"
      ]
     },
     "execution_count": 74,
     "metadata": {},
     "output_type": "execute_result"
    }
   ],
   "source": [
    "categoriesMap = newlines.map(lambda x:x[-1]).distinct().zipWithIndex().collectAsMap()\n",
    "categoriesMap"
   ]
  },
  {
   "cell_type": "code",
   "execution_count": 75,
   "metadata": {
    "collapsed": false
   },
   "outputs": [
    {
     "data": {
      "text/plain": [
       "4"
      ]
     },
     "execution_count": 75,
     "metadata": {},
     "output_type": "execute_result"
    }
   ],
   "source": [
    "len(categoriesMap)"
   ]
  },
  {
   "cell_type": "code",
   "execution_count": 76,
   "metadata": {
    "collapsed": false
   },
   "outputs": [
    {
     "data": {
      "text/plain": [
       "dict"
      ]
     },
     "execution_count": 76,
     "metadata": {},
     "output_type": "execute_result"
    }
   ],
   "source": [
    "type(categoriesMap)"
   ]
  },
  {
   "cell_type": "code",
   "execution_count": 77,
   "metadata": {
    "collapsed": false
   },
   "outputs": [],
   "source": [
    "#擷取特徵欄位Sex, Embarked\n",
    "import numpy as np\n",
    "#將Sex轉換為數值（male=1, female=0）\n",
    "def genderIndex(x):\n",
    "    if x==\"male\":\n",
    "        return 1\n",
    "    else:\n",
    "        return 0\n",
    "    \n",
    "def convert_float(x):\n",
    "    if x ==\"\":\n",
    "        return 0\n",
    "    else:\n",
    "        return float(x)\n",
    "    \n",
    "def embarkedIdx(x):\n",
    "    if x[-1]==\"C\":\n",
    "        return 1\n",
    "    elif x[-1]==\"Q\":\n",
    "        return 2\n",
    "    else:\n",
    "        return 3\n",
    "\n",
    "#收集特徵\n",
    "def extract_features(x):\n",
    "    categoryFeatures = np.zeros(4)\n",
    "    categoryFeatures[0] = genderIndex(x[3])\n",
    "    if len(x[-1]) != 0:\n",
    "        categoryFeatures[embarkedIdx(x)] = 1\n",
    "    else:\n",
    "        pass\n",
    "    numericalFeatures=[x[2], convert_float(x[4]), x[5], x[6], convert_float(x[8])]\n",
    "    return np.concatenate((categoryFeatures, numericalFeatures))\n",
    "    \n",
    "def extract_label(x):\n",
    "    label = x[1]\n",
    "    return float(label)\n",
    "\n",
    "from pyspark.mllib.regression import LabeledPoint\n",
    "\n",
    "labelpointRDD = newline.map(lambda r: LabeledPoint(extract_label(r), extract_features(r)))"
   ]
  },
  {
   "cell_type": "code",
   "execution_count": 78,
   "metadata": {
    "collapsed": false
   },
   "outputs": [
    {
     "data": {
      "text/plain": [
       "[LabeledPoint(0.0, [1.0,0.0,0.0,1.0,3.0,22.0,1.0,0.0,7.25]),\n",
       " LabeledPoint(1.0, [0.0,1.0,0.0,0.0,1.0,38.0,1.0,0.0,71.2833]),\n",
       " LabeledPoint(1.0, [0.0,0.0,0.0,1.0,3.0,26.0,0.0,0.0,7.925]),\n",
       " LabeledPoint(1.0, [0.0,0.0,0.0,1.0,1.0,35.0,1.0,0.0,53.1]),\n",
       " LabeledPoint(0.0, [1.0,0.0,0.0,1.0,3.0,35.0,0.0,0.0,8.05]),\n",
       " LabeledPoint(0.0, [1.0,0.0,1.0,0.0,3.0,0.0,0.0,0.0,8.4583]),\n",
       " LabeledPoint(0.0, [1.0,0.0,0.0,1.0,1.0,54.0,0.0,0.0,51.8625]),\n",
       " LabeledPoint(0.0, [1.0,0.0,0.0,1.0,3.0,2.0,3.0,1.0,21.075]),\n",
       " LabeledPoint(1.0, [0.0,0.0,0.0,1.0,3.0,27.0,0.0,2.0,11.1333]),\n",
       " LabeledPoint(1.0, [0.0,1.0,0.0,0.0,2.0,14.0,1.0,0.0,30.0708])]"
      ]
     },
     "execution_count": 78,
     "metadata": {},
     "output_type": "execute_result"
    }
   ],
   "source": [
    "#將整理的資料儲存成labeledPointRDD\n",
    "labelpointRDD.take(10)"
   ]
  },
  {
   "cell_type": "code",
   "execution_count": 79,
   "metadata": {
    "collapsed": false
   },
   "outputs": [
    {
     "name": "stdout",
     "output_type": "stream",
     "text": [
      "將資料分trainData:706   validationData:92   testData:93\n"
     ]
    }
   ],
   "source": [
    "(trainData, validationData, testData) = labelpointRDD.randomSplit([8, 1, 1])\n",
    "print(\"將資料分trainData:\" + str(trainData.count()) +   \n",
    "          \"   validationData:\" + str(validationData.count()) + \n",
    "          \"   testData:\" + str(testData.count()))\n"
   ]
  },
  {
   "cell_type": "code",
   "execution_count": 80,
   "metadata": {
    "collapsed": false
   },
   "outputs": [
    {
     "name": "stdout",
     "output_type": "stream",
     "text": [
      "開始匯入資料...\n",
      "共計：891筆\n",
      "將資料分為trainData:719   validationData:87   testData:85\n"
     ]
    },
    {
     "data": {
      "text/plain": [
       "PythonRDD[259] at RDD at PythonRDD.scala:48"
      ]
     },
     "execution_count": 80,
     "metadata": {},
     "output_type": "execute_result"
    }
   ],
   "source": [
    "#資料準備\n",
    "from pyspark.mllib.regression import LabeledPoint\n",
    "import numpy as np\n",
    "#將Sex轉換為數值（male=0, female=1）\n",
    "def genderIndex(x):\n",
    "    if x==\"male\":\n",
    "        return 1\n",
    "    else:\n",
    "        return 0\n",
    "\n",
    "def embarkedIdx(x):\n",
    "    if x[-1]==\"C\":\n",
    "        return 1\n",
    "    elif x[-1]==\"Q\":\n",
    "        return 2\n",
    "    else:\n",
    "        return 3\n",
    "    \n",
    "def convert_float(x):\n",
    "    if x ==\"\":\n",
    "        return 0\n",
    "    else:\n",
    "        return float(x)\n",
    "\n",
    "#收集特徵\n",
    "def extract_features(x):\n",
    "    categoryFeatures = np.zeros(4)\n",
    "    categoryFeatures[0] = genderIndex(x[3])\n",
    "    if len(x[-1]) != 0:\n",
    "        categoryFeatures[embarkedIdx(x)] = 1\n",
    "    else:\n",
    "        pass\n",
    "    numericalFeatures=[x[2], convert_float(x[4]), x[5], x[6], convert_float(x[8])]\n",
    "    return np.concatenate((categoryFeatures, numericalFeatures))\n",
    "    \n",
    "def extract_label(x):\n",
    "    label = x[1]\n",
    "    return float(label)\n",
    "\n",
    "def PrepareData(sc): \n",
    "    #----------------------1.匯入並轉換資料-------------\n",
    "    global Path    \n",
    "    if sc.master[0:5]==\"local\" :\n",
    "       Path=\"file:/home/hduser/pythonsparkexample/PythonProject/\"\n",
    "    else:   \n",
    "       Path=\"hdfs://master:9000/user/hduser/\"\n",
    "\n",
    "    print(\"開始匯入資料...\")\n",
    "    rawDataWithHeader = sc.textFile(Path+\"data/train.csv\")\n",
    "    header = rawDataWithHeader.first() \n",
    "    rawData = rawDataWithHeader.filter(lambda x:x !=header)\n",
    "    lines = rawData.map(lambda x: x.split(\",\"))\n",
    "    newline = lines.map(lambda x: x[:3]+x[5:])\n",
    "    notnull = newline.map(lambda x: len(x[4])!=0).sum()\n",
    "    noNull = newline.filter(lambda x: len(x[4])!=0)\n",
    "    AgeSum = noNull.map(lambda x: x[4]).collect()\n",
    "    x = 0\n",
    "    for a in AgeSum:\n",
    "        x += float(a)\n",
    "    AgeAver = x/notnull\n",
    "    newlines = newline.map(lambda x:  x[:4]+[str(AgeAver)]+x[5:] if len(x[4])==0 else x)\n",
    "\n",
    "    print(\"共計：\" + str(newlines.count()) + \"筆\")\n",
    "    #----------2.建立訓練評估所需資料 RDD[LabeledPoint]-------    \n",
    "    labelpointRDD = newlines.map(lambda r: LabeledPoint(extract_label(r), extract_features(r)))\n",
    "        \n",
    "    #-----------3.以隨機方式將資料分為3部份並且回傳-------------\n",
    "    (trainData, validationData, testData) = labelpointRDD.randomSplit([8, 1, 1])\n",
    "    print(\"將資料分為trainData:\" + str(trainData.count()) + \n",
    "              \"   validationData:\" + str(validationData.count()) +\n",
    "              \"   testData:\" + str(testData.count()))\n",
    "    return (trainData, validationData, testData) #回傳資料\n",
    "\n",
    "(trainData, validationData, testData) =PrepareData(sc)\n",
    "trainData.persist()\n",
    "validationData.persist()\n",
    "testData.persist()"
   ]
  },
  {
   "cell_type": "markdown",
   "metadata": {},
   "source": [
    "# 訓練模型與預測資料"
   ]
  },
  {
   "cell_type": "code",
   "execution_count": 81,
   "metadata": {
    "collapsed": false,
    "scrolled": true
   },
   "outputs": [
    {
     "name": "stdout",
     "output_type": "stream",
     "text": [
      "==========預測資料===============\n",
      "開始匯入資料...\n",
      "共計：418筆\n",
      " 名單編號：  892\n",
      "             ==>預測:0.0 說明:死亡\n",
      "\n",
      " 名單編號：  893\n",
      "             ==>預測:0.0 說明:死亡\n",
      "\n",
      " 名單編號：  894\n",
      "             ==>預測:0.0 說明:死亡\n",
      "\n",
      " 名單編號：  895\n",
      "             ==>預測:0.0 說明:死亡\n",
      "\n",
      " 名單編號：  896\n",
      "             ==>預測:1.0 說明:倖存\n",
      "\n",
      " 名單編號：  897\n",
      "             ==>預測:0.0 說明:死亡\n",
      "\n",
      " 名單編號：  898\n",
      "             ==>預測:0.0 說明:死亡\n",
      "\n",
      " 名單編號：  899\n",
      "             ==>預測:1.0 說明:倖存\n",
      "\n",
      " 名單編號：  900\n",
      "             ==>預測:1.0 說明:倖存\n",
      "\n",
      " 名單編號：  901\n",
      "             ==>預測:0.0 說明:死亡\n",
      "\n"
     ]
    }
   ],
   "source": [
    "from pyspark.mllib.tree import DecisionTree\n",
    "from pyspark.mllib.regression import LabeledPoint\n",
    "import csv\n",
    "\n",
    "model=DecisionTree.trainClassifier( \\\n",
    "        trainData, numClasses=2, categoricalFeaturesInfo={}, \\\n",
    "        impurity=\"entropy\", maxDepth=5, maxBins=5)\n",
    "\n",
    "#testdata沒有label欄位，所以選取特徵都必須往前挪一欄\n",
    "\n",
    "def extract_features1(x):\n",
    "    categoryFeatures = np.zeros(4)\n",
    "    categoryFeatures[0] = genderIndex(x[2])\n",
    "    if len(x[-1]) != 0:\n",
    "        categoryFeatures[embarkedIdx(x)] = 1\n",
    "    else:\n",
    "        pass\n",
    "    numericalFeatures=[x[1], convert_float(x[3]), x[4], x[5], convert_float(x[7])]\n",
    "    return np.concatenate((categoryFeatures, numericalFeatures))\n",
    "\n",
    "def PredictData(sc,model): \n",
    "    print(\"開始匯入資料...\")\n",
    "    rawDataWithHeader = sc.textFile(Path+\"data/test.csv\")\n",
    "    header = rawDataWithHeader.first() \n",
    "    rawData = rawDataWithHeader.filter(lambda x:x !=header)\n",
    "    lines = rawData.map(lambda x: x.split(\",\"))\n",
    "    newline = lines.map(lambda x: x[:2]+x[4:10]+[x[-1]])\n",
    "    notnull = newline.map(lambda x: len(x[3])!=0).sum()\n",
    "    noNull = newline.filter(lambda x: len(x[3])!=0)\n",
    "    AgeSum = noNull.map(lambda x: x[3]).collect()\n",
    "    x = 0\n",
    "    for a in AgeSum:\n",
    "        x += float(a)\n",
    "    AgeAver = x/notnull\n",
    "    newlines = newline.map(lambda x:  x[:3]+[str(AgeAver)]+x[4:] if len(x[3])==0 else x)\n",
    "    print(\"共計：\" + str(newline.count()) + \"筆\")\n",
    "    dataRDD = newline.map(lambda r:(r[0], extract_features1(r)))\n",
    "    DescDict = {\n",
    "           0: \"死亡\",\n",
    "           1: \"倖存\"\n",
    "     }\n",
    "    for data in dataRDD.take(10):\n",
    "        predictResult = model.predict(data[1])\n",
    "        print \" 名單編號：  \" +str(data[0])+\"\\n\" +\\\n",
    "                  \"             ==>預測:\"+ str(predictResult)+ \\\n",
    "                  \" 說明:\"+DescDict[predictResult] +\"\\n\"\n",
    "    num = dataRDD.count()\n",
    "    predictions = [(str(data[0]), int(model.predict(data[1]))) for data in dataRDD.take(num)]\n",
    "    with open(\"prediction.csv\", \"w\") as f:\n",
    "        cw = csv.writer(f)\n",
    "        cw.writerows(r for r in predictions)\n",
    "        \n",
    "\n",
    "print(\"==========預測資料===============\")\n",
    "PredictData(sc, model)   "
   ]
  },
  {
   "cell_type": "markdown",
   "metadata": {},
   "source": [
    "# 評估模型的準確率"
   ]
  },
  {
   "cell_type": "code",
   "execution_count": 82,
   "metadata": {
    "collapsed": false
   },
   "outputs": [
    {
     "data": {
      "text/plain": [
       "[(0.0, 0.0), (0.0, 0.0), (1.0, 0.0), (1.0, 1.0), (0.0, 1.0)]"
      ]
     },
     "execution_count": 82,
     "metadata": {},
     "output_type": "execute_result"
    }
   ],
   "source": [
    "score = model.predict(validationData.map(lambda p: p.features))\n",
    "scoreAndLabels=score.zip(validationData.map(lambda p: p.label))\n",
    "scoreAndLabels.take(5)"
   ]
  },
  {
   "cell_type": "code",
   "execution_count": 83,
   "metadata": {
    "collapsed": false
   },
   "outputs": [
    {
     "name": "stdout",
     "output_type": "stream",
     "text": [
      "AUC=0.768253968254\n"
     ]
    }
   ],
   "source": [
    "from pyspark.mllib.evaluation import BinaryClassificationMetrics\n",
    "metrics = BinaryClassificationMetrics(scoreAndLabels)\n",
    "print \"AUC=\"+str(metrics.areaUnderROC)"
   ]
  },
  {
   "cell_type": "code",
   "execution_count": 84,
   "metadata": {
    "collapsed": true
   },
   "outputs": [],
   "source": [
    "def evaluateModel(model, validationData):\n",
    "    score = model.predict(validationData.map(lambda p: p.features))\n",
    "    scoreAndLabels=score.zip(validationData.map(lambda p: p.label))\n",
    "    metrics = BinaryClassificationMetrics(scoreAndLabels)\n",
    "    AUC=metrics.areaUnderROC\n",
    "    return( AUC)"
   ]
  },
  {
   "cell_type": "code",
   "execution_count": 85,
   "metadata": {
    "collapsed": false
   },
   "outputs": [
    {
     "name": "stdout",
     "output_type": "stream",
     "text": [
      "AUC=0.768253968254\n"
     ]
    }
   ],
   "source": [
    "AUC=evaluateModel(model, validationData)\n",
    "print \"AUC=\"+str(AUC)"
   ]
  },
  {
   "cell_type": "code",
   "execution_count": 86,
   "metadata": {
    "collapsed": false
   },
   "outputs": [
    {
     "name": "stdout",
     "output_type": "stream",
     "text": [
      "訓練評估：使用參數 impurity=entropy maxDepth=5 maxBins=5\n",
      " ==>所需時間=1.85232615471 結果AUC = 0.768253968254\n",
      "訓練評估：使用參數 impurity=entropy maxDepth=5 maxBins=5\n",
      " ==>所需時間=1.28836202621 結果AUC = 0.813596491228\n"
     ]
    }
   ],
   "source": [
    "from time import time\n",
    "def trainEvaluateModel(trainData,validationData,\n",
    "                                        impurityParm, maxDepthParm, maxBinsParm):\n",
    "    startTime = time()\n",
    "    model = DecisionTree.trainClassifier(trainData,\n",
    "                numClasses=2, categoricalFeaturesInfo={}, impurity=impurityParm,\n",
    "                maxDepth=maxDepthParm, maxBins=maxBinsParm)\n",
    "    AUC = evaluateModel(model, validationData)\n",
    "    duration = time() - startTime\n",
    "    print    \"訓練評估：使用參數\" + \\\n",
    "                \" impurity=\"+str(impurityParm) +\\\n",
    "                \" maxDepth=\"+str(maxDepthParm) + \\\n",
    "                \" maxBins=\"+str(maxBinsParm) +\"\\n\" +\\\n",
    "                 \" ==>所需時間=\"+str(duration) + \\\n",
    "                 \" 結果AUC = \" + str(AUC) \n",
    "    return (AUC,duration, impurityParm, maxDepthParm, maxBinsParm,model)\n",
    "(AUC,duration, impurityParm, maxDepthParm, maxBinsParm,model)=  \\\n",
    "       trainEvaluateModel(trainData, validationData, \"entropy\", 5, 5)\n",
    "(AUC,duration, impurityParm, maxDepthParm, maxBinsParm,model)=  \\\n",
    "       trainEvaluateModel(trainData, testData, \"entropy\", 5, 5)"
   ]
  },
  {
   "cell_type": "code",
   "execution_count": 87,
   "metadata": {
    "collapsed": false
   },
   "outputs": [
    {
     "name": "stdout",
     "output_type": "stream",
     "text": [
      "訓練評估：使用參數 impurity=gini maxDepth=10 maxBins=10\n",
      " ==>所需時間=1.71029090881 結果AUC = 0.721428571429\n",
      "訓練評估：使用參數 impurity=entropy maxDepth=10 maxBins=10\n",
      " ==>所需時間=1.88938903809 結果AUC = 0.710317460317\n"
     ]
    }
   ],
   "source": [
    "#測試gini and entropy何者較佳\n",
    "impurityList=[\"gini\", \"entropy\"]\n",
    "maxDepthList  =[10]\n",
    "maxBinsList=[10 ]\n",
    "\n",
    "metrics = [trainEvaluateModel(trainData, validationData,  \n",
    "                              impurity,maxDepth,  maxBins  ) \n",
    "                 for impurity in impurityList \n",
    "                 for maxDepth in maxDepthList  \n",
    "                 for maxBins in maxBinsList ]"
   ]
  },
  {
   "cell_type": "code",
   "execution_count": 88,
   "metadata": {
    "collapsed": false
   },
   "outputs": [
    {
     "data": {
      "text/plain": [
       "[(0.7214285714285714,\n",
       "  1.7102909088134766,\n",
       "  'gini',\n",
       "  10,\n",
       "  10,\n",
       "  DecisionTreeModel classifier of depth 10 with 231 nodes),\n",
       " (0.7103174603174602,\n",
       "  1.8893890380859375,\n",
       "  'entropy',\n",
       "  10,\n",
       "  10,\n",
       "  DecisionTreeModel classifier of depth 10 with 211 nodes)]"
      ]
     },
     "execution_count": 88,
     "metadata": {},
     "output_type": "execute_result"
    }
   ],
   "source": [
    "#AUC, duration, impurity, maxDepth, maxBins, model\n",
    "metrics"
   ]
  },
  {
   "cell_type": "code",
   "execution_count": 89,
   "metadata": {
    "collapsed": false
   },
   "outputs": [
    {
     "data": {
      "text/html": [
       "<div>\n",
       "<table border=\"1\" class=\"dataframe\">\n",
       "  <thead>\n",
       "    <tr style=\"text-align: right;\">\n",
       "      <th></th>\n",
       "      <th>AUC</th>\n",
       "      <th>duration</th>\n",
       "      <th>impurity</th>\n",
       "      <th>maxDepth</th>\n",
       "      <th>maxBins</th>\n",
       "      <th>model</th>\n",
       "    </tr>\n",
       "  </thead>\n",
       "  <tbody>\n",
       "    <tr>\n",
       "      <th>gini</th>\n",
       "      <td>0.721429</td>\n",
       "      <td>1.710291</td>\n",
       "      <td>gini</td>\n",
       "      <td>10</td>\n",
       "      <td>10</td>\n",
       "      <td>DecisionTreeModel classifier of depth 10 with ...</td>\n",
       "    </tr>\n",
       "    <tr>\n",
       "      <th>entropy</th>\n",
       "      <td>0.710317</td>\n",
       "      <td>1.889389</td>\n",
       "      <td>entropy</td>\n",
       "      <td>10</td>\n",
       "      <td>10</td>\n",
       "      <td>DecisionTreeModel classifier of depth 10 with ...</td>\n",
       "    </tr>\n",
       "  </tbody>\n",
       "</table>\n",
       "</div>"
      ],
      "text/plain": [
       "              AUC  duration impurity  maxDepth  maxBins  \\\n",
       "gini     0.721429  1.710291     gini        10       10   \n",
       "entropy  0.710317  1.889389  entropy        10       10   \n",
       "\n",
       "                                                     model  \n",
       "gini     DecisionTreeModel classifier of depth 10 with ...  \n",
       "entropy  DecisionTreeModel classifier of depth 10 with ...  "
      ]
     },
     "execution_count": 89,
     "metadata": {},
     "output_type": "execute_result"
    }
   ],
   "source": [
    "import pandas as pd\n",
    "IndexList=impurityList\n",
    "df = pd.DataFrame(metrics,index=IndexList,\n",
    "            columns=['AUC', 'duration','impurity', 'maxDepth', 'maxBins','model'])\n",
    "df"
   ]
  },
  {
   "cell_type": "code",
   "execution_count": 90,
   "metadata": {
    "collapsed": false
   },
   "outputs": [
    {
     "data": {
      "image/png": "[encoded data removed]",
      "text/plain": [
       "<matplotlib.figure.Figure at 0x7f26581299d0>"
      ]
     },
     "metadata": {},
     "output_type": "display_data"
    }
   ],
   "source": [
    "import matplotlib.pyplot as plt\n",
    "%matplotlib inline \n",
    "evalparm='impurity'\n",
    "ax = df['AUC'].plot(kind='bar', title =evalparm,figsize=(10,6),\n",
    "                legend=True, fontsize=12)\n",
    "ax.set_xlabel(evalparm,fontsize=12)\n",
    "ax.set_ylim([0.6,0.85])\n",
    "ax.set_ylabel(\"AUC\",fontsize=12)\n",
    "ax2 = ax.twinx()\n",
    "ax2.plot(df['duration'].values, linestyle='-', marker='o', linewidth=2.0,color='r')\n",
    "plt.show()"
   ]
  },
  {
   "cell_type": "code",
   "execution_count": 91,
   "metadata": {
    "collapsed": true
   },
   "outputs": [],
   "source": [
    "import matplotlib.pyplot as plt\n",
    "def showchart(df,evalparm ,barData,lineData,yMin,yMax):\n",
    "    ax = df[barData].plot(kind='bar', title =evalparm,\n",
    "                                         figsize=(10,6),legend=True, fontsize=12)\n",
    "    ax.set_xlabel(evalparm,fontsize=12)\n",
    "    ax.set_ylim([yMin,yMax])\n",
    "    ax.set_ylabel(barData,fontsize=12)\n",
    "    ax2 = ax.twinx()\n",
    "    ax2.plot(df[lineData ].values, linestyle='-', marker='o',\n",
    "                    linewidth=2.0,color='r')\n",
    "    plt.show()"
   ]
  },
  {
   "cell_type": "code",
   "execution_count": 92,
   "metadata": {
    "collapsed": false
   },
   "outputs": [
    {
     "data": {
      "image/png": "[encoded data removed]",
      "text/plain": [
       "<matplotlib.figure.Figure at 0x7f264eac7e10>"
      ]
     },
     "metadata": {},
     "output_type": "display_data"
    }
   ],
   "source": [
    "showchart(df,'impurity','AUC','duration',0.5,0.85 )"
   ]
  },
  {
   "cell_type": "markdown",
   "metadata": {},
   "source": [
    "# 找出最好的評估參數"
   ]
  },
  {
   "cell_type": "code",
   "execution_count": 93,
   "metadata": {
    "collapsed": true
   },
   "outputs": [],
   "source": [
    "#定義evalParameter函數\n",
    "def evalParameter(trainData, validationData, evalparm,\n",
    "                  impurityList, maxDepthList, maxBinsList):\n",
    "    #訓練評估參數\n",
    "    metrics = [trainEvaluateModel(trainData, validationData,  \n",
    "                                impurity,maxDepth,  maxBins  ) \n",
    "                       for impurity in impurityList\n",
    "                       for maxDepth in maxDepthList  \n",
    "                       for maxBins in maxBinsList ]\n",
    "    #設定目前評估的參數\n",
    "    if evalparm==\"impurity\":\n",
    "        IndexList=impurityList[:]\n",
    "    elif evalparm==\"maxDepth\":\n",
    "        IndexList=maxDepthList[:]\n",
    "    elif evalparm==\"maxBins\":\n",
    "        IndexList=maxBinsList[:]\n",
    "    #轉換為Pandas DataFrame\n",
    "    df = pd.DataFrame(metrics,index=IndexList,\n",
    "            columns=['AUC', 'duration','impurity', 'maxDepth', 'maxBins','model'])\n",
    "    #顯示圖形\n",
    "    showchart(df,evalparm,'AUC','duration',0.5,0.9 )"
   ]
  },
  {
   "cell_type": "code",
   "execution_count": 94,
   "metadata": {
    "collapsed": false
   },
   "outputs": [
    {
     "name": "stdout",
     "output_type": "stream",
     "text": [
      "訓練評估：使用參數 impurity=gini maxDepth=10 maxBins=10\n",
      " ==>所需時間=1.40505099297 結果AUC = 0.721428571429\n",
      "訓練評估：使用參數 impurity=entropy maxDepth=10 maxBins=10\n",
      " ==>所需時間=1.30560708046 結果AUC = 0.710317460317\n"
     ]
    },
    {
     "data": {
      "image/png": "[encoded data removed]",
      "text/plain": [
       "<matplotlib.figure.Figure at 0x7f264e83cc10>"
      ]
     },
     "metadata": {},
     "output_type": "display_data"
    }
   ],
   "source": [
    "evalParameter(trainData, validationData,\"impurity\", \n",
    "                              impurityList=[\"gini\", \"entropy\"],   \n",
    "                              maxDepthList=[10],  \n",
    "                              maxBinsList=[10 ])  "
   ]
  },
  {
   "cell_type": "code",
   "execution_count": 95,
   "metadata": {
    "collapsed": false
   },
   "outputs": [
    {
     "name": "stdout",
     "output_type": "stream",
     "text": [
      "訓練評估：使用參數 impurity=gini maxDepth=3 maxBins=10\n",
      " ==>所需時間=0.988341093063 結果AUC = 0.744444444444\n",
      "訓練評估：使用參數 impurity=gini maxDepth=5 maxBins=10\n",
      " ==>所需時間=0.983901977539 結果AUC = 0.723015873016\n",
      "訓練評估：使用參數 impurity=gini maxDepth=10 maxBins=10\n",
      " ==>所需時間=1.53067684174 結果AUC = 0.721428571429\n",
      "訓練評估：使用參數 impurity=gini maxDepth=15 maxBins=10\n",
      " ==>所需時間=1.46686196327 結果AUC = 0.721428571429\n",
      "訓練評估：使用參數 impurity=gini maxDepth=20 maxBins=10\n",
      " ==>所需時間=1.67483091354 結果AUC = 0.721428571429\n",
      "訓練評估：使用參數 impurity=gini maxDepth=25 maxBins=10\n",
      " ==>所需時間=1.65889191628 結果AUC = 0.721428571429\n"
     ]
    },
    {
     "data": {
      "image/png": "[encoded data removed]",
      "text/plain": [
       "<matplotlib.figure.Figure at 0x7f264e5dde90>"
      ]
     },
     "metadata": {},
     "output_type": "display_data"
    }
   ],
   "source": [
    "evalParameter(trainData, validationData,\"maxDepth\", \n",
    "                          impurityList=[\"gini\"],                    \n",
    "                          maxDepthList=[3, 5, 10, 15, 20, 25],    \n",
    "                          maxBinsList=[10])   "
   ]
  },
  {
   "cell_type": "code",
   "execution_count": 96,
   "metadata": {
    "collapsed": false
   },
   "outputs": [
    {
     "name": "stdout",
     "output_type": "stream",
     "text": [
      "訓練評估：使用參數 impurity=gini maxDepth=10 maxBins=3\n",
      " ==>所需時間=1.39385890961 結果AUC = 0.765079365079\n",
      "訓練評估：使用參數 impurity=gini maxDepth=10 maxBins=5\n",
      " ==>所需時間=1.20634698868 結果AUC = 0.707936507937\n",
      "訓練評估：使用參數 impurity=gini maxDepth=10 maxBins=10\n",
      " ==>所需時間=1.16472601891 結果AUC = 0.721428571429\n",
      "訓練評估：使用參數 impurity=gini maxDepth=10 maxBins=50\n",
      " ==>所需時間=1.23221707344 結果AUC = 0.765873015873\n",
      "訓練評估：使用參數 impurity=gini maxDepth=10 maxBins=100\n",
      " ==>所需時間=1.13673305511 結果AUC = 0.777777777778\n",
      "訓練評估：使用參數 impurity=gini maxDepth=10 maxBins=200\n",
      " ==>所需時間=1.41366100311 結果AUC = 0.742857142857\n"
     ]
    },
    {
     "data": {
      "image/png": "[encoded data removed]",
      "text/plain": [
       "<matplotlib.figure.Figure at 0x7f264e854ed0>"
      ]
     },
     "metadata": {},
     "output_type": "display_data"
    }
   ],
   "source": [
    "evalParameter(trainData, validationData,\"maxBins\", \n",
    "                          impurityList=[\"gini\"],      \n",
    "                          maxDepthList =[10],        \n",
    "                          maxBinsList=[3, 5, 10, 50, 100, 200 ])"
   ]
  },
  {
   "cell_type": "code",
   "execution_count": 97,
   "metadata": {
    "collapsed": true
   },
   "outputs": [],
   "source": [
    "#定義evalAllParameter函數\n",
    "def evalAllParameter(trainData, validationData, \n",
    "                     impurityList, maxDepthList, maxBinsList):    \n",
    "    #for迴圈訓練評估所有參數組合\n",
    "    metrics = [trainEvaluateModel(trainData, validationData,  \n",
    "                            impurity,maxDepth,  maxBins  ) \n",
    "                      for impurity in impurityList \n",
    "                      for maxDepth in maxDepthList  \n",
    "                      for  maxBins in maxBinsList ]\n",
    "    #找出AUC最大的參數組合\n",
    "    Smetrics = sorted(metrics, key=lambda k: k[0], reverse=True)\n",
    "    bestParameter=Smetrics[0]\n",
    "    #顯示調校後最佳參數組合      \n",
    "    print(\"調校後最佳參數：impurity:\" + str(bestParameter[2]) + \n",
    "                                      \",maxDepth:\" + str(bestParameter[3]) + \n",
    "                                     \",maxBins:\" + str(bestParameter[4])   + \n",
    "                                      \"\\n,    結果AUC = \" + str(bestParameter[0]))\n",
    "    #傳回最佳模型\n",
    "    return bestParameter[5]"
   ]
  },
  {
   "cell_type": "code",
   "execution_count": 98,
   "metadata": {
    "collapsed": false
   },
   "outputs": [
    {
     "name": "stdout",
     "output_type": "stream",
     "text": [
      "-----所有參數訓練評估找出最好的參數組合---------\n",
      "訓練評估：使用參數 impurity=gini maxDepth=3 maxBins=3\n",
      " ==>所需時間=0.77072095871 結果AUC = 0.743650793651\n",
      "訓練評估：使用參數 impurity=gini maxDepth=3 maxBins=5\n",
      " ==>所需時間=0.882483005524 結果AUC = 0.720634920635\n",
      "訓練評估：使用參數 impurity=gini maxDepth=3 maxBins=10\n",
      " ==>所需時間=0.799427032471 結果AUC = 0.744444444444\n",
      "訓練評估：使用參數 impurity=gini maxDepth=3 maxBins=50\n",
      " ==>所需時間=0.811955928802 結果AUC = 0.743650793651\n",
      "訓練評估：使用參數 impurity=gini maxDepth=3 maxBins=100\n",
      " ==>所需時間=0.743755102158 結果AUC = 0.719841269841\n",
      "訓練評估：使用參數 impurity=gini maxDepth=3 maxBins=200\n",
      " ==>所需時間=0.726273775101 結果AUC = 0.743650793651\n",
      "訓練評估：使用參數 impurity=gini maxDepth=5 maxBins=3\n",
      " ==>所需時間=0.865481138229 結果AUC = 0.811904761905\n",
      "訓練評估：使用參數 impurity=gini maxDepth=5 maxBins=5\n",
      " ==>所需時間=0.815466880798 結果AUC = 0.756349206349\n",
      "訓練評估：使用參數 impurity=gini maxDepth=5 maxBins=10\n",
      " ==>所需時間=0.842834949493 結果AUC = 0.723015873016\n",
      "訓練評估：使用參數 impurity=gini maxDepth=5 maxBins=50\n",
      " ==>所需時間=0.901010036469 結果AUC = 0.729365079365\n",
      "訓練評估：使用參數 impurity=gini maxDepth=5 maxBins=100\n",
      " ==>所需時間=0.902557134628 結果AUC = 0.731746031746\n",
      "訓練評估：使用參數 impurity=gini maxDepth=5 maxBins=200\n",
      " ==>所需時間=0.863074064255 結果AUC = 0.743650793651\n",
      "訓練評估：使用參數 impurity=gini maxDepth=10 maxBins=3\n",
      " ==>所需時間=1.05303883553 結果AUC = 0.765079365079\n",
      "訓練評估：使用參數 impurity=gini maxDepth=10 maxBins=5\n",
      " ==>所需時間=1.01922297478 結果AUC = 0.707936507937\n",
      "訓練評估：使用參數 impurity=gini maxDepth=10 maxBins=10\n",
      " ==>所需時間=1.2556219101 結果AUC = 0.721428571429\n",
      "訓練評估：使用參數 impurity=gini maxDepth=10 maxBins=50\n",
      " ==>所需時間=1.3621468544 結果AUC = 0.765873015873\n",
      "訓練評估：使用參數 impurity=gini maxDepth=10 maxBins=100\n",
      " ==>所需時間=1.14884901047 結果AUC = 0.777777777778\n",
      "訓練評估：使用參數 impurity=gini maxDepth=10 maxBins=200\n",
      " ==>所需時間=1.20589995384 結果AUC = 0.742857142857\n",
      "訓練評估：使用參數 impurity=gini maxDepth=15 maxBins=3\n",
      " ==>所需時間=1.2490568161 結果AUC = 0.765079365079\n",
      "訓練評估：使用參數 impurity=gini maxDepth=15 maxBins=5\n",
      " ==>所需時間=1.40769982338 結果AUC = 0.696825396825\n",
      "訓練評估：使用參數 impurity=gini maxDepth=15 maxBins=10\n",
      " ==>所需時間=1.30437016487 結果AUC = 0.721428571429\n",
      "訓練評估：使用參數 impurity=gini maxDepth=15 maxBins=50\n",
      " ==>所需時間=1.56225895882 結果AUC = 0.778571428571\n",
      "訓練評估：使用參數 impurity=gini maxDepth=15 maxBins=100\n",
      " ==>所需時間=1.70314788818 結果AUC = 0.788095238095\n",
      "訓練評估：使用參數 impurity=gini maxDepth=15 maxBins=200\n",
      " ==>所需時間=1.43623399734 結果AUC = 0.764285714286\n",
      "訓練評估：使用參數 impurity=gini maxDepth=20 maxBins=3\n",
      " ==>所需時間=1.22544503212 結果AUC = 0.765079365079\n",
      "訓練評估：使用參數 impurity=gini maxDepth=20 maxBins=5\n",
      " ==>所需時間=1.30518817902 結果AUC = 0.696825396825\n",
      "訓練評估：使用參數 impurity=gini maxDepth=20 maxBins=10\n",
      " ==>所需時間=1.18567609787 結果AUC = 0.721428571429\n",
      "訓練評估：使用參數 impurity=gini maxDepth=20 maxBins=50\n",
      " ==>所需時間=1.70633196831 結果AUC = 0.789682539683\n",
      "訓練評估：使用參數 impurity=gini maxDepth=20 maxBins=100\n",
      " ==>所需時間=1.3877799511 結果AUC = 0.788095238095\n",
      "訓練評估：使用參數 impurity=gini maxDepth=20 maxBins=200\n",
      " ==>所需時間=1.54594492912 結果AUC = 0.77619047619\n",
      "訓練評估：使用參數 impurity=gini maxDepth=25 maxBins=3\n",
      " ==>所需時間=1.35071802139 結果AUC = 0.765079365079\n",
      "訓練評估：使用參數 impurity=gini maxDepth=25 maxBins=5\n",
      " ==>所需時間=1.642100811 結果AUC = 0.696825396825\n",
      "訓練評估：使用參數 impurity=gini maxDepth=25 maxBins=10\n",
      " ==>所需時間=1.62002491951 結果AUC = 0.721428571429\n",
      "訓練評估：使用參數 impurity=gini maxDepth=25 maxBins=50\n",
      " ==>所需時間=1.65846991539 結果AUC = 0.789682539683\n",
      "訓練評估：使用參數 impurity=gini maxDepth=25 maxBins=100\n",
      " ==>所需時間=1.77389502525 結果AUC = 0.788095238095\n",
      "訓練評估：使用參數 impurity=gini maxDepth=25 maxBins=200\n",
      " ==>所需時間=1.77281999588 結果AUC = 0.77619047619\n",
      "訓練評估：使用參數 impurity=entropy maxDepth=3 maxBins=3\n",
      " ==>所需時間=0.721979141235 結果AUC = 0.743650793651\n",
      "訓練評估：使用參數 impurity=entropy maxDepth=3 maxBins=5\n",
      " ==>所需時間=0.833492994308 結果AUC = 0.720634920635\n",
      "訓練評估：使用參數 impurity=entropy maxDepth=3 maxBins=10\n",
      " ==>所需時間=0.795029163361 結果AUC = 0.743650793651\n",
      "訓練評估：使用參數 impurity=entropy maxDepth=3 maxBins=50\n",
      " ==>所需時間=0.699345827103 結果AUC = 0.743650793651\n",
      "訓練評估：使用參數 impurity=entropy maxDepth=3 maxBins=100\n",
      " ==>所需時間=0.701551914215 結果AUC = 0.743650793651\n",
      "訓練評估：使用參數 impurity=entropy maxDepth=3 maxBins=200\n",
      " ==>所需時間=0.689945936203 結果AUC = 0.743650793651\n",
      "訓練評估：使用參數 impurity=entropy maxDepth=5 maxBins=3\n",
      " ==>所需時間=0.736832141876 結果AUC = 0.8\n",
      "訓練評估：使用參數 impurity=entropy maxDepth=5 maxBins=5\n",
      " ==>所需時間=0.770273923874 結果AUC = 0.768253968254\n",
      "訓練評估：使用參數 impurity=entropy maxDepth=5 maxBins=10\n",
      " ==>所需時間=0.763008117676 結果AUC = 0.745238095238\n",
      "訓練評估：使用參數 impurity=entropy maxDepth=5 maxBins=50\n",
      " ==>所需時間=0.854612112045 結果AUC = 0.740476190476\n",
      "訓練評估：使用參數 impurity=entropy maxDepth=5 maxBins=100\n",
      " ==>所需時間=0.792922019958 結果AUC = 0.743650793651\n",
      "訓練評估：使用參數 impurity=entropy maxDepth=5 maxBins=200\n",
      " ==>所需時間=0.767169952393 結果AUC = 0.754761904762\n",
      "訓練評估：使用參數 impurity=entropy maxDepth=10 maxBins=3\n",
      " ==>所需時間=0.94916009903 結果AUC = 0.788888888889\n",
      "訓練評估：使用參數 impurity=entropy maxDepth=10 maxBins=5\n",
      " ==>所需時間=1.13617110252 結果AUC = 0.719841269841\n",
      "訓練評估：使用參數 impurity=entropy maxDepth=10 maxBins=10\n",
      " ==>所需時間=0.977038145065 結果AUC = 0.710317460317\n",
      "訓練評估：使用參數 impurity=entropy maxDepth=10 maxBins=50\n",
      " ==>所需時間=1.08906507492 結果AUC = 0.76746031746\n",
      "訓練評估：使用參數 impurity=entropy maxDepth=10 maxBins=100\n",
      " ==>所需時間=1.31242203712 結果AUC = 0.74126984127\n",
      "訓練評估：使用參數 impurity=entropy maxDepth=10 maxBins=200\n",
      " ==>所需時間=1.26743602753 結果AUC = 0.766666666667\n",
      "訓練評估：使用參數 impurity=entropy maxDepth=15 maxBins=3\n",
      " ==>所需時間=1.52313685417 結果AUC = 0.776984126984\n",
      "訓練評估：使用參數 impurity=entropy maxDepth=15 maxBins=5\n",
      " ==>所需時間=3.5190179348 結果AUC = 0.696825396825\n",
      "訓練評估：使用參數 impurity=entropy maxDepth=15 maxBins=10\n",
      " ==>所需時間=2.96475696564 結果AUC = 0.710317460317\n",
      "訓練評估：使用參數 impurity=entropy maxDepth=15 maxBins=50\n",
      " ==>所需時間=1.58217000961 結果AUC = 0.776984126984\n",
      "訓練評估：使用參數 impurity=entropy maxDepth=15 maxBins=100\n",
      " ==>所需時間=1.68303704262 結果AUC = 0.776984126984\n",
      "訓練評估：使用參數 impurity=entropy maxDepth=15 maxBins=200\n",
      " ==>所需時間=1.23377203941 結果AUC = 0.753968253968\n",
      "訓練評估：使用參數 impurity=entropy maxDepth=20 maxBins=3\n",
      " ==>所需時間=1.06072187424 結果AUC = 0.776984126984\n",
      "訓練評估：使用參數 impurity=entropy maxDepth=20 maxBins=5\n",
      " ==>所需時間=1.22632598877 結果AUC = 0.696825396825\n",
      "訓練評估：使用參數 impurity=entropy maxDepth=20 maxBins=10\n",
      " ==>所需時間=1.17901301384 結果AUC = 0.710317460317\n",
      "訓練評估：使用參數 impurity=entropy maxDepth=20 maxBins=50\n",
      " ==>所需時間=1.36362600327 結果AUC = 0.766666666667\n",
      "訓練評估：使用參數 impurity=entropy maxDepth=20 maxBins=100\n",
      " ==>所需時間=1.40402412415 結果AUC = 0.788888888889\n",
      "訓練評估：使用參數 impurity=entropy maxDepth=20 maxBins=200\n",
      " ==>所需時間=1.28686618805 結果AUC = 0.765873015873\n",
      "訓練評估：使用參數 impurity=entropy maxDepth=25 maxBins=3\n",
      " ==>所需時間=1.11368298531 結果AUC = 0.776984126984\n",
      "訓練評估：使用參數 impurity=entropy maxDepth=25 maxBins=5\n",
      " ==>所需時間=1.25366020203 結果AUC = 0.696825396825\n",
      "訓練評估：使用參數 impurity=entropy maxDepth=25 maxBins=10\n",
      " ==>所需時間=1.21304678917 結果AUC = 0.710317460317\n",
      "訓練評估：使用參數 impurity=entropy maxDepth=25 maxBins=50\n",
      " ==>所需時間=1.64743995667 結果AUC = 0.766666666667\n",
      "訓練評估：使用參數 impurity=entropy maxDepth=25 maxBins=100\n",
      " ==>所需時間=1.58786511421 結果AUC = 0.776984126984\n",
      "訓練評估：使用參數 impurity=entropy maxDepth=25 maxBins=200\n",
      " ==>所需時間=1.54165911674 結果AUC = 0.765873015873\n",
      "調校後最佳參數：impurity:gini,maxDepth:5,maxBins:3\n",
      ",    結果AUC = 0.811904761905\n"
     ]
    }
   ],
   "source": [
    "    print(\"-----所有參數訓練評估找出最好的參數組合---------\")  \n",
    "    bestModel=evalAllParameter(trainData, validationData,\n",
    "                          [\"gini\", \"entropy\"],\n",
    "                          [3, 5, 10, 15, 20, 25], \n",
    "                          [3, 5, 10, 50, 100, 200 ])"
   ]
  },
  {
   "cell_type": "code",
   "execution_count": 99,
   "metadata": {
    "collapsed": false
   },
   "outputs": [
    {
     "name": "stdout",
     "output_type": "stream",
     "text": [
      "AUC=0.813596491228\n"
     ]
    }
   ],
   "source": [
    "#確認傳回的最佳模型是否有overfitting的問題\n",
    "AUC=evaluateModel(model, testData)\n",
    "print \"AUC=\"+str(AUC)"
   ]
  }
 ],
 "metadata": {
  "kernelspec": {
   "display_name": "Python 2",
   "language": "python",
   "name": "python2"
  },
  "language_info": {
   "codemirror_mode": {
    "name": "ipython",
    "version": 2
   },
   "file_extension": ".py",
   "mimetype": "text/x-python",
   "name": "python",
   "nbconvert_exporter": "python",
   "pygments_lexer": "ipython2",
   "version": "2.7.11"
  }
 },
 "nbformat": 4,
 "nbformat_minor": 0
}
