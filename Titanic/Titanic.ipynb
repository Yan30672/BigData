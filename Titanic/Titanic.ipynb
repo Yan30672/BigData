{
 "cells": [
  {
   "cell_type": "markdown",
   "metadata": {},
   "source": [
    "# 執行模式"
   ]
  },
  {
   "cell_type": "code",
   "execution_count": 1,
   "metadata": {
    "collapsed": false
   },
   "outputs": [
    {
     "data": {
      "text/plain": [
       "u'local[*]'"
      ]
     },
     "execution_count": 1,
     "metadata": {},
     "output_type": "execute_result"
    }
   ],
   "source": [
    "sc.master"
   ]
  },
  {
   "cell_type": "markdown",
   "metadata": {},
   "source": [
    "# 資料準備"
   ]
  },
  {
   "cell_type": "code",
   "execution_count": 2,
   "metadata": {
    "collapsed": true
   },
   "outputs": [],
   "source": [
    "#讀取資料\n",
    "global Path    \n",
    "if sc.master[0:5]==\"local\" :\n",
    "   Path=\"file:/home/hduser/pythonsparkexample/PythonProject/\"\n",
    "else:   \n",
    "   Path=\"hdfs://master:9000/user/hduser/\""
   ]
  },
  {
   "cell_type": "code",
   "execution_count": 3,
   "metadata": {
    "collapsed": false,
    "scrolled": true
   },
   "outputs": [
    {
     "name": "stdout",
     "output_type": "stream",
     "text": [
      "開始匯入資料...\n"
     ]
    },
    {
     "data": {
      "text/plain": [
       "[u'PassengerId,Survived,Pclass,Name,Sex,Age,SibSp,Parch,Ticket,Fare,Cabin,Embarked',\n",
       " u'1,0,3,\"Braund, Mr. Owen Harris\",male,22,1,0,A/5 21171,7.25,,S']"
      ]
     },
     "execution_count": 3,
     "metadata": {},
     "output_type": "execute_result"
    }
   ],
   "source": [
    "#觀察資料型態\n",
    "#Name無用, Sex and Embraked需要轉換成數值, Age and Cabin轉成float, ,SibSp and Parch有參考價值\n",
    "print(\"開始匯入資料...\")\n",
    "rawDataWithHeader = sc.textFile(Path+\"data/train.csv\")\n",
    "rawDataWithHeader.take(2)"
   ]
  },
  {
   "cell_type": "code",
   "execution_count": 4,
   "metadata": {
    "collapsed": false
   },
   "outputs": [
    {
     "name": "stdout",
     "output_type": "stream",
     "text": [
      "開始匯入資料...\n",
      "共計：891筆\n"
     ]
    }
   ],
   "source": [
    "#將資料整理成label與特徵欄位\n",
    "print(\"開始匯入資料...\")\n",
    "rawDataWithHeader = sc.textFile(Path+\"data/train.csv\")\n",
    "header = rawDataWithHeader.first() \n",
    "rawData = rawDataWithHeader.filter(lambda x:x !=header)\n",
    "lines = rawData.map(lambda x: x.split(\",\"))\n",
    "newline = lines.map(lambda x: x[:3]+x[5:11]+[x[-1]])\n",
    "print(\"共計：\" + str(lines.count()) + \"筆\")"
   ]
  },
  {
   "cell_type": "code",
   "execution_count": 5,
   "metadata": {
    "collapsed": false
   },
   "outputs": [
    {
     "data": {
      "text/plain": [
       "[u'\"Braund', u' Mr. Owen Harris\"']"
      ]
     },
     "execution_count": 5,
     "metadata": {},
     "output_type": "execute_result"
    }
   ],
   "source": [
    "#第三和第四欄為名字，無參考價值，Cabin亦無參考價值\n",
    "lines.take(1)[0][3:5]"
   ]
  },
  {
   "cell_type": "code",
   "execution_count": 6,
   "metadata": {
    "collapsed": false
   },
   "outputs": [
    {
     "data": {
      "text/plain": [
       "[[u'1', u'0', u'3', u'male', u'22', u'1', u'0', u'A/5 21171', u'7.25', u'S']]"
      ]
     },
     "execution_count": 6,
     "metadata": {},
     "output_type": "execute_result"
    }
   ],
   "source": [
    "#資料只包含標籤與特徵欄位\n",
    "newline.take(1)"
   ]
  },
  {
   "cell_type": "code",
   "execution_count": 7,
   "metadata": {
    "collapsed": false
   },
   "outputs": [
    {
     "data": {
      "text/plain": [
       "{u'': 1, u'C': 3, u'Q': 0, u'S': 2}"
      ]
     },
     "execution_count": 7,
     "metadata": {},
     "output_type": "execute_result"
    }
   ],
   "source": [
    "categoriesMap = newline.map(lambda x:x[-1]).distinct().zipWithIndex().collectAsMap()\n",
    "categoriesMap"
   ]
  },
  {
   "cell_type": "code",
   "execution_count": 8,
   "metadata": {
    "collapsed": false
   },
   "outputs": [
    {
     "data": {
      "text/plain": [
       "4"
      ]
     },
     "execution_count": 8,
     "metadata": {},
     "output_type": "execute_result"
    }
   ],
   "source": [
    "len(categoriesMap)"
   ]
  },
  {
   "cell_type": "code",
   "execution_count": 9,
   "metadata": {
    "collapsed": false
   },
   "outputs": [
    {
     "data": {
      "text/plain": [
       "dict"
      ]
     },
     "execution_count": 9,
     "metadata": {},
     "output_type": "execute_result"
    }
   ],
   "source": [
    "type(categoriesMap)"
   ]
  },
  {
   "cell_type": "code",
   "execution_count": 10,
   "metadata": {
    "collapsed": false
   },
   "outputs": [],
   "source": [
    "#擷取特徵欄位Sex, Embarked\n",
    "import numpy as np\n",
    "#將Sex轉換為數值（male=1, female=0）\n",
    "def genderIndex(x):\n",
    "    if x==\"male\":\n",
    "        return 1\n",
    "    else:\n",
    "        return 0\n",
    "    \n",
    "def convert_float(x):\n",
    "    if x ==\"\":\n",
    "        return 0\n",
    "    else:\n",
    "        return float(x)\n",
    "    \n",
    "def embarkedIdx(x):\n",
    "    if x[-1]==\"C\":\n",
    "        return 1\n",
    "    elif x[-1]==\"Q\":\n",
    "        return 2\n",
    "    else:\n",
    "        return 3\n",
    "\n",
    "#收集特徵\n",
    "def extract_features(x):\n",
    "    categoryFeatures = np.zeros(4)\n",
    "    categoryFeatures[0] = genderIndex(x[3])\n",
    "    if len(x[-1]) != 0:\n",
    "        categoryFeatures[embarkedIdx(x)] = 1\n",
    "    else:\n",
    "        pass\n",
    "    numericalFeatures=[x[2], convert_float(x[4]), x[5], x[6], convert_float(x[8])]\n",
    "    return np.concatenate((categoryFeatures, numericalFeatures))\n",
    "    \n",
    "def extract_label(x):\n",
    "    label = x[1]\n",
    "    return float(label)\n",
    "\n",
    "from pyspark.mllib.regression import LabeledPoint\n",
    "\n",
    "labelpointRDD = newline.map(lambda r: LabeledPoint(extract_label(r), extract_features(r)))"
   ]
  },
  {
   "cell_type": "code",
   "execution_count": 11,
   "metadata": {
    "collapsed": false
   },
   "outputs": [
    {
     "data": {
      "text/plain": [
       "[LabeledPoint(0.0, [1.0,0.0,0.0,1.0,3.0,22.0,1.0,0.0,7.25]),\n",
       " LabeledPoint(1.0, [0.0,1.0,0.0,0.0,1.0,38.0,1.0,0.0,71.2833]),\n",
       " LabeledPoint(1.0, [0.0,0.0,0.0,1.0,3.0,26.0,0.0,0.0,7.925]),\n",
       " LabeledPoint(1.0, [0.0,0.0,0.0,1.0,1.0,35.0,1.0,0.0,53.1]),\n",
       " LabeledPoint(0.0, [1.0,0.0,0.0,1.0,3.0,35.0,0.0,0.0,8.05]),\n",
       " LabeledPoint(0.0, [1.0,0.0,1.0,0.0,3.0,0.0,0.0,0.0,8.4583]),\n",
       " LabeledPoint(0.0, [1.0,0.0,0.0,1.0,1.0,54.0,0.0,0.0,51.8625]),\n",
       " LabeledPoint(0.0, [1.0,0.0,0.0,1.0,3.0,2.0,3.0,1.0,21.075]),\n",
       " LabeledPoint(1.0, [0.0,0.0,0.0,1.0,3.0,27.0,0.0,2.0,11.1333]),\n",
       " LabeledPoint(1.0, [0.0,1.0,0.0,0.0,2.0,14.0,1.0,0.0,30.0708])]"
      ]
     },
     "execution_count": 11,
     "metadata": {},
     "output_type": "execute_result"
    }
   ],
   "source": [
    "#將整理的資料儲存成labeledPointRDD\n",
    "labelpointRDD.take(10)"
   ]
  },
  {
   "cell_type": "code",
   "execution_count": 12,
   "metadata": {
    "collapsed": false
   },
   "outputs": [
    {
     "name": "stdout",
     "output_type": "stream",
     "text": [
      "將資料分trainData:715   validationData:86   testData:90\n"
     ]
    }
   ],
   "source": [
    "(trainData, validationData, testData) = labelpointRDD.randomSplit([8, 1, 1])\n",
    "print(\"將資料分trainData:\" + str(trainData.count()) +   \n",
    "          \"   validationData:\" + str(validationData.count()) + \n",
    "          \"   testData:\" + str(testData.count()))\n"
   ]
  },
  {
   "cell_type": "code",
   "execution_count": 13,
   "metadata": {
    "collapsed": false
   },
   "outputs": [
    {
     "name": "stdout",
     "output_type": "stream",
     "text": [
      "開始匯入資料...\n",
      "共計：891筆\n",
      "將資料分為trainData:720   validationData:84   testData:87\n"
     ]
    },
    {
     "data": {
      "text/plain": [
       "PythonRDD[27] at RDD at PythonRDD.scala:48"
      ]
     },
     "execution_count": 13,
     "metadata": {},
     "output_type": "execute_result"
    }
   ],
   "source": [
    "#資料準備\n",
    "from pyspark.mllib.regression import LabeledPoint\n",
    "import numpy as np\n",
    "#將Sex轉換為數值（male=0, female=1）\n",
    "def genderIndex(x):\n",
    "    if x==\"male\":\n",
    "        return 1\n",
    "    else:\n",
    "        return 0\n",
    "\n",
    "def embarkedIdx(x):\n",
    "    if x[-1]==\"C\":\n",
    "        return 1\n",
    "    elif x[-1]==\"Q\":\n",
    "        return 2\n",
    "    else:\n",
    "        return 3\n",
    "    \n",
    "def convert_float(x):\n",
    "    if x ==\"\":\n",
    "        return 0\n",
    "    else:\n",
    "        return float(x)\n",
    "\n",
    "#收集特徵\n",
    "def extract_features(x):\n",
    "    categoryFeatures = np.zeros(4)\n",
    "    categoryFeatures[0] = genderIndex(x[3])\n",
    "    if len(x[-1]) != 0:\n",
    "        categoryFeatures[embarkedIdx(x)] = 1\n",
    "    else:\n",
    "        pass\n",
    "    numericalFeatures=[x[2], convert_float(x[4]), x[5], x[6], convert_float(x[8])]\n",
    "    return np.concatenate((categoryFeatures, numericalFeatures))\n",
    "    \n",
    "def extract_label(x):\n",
    "    label = x[1]\n",
    "    return float(label)\n",
    "\n",
    "def PrepareData(sc): \n",
    "    #----------------------1.匯入並轉換資料-------------\n",
    "    global Path    \n",
    "    if sc.master[0:5]==\"local\" :\n",
    "       Path=\"file:/home/hduser/pythonsparkexample/PythonProject/\"\n",
    "    else:   \n",
    "       Path=\"hdfs://master:9000/user/hduser/\"\n",
    "\n",
    "    print(\"開始匯入資料...\")\n",
    "    rawDataWithHeader = sc.textFile(Path+\"data/train.csv\")\n",
    "    header = rawDataWithHeader.first() \n",
    "    rawData = rawDataWithHeader.filter(lambda x:x !=header)\n",
    "    lines = rawData.map(lambda x: x.split(\",\"))\n",
    "    newline = lines.map(lambda x: x[:3]+x[5:])\n",
    "    print(\"共計：\" + str(lines.count()) + \"筆\")\n",
    "    #----------2.建立訓練評估所需資料 RDD[LabeledPoint]-------    \n",
    "    labelpointRDD = newline.map(lambda r: LabeledPoint(extract_label(r), extract_features(r)))\n",
    "        \n",
    "    #-----------3.以隨機方式將資料分為3部份並且回傳-------------\n",
    "    (trainData, validationData, testData) = labelpointRDD.randomSplit([8, 1, 1])\n",
    "    print(\"將資料分為trainData:\" + str(trainData.count()) + \n",
    "              \"   validationData:\" + str(validationData.count()) +\n",
    "              \"   testData:\" + str(testData.count()))\n",
    "    return (trainData, validationData, testData) #回傳資料\n",
    "\n",
    "(trainData, validationData, testData) =PrepareData(sc)\n",
    "trainData.persist()\n",
    "validationData.persist()\n",
    "testData.persist()"
   ]
  },
  {
   "cell_type": "markdown",
   "metadata": {},
   "source": [
    "# 訓練模型與預測資料"
   ]
  },
  {
   "cell_type": "code",
   "execution_count": 14,
   "metadata": {
    "collapsed": false,
    "scrolled": true
   },
   "outputs": [
    {
     "name": "stdout",
     "output_type": "stream",
     "text": [
      "==========預測資料===============\n",
      "開始匯入資料...\n",
      "共計：418筆\n",
      " 名單編號：  892\n",
      "             ==>預測:0.0 說明:死亡\n",
      "\n",
      " 名單編號：  893\n",
      "             ==>預測:0.0 說明:死亡\n",
      "\n",
      " 名單編號：  894\n",
      "             ==>預測:0.0 說明:死亡\n",
      "\n",
      " 名單編號：  895\n",
      "             ==>預測:0.0 說明:死亡\n",
      "\n",
      " 名單編號：  896\n",
      "             ==>預測:1.0 說明:倖存\n",
      "\n",
      " 名單編號：  897\n",
      "             ==>預測:0.0 說明:死亡\n",
      "\n",
      " 名單編號：  898\n",
      "             ==>預測:0.0 說明:死亡\n",
      "\n",
      " 名單編號：  899\n",
      "             ==>預測:0.0 說明:死亡\n",
      "\n",
      " 名單編號：  900\n",
      "             ==>預測:1.0 說明:倖存\n",
      "\n",
      " 名單編號：  901\n",
      "             ==>預測:0.0 說明:死亡\n",
      "\n"
     ]
    }
   ],
   "source": [
    "from pyspark.mllib.tree import DecisionTree\n",
    "from pyspark.mllib.regression import LabeledPoint\n",
    "import csv\n",
    "\n",
    "model=DecisionTree.trainClassifier( \\\n",
    "        trainData, numClasses=2, categoricalFeaturesInfo={}, \\\n",
    "        impurity=\"entropy\", maxDepth=5, maxBins=5)\n",
    "\n",
    "#testdata沒有label欄位，所以選取特徵都必須往前挪一欄\n",
    "\n",
    "def extract_features1(x):\n",
    "    categoryFeatures = np.zeros(4)\n",
    "    categoryFeatures[0] = genderIndex(x[2])\n",
    "    if len(x[-1]) != 0:\n",
    "        categoryFeatures[embarkedIdx(x)] = 1\n",
    "    else:\n",
    "        pass\n",
    "    numericalFeatures=[x[1], convert_float(x[3]), x[4], x[5], convert_float(x[7])]\n",
    "    return np.concatenate((categoryFeatures, numericalFeatures))\n",
    "\n",
    "def PredictData(sc,model): \n",
    "    print(\"開始匯入資料...\")\n",
    "    rawDataWithHeader = sc.textFile(Path+\"data/test.csv\")\n",
    "    header = rawDataWithHeader.first() \n",
    "    rawData = rawDataWithHeader.filter(lambda x:x !=header)\n",
    "    lines = rawData.map(lambda x: x.split(\",\"))\n",
    "    newline = lines.map(lambda x: x[:2]+x[4:10]+[x[-1]])\n",
    "    print(\"共計：\" + str(newline.count()) + \"筆\")\n",
    "    dataRDD = newline.map(lambda r:(r[0], extract_features1(r)))\n",
    "    DescDict = {\n",
    "           0: \"死亡\",\n",
    "           1: \"倖存\"\n",
    "     }\n",
    "    for data in dataRDD.take(10):\n",
    "        predictResult = model.predict(data[1])\n",
    "        print \" 名單編號：  \" +str(data[0])+\"\\n\" +\\\n",
    "                  \"             ==>預測:\"+ str(predictResult)+ \\\n",
    "                  \" 說明:\"+DescDict[predictResult] +\"\\n\"\n",
    "    num = dataRDD.count()\n",
    "    predictions = [(str(data[0]), int(model.predict(data[1]))) for data in dataRDD.take(num)]\n",
    "    with open(\"prediction.csv\", \"w\") as f:\n",
    "        cw = csv.writer(f)\n",
    "        cw.writerows(r for r in predictions)\n",
    "        \n",
    "\n",
    "print(\"==========預測資料===============\")\n",
    "PredictData(sc, model)   "
   ]
  },
  {
   "cell_type": "markdown",
   "metadata": {},
   "source": [
    "# 評估模型的準確率"
   ]
  },
  {
   "cell_type": "code",
   "execution_count": 15,
   "metadata": {
    "collapsed": false
   },
   "outputs": [
    {
     "data": {
      "text/plain": [
       "[(0.0, 0.0), (1.0, 0.0), (0.0, 1.0), (1.0, 0.0), (0.0, 0.0)]"
      ]
     },
     "execution_count": 15,
     "metadata": {},
     "output_type": "execute_result"
    }
   ],
   "source": [
    "score = model.predict(validationData.map(lambda p: p.features))\n",
    "scoreAndLabels=score.zip(validationData.map(lambda p: p.label))\n",
    "scoreAndLabels.take(5)"
   ]
  },
  {
   "cell_type": "code",
   "execution_count": 16,
   "metadata": {
    "collapsed": false
   },
   "outputs": [
    {
     "name": "stdout",
     "output_type": "stream",
     "text": [
      "AUC=0.795284646348\n"
     ]
    }
   ],
   "source": [
    "from pyspark.mllib.evaluation import BinaryClassificationMetrics\n",
    "metrics = BinaryClassificationMetrics(scoreAndLabels)\n",
    "print \"AUC=\"+str(metrics.areaUnderROC)"
   ]
  },
  {
   "cell_type": "code",
   "execution_count": 17,
   "metadata": {
    "collapsed": true
   },
   "outputs": [],
   "source": [
    "def evaluateModel(model, validationData):\n",
    "    score = model.predict(validationData.map(lambda p: p.features))\n",
    "    scoreAndLabels=score.zip(validationData.map(lambda p: p.label))\n",
    "    metrics = BinaryClassificationMetrics(scoreAndLabels)\n",
    "    AUC=metrics.areaUnderROC\n",
    "    return( AUC)"
   ]
  },
  {
   "cell_type": "code",
   "execution_count": 18,
   "metadata": {
    "collapsed": false
   },
   "outputs": [
    {
     "name": "stdout",
     "output_type": "stream",
     "text": [
      "AUC=0.795284646348\n"
     ]
    }
   ],
   "source": [
    "AUC=evaluateModel(model, validationData)\n",
    "print \"AUC=\"+str(AUC)"
   ]
  },
  {
   "cell_type": "code",
   "execution_count": 19,
   "metadata": {
    "collapsed": false
   },
   "outputs": [
    {
     "name": "stdout",
     "output_type": "stream",
     "text": [
      "訓練評估：使用參數 impurity=entropy maxDepth=5 maxBins=5\n",
      " ==>所需時間=1.89622688293 結果AUC = 0.795284646348\n",
      "訓練評估：使用參數 impurity=entropy maxDepth=5 maxBins=5\n",
      " ==>所需時間=1.38261699677 結果AUC = 0.795614035088\n"
     ]
    }
   ],
   "source": [
    "from time import time\n",
    "def trainEvaluateModel(trainData,validationData,\n",
    "                                        impurityParm, maxDepthParm, maxBinsParm):\n",
    "    startTime = time()\n",
    "    model = DecisionTree.trainClassifier(trainData,\n",
    "                numClasses=2, categoricalFeaturesInfo={}, impurity=impurityParm,\n",
    "                maxDepth=maxDepthParm, maxBins=maxBinsParm)\n",
    "    AUC = evaluateModel(model, validationData)\n",
    "    duration = time() - startTime\n",
    "    print    \"訓練評估：使用參數\" + \\\n",
    "                \" impurity=\"+str(impurityParm) +\\\n",
    "                \" maxDepth=\"+str(maxDepthParm) + \\\n",
    "                \" maxBins=\"+str(maxBinsParm) +\"\\n\" +\\\n",
    "                 \" ==>所需時間=\"+str(duration) + \\\n",
    "                 \" 結果AUC = \" + str(AUC) \n",
    "    return (AUC,duration, impurityParm, maxDepthParm, maxBinsParm,model)\n",
    "(AUC,duration, impurityParm, maxDepthParm, maxBinsParm,model)=  \\\n",
    "       trainEvaluateModel(trainData, validationData, \"entropy\", 5, 5)\n",
    "(AUC,duration, impurityParm, maxDepthParm, maxBinsParm,model)=  \\\n",
    "       trainEvaluateModel(trainData, testData, \"entropy\", 5, 5)"
   ]
  },
  {
   "cell_type": "code",
   "execution_count": 20,
   "metadata": {
    "collapsed": false
   },
   "outputs": [
    {
     "name": "stdout",
     "output_type": "stream",
     "text": [
      "訓練評估：使用參數 impurity=gini maxDepth=10 maxBins=10\n",
      " ==>所需時間=2.82693791389 結果AUC = 0.774008050604\n",
      "訓練評估：使用參數 impurity=entropy maxDepth=10 maxBins=10\n",
      " ==>所需時間=1.58315014839 結果AUC = 0.774008050604\n"
     ]
    }
   ],
   "source": [
    "#測試gini and entropy何者較佳\n",
    "impurityList=[\"gini\", \"entropy\"]\n",
    "maxDepthList  =[10]\n",
    "maxBinsList=[10 ]\n",
    "\n",
    "metrics = [trainEvaluateModel(trainData, validationData,  \n",
    "                              impurity,maxDepth,  maxBins  ) \n",
    "                 for impurity in impurityList \n",
    "                 for maxDepth in maxDepthList  \n",
    "                 for maxBins in maxBinsList ]"
   ]
  },
  {
   "cell_type": "code",
   "execution_count": 21,
   "metadata": {
    "collapsed": false
   },
   "outputs": [
    {
     "data": {
      "text/plain": [
       "[(0.7740080506037953,\n",
       "  2.8269379138946533,\n",
       "  'gini',\n",
       "  10,\n",
       "  10,\n",
       "  DecisionTreeModel classifier of depth 10 with 229 nodes),\n",
       " (0.7740080506037953,\n",
       "  1.5831501483917236,\n",
       "  'entropy',\n",
       "  10,\n",
       "  10,\n",
       "  DecisionTreeModel classifier of depth 10 with 223 nodes)]"
      ]
     },
     "execution_count": 21,
     "metadata": {},
     "output_type": "execute_result"
    }
   ],
   "source": [
    "#AUC, duration, impurity, maxDepth, maxBins, model\n",
    "metrics"
   ]
  },
  {
   "cell_type": "code",
   "execution_count": 22,
   "metadata": {
    "collapsed": false
   },
   "outputs": [
    {
     "data": {
      "text/html": [
       "<div>\n",
       "<table border=\"1\" class=\"dataframe\">\n",
       "  <thead>\n",
       "    <tr style=\"text-align: right;\">\n",
       "      <th></th>\n",
       "      <th>AUC</th>\n",
       "      <th>duration</th>\n",
       "      <th>impurity</th>\n",
       "      <th>maxDepth</th>\n",
       "      <th>maxBins</th>\n",
       "      <th>model</th>\n",
       "    </tr>\n",
       "  </thead>\n",
       "  <tbody>\n",
       "    <tr>\n",
       "      <th>gini</th>\n",
       "      <td>0.774008</td>\n",
       "      <td>2.826938</td>\n",
       "      <td>gini</td>\n",
       "      <td>10</td>\n",
       "      <td>10</td>\n",
       "      <td>DecisionTreeModel classifier of depth 10 with ...</td>\n",
       "    </tr>\n",
       "    <tr>\n",
       "      <th>entropy</th>\n",
       "      <td>0.774008</td>\n",
       "      <td>1.583150</td>\n",
       "      <td>entropy</td>\n",
       "      <td>10</td>\n",
       "      <td>10</td>\n",
       "      <td>DecisionTreeModel classifier of depth 10 with ...</td>\n",
       "    </tr>\n",
       "  </tbody>\n",
       "</table>\n",
       "</div>"
      ],
      "text/plain": [
       "              AUC  duration impurity  maxDepth  maxBins  \\\n",
       "gini     0.774008  2.826938     gini        10       10   \n",
       "entropy  0.774008  1.583150  entropy        10       10   \n",
       "\n",
       "                                                     model  \n",
       "gini     DecisionTreeModel classifier of depth 10 with ...  \n",
       "entropy  DecisionTreeModel classifier of depth 10 with ...  "
      ]
     },
     "execution_count": 22,
     "metadata": {},
     "output_type": "execute_result"
    }
   ],
   "source": [
    "import pandas as pd\n",
    "IndexList=impurityList\n",
    "df = pd.DataFrame(metrics,index=IndexList,\n",
    "            columns=['AUC', 'duration','impurity', 'maxDepth', 'maxBins','model'])\n",
    "df"
   ]
  },
  {
   "cell_type": "code",
   "execution_count": 23,
   "metadata": {
    "collapsed": false
   },
   "outputs": [
    {
     "data": {
      "image/png": "[encoded data removed]",
      "text/plain": [
       "<matplotlib.figure.Figure at 0x7fd4ef813c50>"
      ]
     },
     "metadata": {},
     "output_type": "display_data"
    }
   ],
   "source": [
    "import matplotlib.pyplot as plt\n",
    "%matplotlib inline \n",
    "evalparm='impurity'\n",
    "ax = df['AUC'].plot(kind='bar', title =evalparm,figsize=(10,6),\n",
    "                legend=True, fontsize=12)\n",
    "ax.set_xlabel(evalparm,fontsize=12)\n",
    "ax.set_ylim([0.6,0.85])\n",
    "ax.set_ylabel(\"AUC\",fontsize=12)\n",
    "ax2 = ax.twinx()\n",
    "ax2.plot(df['duration'].values, linestyle='-', marker='o', linewidth=2.0,color='r')\n",
    "plt.show()"
   ]
  },
  {
   "cell_type": "code",
   "execution_count": 24,
   "metadata": {
    "collapsed": true
   },
   "outputs": [],
   "source": [
    "import matplotlib.pyplot as plt\n",
    "def showchart(df,evalparm ,barData,lineData,yMin,yMax):\n",
    "    ax = df[barData].plot(kind='bar', title =evalparm,\n",
    "                                         figsize=(10,6),legend=True, fontsize=12)\n",
    "    ax.set_xlabel(evalparm,fontsize=12)\n",
    "    ax.set_ylim([yMin,yMax])\n",
    "    ax.set_ylabel(barData,fontsize=12)\n",
    "    ax2 = ax.twinx()\n",
    "    ax2.plot(df[lineData ].values, linestyle='-', marker='o',\n",
    "                    linewidth=2.0,color='r')\n",
    "    plt.show()"
   ]
  },
  {
   "cell_type": "code",
   "execution_count": 25,
   "metadata": {
    "collapsed": false
   },
   "outputs": [
    {
     "data": {
      "image/png": "[encoded data removed]",
      "text/plain": [
       "<matplotlib.figure.Figure at 0x7fd5083a7910>"
      ]
     },
     "metadata": {},
     "output_type": "display_data"
    }
   ],
   "source": [
    "showchart(df,'impurity','AUC','duration',0.5,0.85 )"
   ]
  },
  {
   "cell_type": "markdown",
   "metadata": {},
   "source": [
    "# 找出最好的評估參數"
   ]
  },
  {
   "cell_type": "code",
   "execution_count": 26,
   "metadata": {
    "collapsed": true
   },
   "outputs": [],
   "source": [
    "#定義evalParameter函數\n",
    "def evalParameter(trainData, validationData, evalparm,\n",
    "                  impurityList, maxDepthList, maxBinsList):\n",
    "    #訓練評估參數\n",
    "    metrics = [trainEvaluateModel(trainData, validationData,  \n",
    "                                impurity,maxDepth,  maxBins  ) \n",
    "                       for impurity in impurityList\n",
    "                       for maxDepth in maxDepthList  \n",
    "                       for maxBins in maxBinsList ]\n",
    "    #設定目前評估的參數\n",
    "    if evalparm==\"impurity\":\n",
    "        IndexList=impurityList[:]\n",
    "    elif evalparm==\"maxDepth\":\n",
    "        IndexList=maxDepthList[:]\n",
    "    elif evalparm==\"maxBins\":\n",
    "        IndexList=maxBinsList[:]\n",
    "    #轉換為Pandas DataFrame\n",
    "    df = pd.DataFrame(metrics,index=IndexList,\n",
    "            columns=['AUC', 'duration','impurity', 'maxDepth', 'maxBins','model'])\n",
    "    #顯示圖形\n",
    "    showchart(df,evalparm,'AUC','duration',0.5,0.9 )"
   ]
  },
  {
   "cell_type": "code",
   "execution_count": 27,
   "metadata": {
    "collapsed": false
   },
   "outputs": [
    {
     "name": "stdout",
     "output_type": "stream",
     "text": [
      "訓練評估：使用參數 impurity=gini maxDepth=10 maxBins=10\n",
      " ==>所需時間=3.06679201126 結果AUC = 0.774008050604\n",
      "訓練評估：使用參數 impurity=entropy maxDepth=10 maxBins=10\n",
      " ==>所需時間=1.32102203369 結果AUC = 0.774008050604\n"
     ]
    },
    {
     "data": {
      "image/png": "[encoded data removed]",
      "text/plain": [
       "<matplotlib.figure.Figure at 0x7fd4ecd79750>"
      ]
     },
     "metadata": {},
     "output_type": "display_data"
    }
   ],
   "source": [
    "evalParameter(trainData, validationData,\"impurity\", \n",
    "                              impurityList=[\"gini\", \"entropy\"],   \n",
    "                              maxDepthList=[10],  \n",
    "                              maxBinsList=[10 ])  "
   ]
  },
  {
   "cell_type": "code",
   "execution_count": 28,
   "metadata": {
    "collapsed": false
   },
   "outputs": [
    {
     "name": "stdout",
     "output_type": "stream",
     "text": [
      "訓練評估：使用參數 impurity=gini maxDepth=3 maxBins=10\n",
      " ==>所需時間=1.58063292503 結果AUC = 0.773145485911\n",
      "訓練評估：使用參數 impurity=gini maxDepth=5 maxBins=10\n",
      " ==>所需時間=1.463752985 結果AUC = 0.763369752731\n",
      "訓練評估：使用參數 impurity=gini maxDepth=10 maxBins=10\n",
      " ==>所需時間=2.22821807861 結果AUC = 0.774008050604\n",
      "訓練評估：使用參數 impurity=gini maxDepth=15 maxBins=10\n",
      " ==>所需時間=2.34641098976 結果AUC = 0.763369752731\n",
      "訓練評估：使用參數 impurity=gini maxDepth=20 maxBins=10\n",
      " ==>所需時間=2.78412103653 結果AUC = 0.763369752731\n",
      "訓練評估：使用參數 impurity=gini maxDepth=25 maxBins=10\n",
      " ==>所需時間=1.54792904854 結果AUC = 0.763369752731\n"
     ]
    },
    {
     "data": {
      "image/png": "[encoded data removed]",
      "text/plain": [
       "<matplotlib.figure.Figure at 0x7fd4ecbecf90>"
      ]
     },
     "metadata": {},
     "output_type": "display_data"
    }
   ],
   "source": [
    "evalParameter(trainData, validationData,\"maxDepth\", \n",
    "                          impurityList=[\"gini\"],                    \n",
    "                          maxDepthList=[3, 5, 10, 15, 20, 25],    \n",
    "                          maxBinsList=[10])   "
   ]
  },
  {
   "cell_type": "code",
   "execution_count": 29,
   "metadata": {
    "collapsed": false
   },
   "outputs": [
    {
     "name": "stdout",
     "output_type": "stream",
     "text": [
      "訓練評估：使用參數 impurity=gini maxDepth=10 maxBins=3\n",
      " ==>所需時間=1.23468208313 結果AUC = 0.790396779758\n",
      "訓練評估：使用參數 impurity=gini maxDepth=10 maxBins=5\n",
      " ==>所需時間=1.11547112465 結果AUC = 0.763369752731\n",
      "訓練評估：使用參數 impurity=gini maxDepth=10 maxBins=10\n",
      " ==>所需時間=1.87929415703 結果AUC = 0.774008050604\n",
      "訓練評估：使用參數 impurity=gini maxDepth=10 maxBins=50\n",
      " ==>所需時間=1.28545594215 結果AUC = 0.769120184014\n",
      "訓練評估：使用參數 impurity=gini maxDepth=10 maxBins=100\n",
      " ==>所需時間=1.06679105759 結果AUC = 0.835825186889\n",
      "訓練評估：使用參數 impurity=gini maxDepth=10 maxBins=200\n",
      " ==>所需時間=1.07312321663 結果AUC = 0.835825186889\n"
     ]
    },
    {
     "data": {
      "image/png": "[encoded data removed]",
      "text/plain": [
       "<matplotlib.figure.Figure at 0x7fd4eca77c90>"
      ]
     },
     "metadata": {},
     "output_type": "display_data"
    }
   ],
   "source": [
    "evalParameter(trainData, validationData,\"maxBins\", \n",
    "                          impurityList=[\"gini\"],      \n",
    "                          maxDepthList =[10],        \n",
    "                          maxBinsList=[3, 5, 10, 50, 100, 200 ])"
   ]
  },
  {
   "cell_type": "code",
   "execution_count": 30,
   "metadata": {
    "collapsed": true
   },
   "outputs": [],
   "source": [
    "#定義evalAllParameter函數\n",
    "def evalAllParameter(trainData, validationData, \n",
    "                     impurityList, maxDepthList, maxBinsList):    \n",
    "    #for迴圈訓練評估所有參數組合\n",
    "    metrics = [trainEvaluateModel(trainData, validationData,  \n",
    "                            impurity,maxDepth,  maxBins  ) \n",
    "                      for impurity in impurityList \n",
    "                      for maxDepth in maxDepthList  \n",
    "                      for  maxBins in maxBinsList ]\n",
    "    #找出AUC最大的參數組合\n",
    "    Smetrics = sorted(metrics, key=lambda k: k[0], reverse=True)\n",
    "    bestParameter=Smetrics[0]\n",
    "    #顯示調校後最佳參數組合      \n",
    "    print(\"調校後最佳參數：impurity:\" + str(bestParameter[2]) + \n",
    "                                      \",maxDepth:\" + str(bestParameter[3]) + \n",
    "                                     \",maxBins:\" + str(bestParameter[4])   + \n",
    "                                      \"\\n,    結果AUC = \" + str(bestParameter[0]))\n",
    "    #傳回最佳模型\n",
    "    return bestParameter[5]"
   ]
  },
  {
   "cell_type": "code",
   "execution_count": 31,
   "metadata": {
    "collapsed": false
   },
   "outputs": [
    {
     "name": "stdout",
     "output_type": "stream",
     "text": [
      "-----所有參數訓練評估找出最好的參數組合---------\n",
      "訓練評估：使用參數 impurity=gini maxDepth=3 maxBins=3\n",
      " ==>所需時間=0.852324008942 結果AUC = 0.773145485911\n",
      "訓練評估：使用參數 impurity=gini maxDepth=3 maxBins=5\n",
      " ==>所需時間=0.748826980591 結果AUC = 0.773145485911\n",
      "訓練評估：使用參數 impurity=gini maxDepth=3 maxBins=10\n",
      " ==>所需時間=0.779166936874 結果AUC = 0.773145485911\n",
      "訓練評估：使用參數 impurity=gini maxDepth=3 maxBins=50\n",
      " ==>所需時間=0.744216918945 結果AUC = 0.784646348476\n",
      "訓練評估：使用參數 impurity=gini maxDepth=3 maxBins=100\n",
      " ==>所需時間=0.716228961945 結果AUC = 0.784646348476\n",
      "訓練評估：使用參數 impurity=gini maxDepth=3 maxBins=200\n",
      " ==>所需時間=0.721812963486 結果AUC = 0.784646348476\n",
      "訓練評估：使用參數 impurity=gini maxDepth=5 maxBins=3\n",
      " ==>所需時間=0.843100070953 結果AUC = 0.768257619321\n",
      "訓練評估：使用參數 impurity=gini maxDepth=5 maxBins=5\n",
      " ==>所需時間=0.754770040512 結果AUC = 0.792409430707\n",
      "訓練評估：使用參數 impurity=gini maxDepth=5 maxBins=10\n",
      " ==>所需時間=0.766410827637 結果AUC = 0.763369752731\n",
      "訓練評估：使用參數 impurity=gini maxDepth=5 maxBins=50\n",
      " ==>所需時間=0.865973234177 結果AUC = 0.817423806786\n",
      "訓練評估：使用參數 impurity=gini maxDepth=5 maxBins=100\n",
      " ==>所需時間=0.759471893311 結果AUC = 0.83870040253\n",
      "訓練評估：使用參數 impurity=gini maxDepth=5 maxBins=200\n",
      " ==>所需時間=0.759685993195 結果AUC = 0.83870040253\n",
      "訓練評估：使用參數 impurity=gini maxDepth=10 maxBins=3\n",
      " ==>所需時間=0.973079919815 結果AUC = 0.790396779758\n",
      "訓練評估：使用參數 impurity=gini maxDepth=10 maxBins=5\n",
      " ==>所需時間=0.968445062637 結果AUC = 0.763369752731\n",
      "訓練評估：使用參數 impurity=gini maxDepth=10 maxBins=10\n",
      " ==>所需時間=1.05079388618 結果AUC = 0.774008050604\n",
      "訓練評估：使用參數 impurity=gini maxDepth=10 maxBins=50\n",
      " ==>所需時間=1.61004900932 結果AUC = 0.769120184014\n",
      "訓練評估：使用參數 impurity=gini maxDepth=10 maxBins=100\n",
      " ==>所需時間=1.052973032 結果AUC = 0.835825186889\n",
      "訓練評估：使用參數 impurity=gini maxDepth=10 maxBins=200\n",
      " ==>所需時間=1.07603502274 結果AUC = 0.835825186889\n",
      "訓練評估：使用參數 impurity=gini maxDepth=15 maxBins=3\n",
      " ==>所需時間=1.33917999268 結果AUC = 0.790396779758\n",
      "訓練評估：使用參數 impurity=gini maxDepth=15 maxBins=5\n",
      " ==>所需時間=1.11963295937 結果AUC = 0.763369752731\n",
      "訓練評估：使用參數 impurity=gini maxDepth=15 maxBins=10\n",
      " ==>所需時間=1.09594893456 結果AUC = 0.763369752731\n",
      "訓練評估：使用參數 impurity=gini maxDepth=15 maxBins=50\n",
      " ==>所需時間=1.1392698288 結果AUC = 0.747843588269\n",
      "訓練評估：使用參數 impurity=gini maxDepth=15 maxBins=100\n",
      " ==>所需時間=1.17618107796 結果AUC = 0.825186889017\n",
      "訓練評估：使用參數 impurity=gini maxDepth=15 maxBins=200\n",
      " ==>所需時間=1.14832520485 結果AUC = 0.825186889017\n",
      "訓練評估：使用參數 impurity=gini maxDepth=20 maxBins=3\n",
      " ==>所需時間=1.09095001221 結果AUC = 0.790396779758\n",
      "訓練評估：使用參數 impurity=gini maxDepth=20 maxBins=5\n",
      " ==>所需時間=1.19524621964 結果AUC = 0.763369752731\n",
      "訓練評估：使用參數 impurity=gini maxDepth=20 maxBins=10\n",
      " ==>所需時間=1.44205498695 結果AUC = 0.763369752731\n",
      "訓練評估：使用參數 impurity=gini maxDepth=20 maxBins=50\n",
      " ==>所需時間=1.34233188629 結果AUC = 0.747843588269\n",
      "訓練評估：使用參數 impurity=gini maxDepth=20 maxBins=100\n",
      " ==>所需時間=1.27522706985 結果AUC = 0.814548591144\n",
      "訓練評估：使用參數 impurity=gini maxDepth=20 maxBins=200\n",
      " ==>所需時間=1.30279588699 結果AUC = 0.825186889017\n",
      "訓練評估：使用參數 impurity=gini maxDepth=25 maxBins=3\n",
      " ==>所需時間=1.06917619705 結果AUC = 0.790396779758\n",
      "訓練評估：使用參數 impurity=gini maxDepth=25 maxBins=5\n",
      " ==>所需時間=1.13059210777 結果AUC = 0.763369752731\n",
      "訓練評估：使用參數 impurity=gini maxDepth=25 maxBins=10\n",
      " ==>所需時間=1.22686505318 結果AUC = 0.763369752731\n",
      "訓練評估：使用參數 impurity=gini maxDepth=25 maxBins=50\n",
      " ==>所需時間=1.3074798584 結果AUC = 0.747843588269\n",
      "訓練評估：使用參數 impurity=gini maxDepth=25 maxBins=100\n",
      " ==>所需時間=1.33417415619 結果AUC = 0.814548591144\n",
      "訓練評估：使用參數 impurity=gini maxDepth=25 maxBins=200\n",
      " ==>所需時間=1.41540908813 結果AUC = 0.825186889017\n",
      "訓練評估：使用參數 impurity=entropy maxDepth=3 maxBins=3\n",
      " ==>所需時間=0.70845580101 結果AUC = 0.773145485911\n",
      "訓練評估：使用參數 impurity=entropy maxDepth=3 maxBins=5\n",
      " ==>所需時間=0.791558980942 結果AUC = 0.773145485911\n",
      "訓練評估：使用參數 impurity=entropy maxDepth=3 maxBins=10\n",
      " ==>所需時間=0.777333021164 結果AUC = 0.773145485911\n",
      "訓練評估：使用參數 impurity=entropy maxDepth=3 maxBins=50\n",
      " ==>所需時間=0.696783065796 結果AUC = 0.784646348476\n",
      "訓練評估：使用參數 impurity=entropy maxDepth=3 maxBins=100\n",
      " ==>所需時間=1.02748203278 結果AUC = 0.784646348476\n",
      "訓練評估：使用參數 impurity=entropy maxDepth=3 maxBins=200\n",
      " ==>所需時間=0.925566911697 結果AUC = 0.784646348476\n",
      "訓練評估：使用參數 impurity=entropy maxDepth=5 maxBins=3\n",
      " ==>所需時間=1.03461408615 結果AUC = 0.768257619321\n",
      "訓練評估：使用參數 impurity=entropy maxDepth=5 maxBins=5\n",
      " ==>所需時間=1.11221408844 結果AUC = 0.795284646348\n",
      "訓練評估：使用參數 impurity=entropy maxDepth=5 maxBins=10\n",
      " ==>所需時間=0.844904184341 結果AUC = 0.763369752731\n",
      "訓練評估：使用參數 impurity=entropy maxDepth=5 maxBins=50\n",
      " ==>所需時間=0.748718976974 結果AUC = 0.817423806786\n",
      "訓練評估：使用參數 impurity=entropy maxDepth=5 maxBins=100\n",
      " ==>所需時間=0.78467798233 結果AUC = 0.83870040253\n",
      "訓練評估：使用參數 impurity=entropy maxDepth=5 maxBins=200\n",
      " ==>所需時間=0.717031002045 結果AUC = 0.83870040253\n",
      "訓練評估：使用參數 impurity=entropy maxDepth=10 maxBins=3\n",
      " ==>所需時間=0.95437002182 結果AUC = 0.790396779758\n",
      "訓練評估：使用參數 impurity=entropy maxDepth=10 maxBins=5\n",
      " ==>所需時間=0.902694940567 結果AUC = 0.752731454859\n",
      "訓練評估：使用參數 impurity=entropy maxDepth=10 maxBins=10\n",
      " ==>所需時間=0.898158073425 結果AUC = 0.774008050604\n",
      "訓練評估：使用參數 impurity=entropy maxDepth=10 maxBins=50\n",
      " ==>所需時間=0.92866897583 結果AUC = 0.769120184014\n",
      "訓練評估：使用參數 impurity=entropy maxDepth=10 maxBins=100\n",
      " ==>所需時間=0.940175056458 結果AUC = 0.825186889017\n",
      "訓練評估：使用參數 impurity=entropy maxDepth=10 maxBins=200\n",
      " ==>所需時間=0.861852884293 結果AUC = 0.825186889017\n",
      "訓練評估：使用參數 impurity=entropy maxDepth=15 maxBins=3\n",
      " ==>所需時間=1.06370902061 結果AUC = 0.790396779758\n",
      "訓練評估：使用參數 impurity=entropy maxDepth=15 maxBins=5\n",
      " ==>所需時間=1.15553998947 結果AUC = 0.749856239218\n",
      "訓練評估：使用參數 impurity=entropy maxDepth=15 maxBins=10\n",
      " ==>所需時間=1.35020303726 結果AUC = 0.763369752731\n",
      "訓練評估：使用參數 impurity=entropy maxDepth=15 maxBins=50\n",
      " ==>所需時間=1.1932580471 結果AUC = 0.771995399655\n",
      "訓練評估：使用參數 impurity=entropy maxDepth=15 maxBins=100\n",
      " ==>所需時間=1.14918088913 結果AUC = 0.801035077631\n",
      "訓練評估：使用參數 impurity=entropy maxDepth=15 maxBins=200\n",
      " ==>所需時間=1.12893009186 結果AUC = 0.814548591144\n",
      "訓練評估：使用參數 impurity=entropy maxDepth=20 maxBins=3\n",
      " ==>所需時間=0.991775989532 結果AUC = 0.790396779758\n",
      "訓練評估：使用參數 impurity=entropy maxDepth=20 maxBins=5\n",
      " ==>所需時間=1.07996606827 結果AUC = 0.749856239218\n",
      "訓練評估：使用參數 impurity=entropy maxDepth=20 maxBins=10\n",
      " ==>所需時間=1.17807078362 結果AUC = 0.763369752731\n",
      "訓練評估：使用參數 impurity=entropy maxDepth=20 maxBins=50\n",
      " ==>所需時間=1.23392105103 結果AUC = 0.761357101783\n",
      "訓練評估：使用參數 impurity=entropy maxDepth=20 maxBins=100\n",
      " ==>所需時間=1.2502810955 結果AUC = 0.790396779758\n",
      "訓練評估：使用參數 impurity=entropy maxDepth=20 maxBins=200\n",
      " ==>所需時間=1.68367695808 結果AUC = 0.825186889017\n",
      "訓練評估：使用參數 impurity=entropy maxDepth=25 maxBins=3\n",
      " ==>所需時間=1.06292200089 結果AUC = 0.790396779758\n",
      "訓練評估：使用參數 impurity=entropy maxDepth=25 maxBins=5\n",
      " ==>所需時間=1.0754699707 結果AUC = 0.749856239218\n",
      "訓練評估：使用參數 impurity=entropy maxDepth=25 maxBins=10\n",
      " ==>所需時間=1.19128513336 結果AUC = 0.763369752731\n",
      "訓練評估：使用參數 impurity=entropy maxDepth=25 maxBins=50\n",
      " ==>所需時間=1.72795891762 結果AUC = 0.761357101783\n",
      "訓練評估：使用參數 impurity=entropy maxDepth=25 maxBins=100\n",
      " ==>所需時間=1.86803197861 結果AUC = 0.779758481886\n",
      "訓練評估：使用參數 impurity=entropy maxDepth=25 maxBins=200\n",
      " ==>所需時間=2.05019211769 結果AUC = 0.814548591144\n",
      "調校後最佳參數：impurity:gini,maxDepth:5,maxBins:100\n",
      ",    結果AUC = 0.83870040253\n"
     ]
    }
   ],
   "source": [
    "    print(\"-----所有參數訓練評估找出最好的參數組合---------\")  \n",
    "    bestModel=evalAllParameter(trainData, validationData,\n",
    "                          [\"gini\", \"entropy\"],\n",
    "                          [3, 5, 10, 15, 20, 25], \n",
    "                          [3, 5, 10, 50, 100, 200 ])"
   ]
  },
  {
   "cell_type": "code",
   "execution_count": 32,
   "metadata": {
    "collapsed": false
   },
   "outputs": [
    {
     "name": "stdout",
     "output_type": "stream",
     "text": [
      "AUC=0.795614035088\n"
     ]
    }
   ],
   "source": [
    "#確認傳回的最佳模型是否有overfitting的問題\n",
    "AUC=evaluateModel(model, testData)\n",
    "print \"AUC=\"+str(AUC)"
   ]
  }
 ],
 "metadata": {
  "kernelspec": {
   "display_name": "Python 2",
   "language": "python",
   "name": "python2"
  },
  "language_info": {
   "codemirror_mode": {
    "name": "ipython",
    "version": 2
   },
   "file_extension": ".py",
   "mimetype": "text/x-python",
   "name": "python",
   "nbconvert_exporter": "python",
   "pygments_lexer": "ipython2",
   "version": "2.7.11"
  }
 },
 "nbformat": 4,
 "nbformat_minor": 0
}
