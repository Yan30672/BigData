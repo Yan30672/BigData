{
 "cells": [
  {
   "cell_type": "markdown",
   "metadata": {},
   "source": [
    "# 執行模式"
   ]
  },
  {
   "cell_type": "code",
   "execution_count": 8,
   "metadata": {
    "collapsed": false
   },
   "outputs": [
    {
     "data": {
      "text/plain": [
       "u'local[*]'"
      ]
     },
     "execution_count": 8,
     "metadata": {},
     "output_type": "execute_result"
    }
   ],
   "source": [
    "sc.master"
   ]
  },
  {
   "cell_type": "markdown",
   "metadata": {},
   "source": [
    "# 資料準備"
   ]
  },
  {
   "cell_type": "code",
   "execution_count": 9,
   "metadata": {
    "collapsed": true
   },
   "outputs": [],
   "source": [
    "#讀取資料\n",
    "global Path    \n",
    "if sc.master[0:5]==\"local\" :\n",
    "   Path=\"file:/home/hduser/pythonsparkexample/PythonProject/\"\n",
    "else:   \n",
    "   Path=\"hdfs://master:9000/user/hduser/\""
   ]
  },
  {
   "cell_type": "code",
   "execution_count": 10,
   "metadata": {
    "collapsed": false,
    "scrolled": true
   },
   "outputs": [
    {
     "name": "stdout",
     "output_type": "stream",
     "text": [
      "開始匯入資料...\n"
     ]
    },
    {
     "data": {
      "text/plain": [
       "[u'PassengerId,Survived,Pclass,Name,Sex,Age,SibSp,Parch,Ticket,Fare,Cabin,Embarked',\n",
       " u'1,0,3,\"Braund, Mr. Owen Harris\",male,22,1,0,A/5 21171,7.25,,S']"
      ]
     },
     "execution_count": 10,
     "metadata": {},
     "output_type": "execute_result"
    }
   ],
   "source": [
    "#觀察資料型態\n",
    "#Name無用, Sex and Embraked需要轉換成數值, Age and Cabin轉成float, ,SibSp and Parch有參考價值\n",
    "print(\"開始匯入資料...\")\n",
    "rawDataWithHeader = sc.textFile(Path+\"data/train.csv\")\n",
    "rawDataWithHeader.take(2)"
   ]
  },
  {
   "cell_type": "code",
   "execution_count": 11,
   "metadata": {
    "collapsed": false
   },
   "outputs": [
    {
     "name": "stdout",
     "output_type": "stream",
     "text": [
      "開始匯入資料...\n",
      "共計：891筆\n"
     ]
    }
   ],
   "source": [
    "#將資料整理成label與特徵欄位\n",
    "print(\"開始匯入資料...\")\n",
    "rawDataWithHeader = sc.textFile(Path+\"data/train.csv\")\n",
    "header = rawDataWithHeader.first() \n",
    "rawData = rawDataWithHeader.filter(lambda x:x !=header)\n",
    "lines = rawData.map(lambda x: x.split(\",\"))\n",
    "newline = lines.map(lambda x: x[:3]+x[5:])\n",
    "print(\"共計：\" + str(lines.count()) + \"筆\")"
   ]
  },
  {
   "cell_type": "code",
   "execution_count": 12,
   "metadata": {
    "collapsed": false
   },
   "outputs": [
    {
     "data": {
      "text/plain": [
       "[u'\"Braund', u' Mr. Owen Harris\"']"
      ]
     },
     "execution_count": 12,
     "metadata": {},
     "output_type": "execute_result"
    }
   ],
   "source": [
    "#第三和第四欄為名字，無參考價值\n",
    "lines.take(1)[0][3:5]"
   ]
  },
  {
   "cell_type": "code",
   "execution_count": 13,
   "metadata": {
    "collapsed": false
   },
   "outputs": [
    {
     "data": {
      "text/plain": [
       "[[u'1',\n",
       "  u'0',\n",
       "  u'3',\n",
       "  u'male',\n",
       "  u'22',\n",
       "  u'1',\n",
       "  u'0',\n",
       "  u'A/5 21171',\n",
       "  u'7.25',\n",
       "  u'',\n",
       "  u'S']]"
      ]
     },
     "execution_count": 13,
     "metadata": {},
     "output_type": "execute_result"
    }
   ],
   "source": [
    "#資料只包含標籤與特徵欄位\n",
    "newline.take(1)"
   ]
  },
  {
   "cell_type": "code",
   "execution_count": 14,
   "metadata": {
    "collapsed": false
   },
   "outputs": [],
   "source": [
    "#擷取特徵欄位Sex, Embarked\n",
    "import numpy as np\n",
    "#將Sex轉換為數值（male=0, female=1）\n",
    "def genderIndex(x):\n",
    "    s = 0\n",
    "    if x==\"male\":\n",
    "        return 1\n",
    "    else:\n",
    "        return 0\n",
    "#將Embarked轉換為數值（empty=0, C=1, Q=2, S=3）\n",
    "def Embarked(x):\n",
    "    if x==\"C\":\n",
    "        return 1\n",
    "    elif x==\"Q\":\n",
    "        return 2\n",
    "    elif x==\"S\":\n",
    "        return 3\n",
    "    else:\n",
    "        return 0\n",
    "    \n",
    "def convert_float(x):\n",
    "    if x ==\"\":\n",
    "        return 0\n",
    "    else:\n",
    "        return float(x)\n",
    "\n",
    "#收集特徵\n",
    "def extract_features(x):\n",
    "    categoryFeatures = [genderIndex(x[3]), Embarked(x[-1])]\n",
    "    numericalFeatures=[x[2], convert_float(x[4]), x[5], x[6], convert_float(x[8])]\n",
    "    return np.concatenate((categoryFeatures, numericalFeatures))\n",
    "    \n",
    "def extract_label(x):\n",
    "    label = x[1]\n",
    "    return float(label)\n",
    "\n",
    "from pyspark.mllib.regression import LabeledPoint\n",
    "labelpointRDD = newline.map(lambda r: LabeledPoint(extract_label(r), extract_features(r)))"
   ]
  },
  {
   "cell_type": "code",
   "execution_count": 15,
   "metadata": {
    "collapsed": false
   },
   "outputs": [
    {
     "data": {
      "text/plain": [
       "[LabeledPoint(0.0, [1.0,3.0,3.0,22.0,1.0,0.0,7.25])]"
      ]
     },
     "execution_count": 15,
     "metadata": {},
     "output_type": "execute_result"
    }
   ],
   "source": [
    "#將整理的資料除存成labeledPointRDD\n",
    "labelpointRDD.take(1)"
   ]
  },
  {
   "cell_type": "code",
   "execution_count": 16,
   "metadata": {
    "collapsed": false
   },
   "outputs": [
    {
     "name": "stdout",
     "output_type": "stream",
     "text": [
      "將資料分trainData:710   validationData:93   testData:88\n"
     ]
    }
   ],
   "source": [
    "(trainData, validationData, testData) = labelpointRDD.randomSplit([8, 1, 1])\n",
    "print(\"將資料分trainData:\" + str(trainData.count()) +   \n",
    "          \"   validationData:\" + str(validationData.count()) + \n",
    "          \"   testData:\" + str(testData.count()))\n"
   ]
  },
  {
   "cell_type": "code",
   "execution_count": 17,
   "metadata": {
    "collapsed": false
   },
   "outputs": [
    {
     "name": "stdout",
     "output_type": "stream",
     "text": [
      "開始匯入資料...\n",
      "共計：891筆\n",
      "將資料分為trainData:694   validationData:100   testData:97\n"
     ]
    },
    {
     "data": {
      "text/plain": [
       "PythonRDD[29] at RDD at PythonRDD.scala:48"
      ]
     },
     "execution_count": 17,
     "metadata": {},
     "output_type": "execute_result"
    }
   ],
   "source": [
    "#資料準備\n",
    "from pyspark.mllib.regression import LabeledPoint\n",
    "import numpy as np\n",
    "#將Sex轉換為數值（male=0, female=1）\n",
    "def genderIndex(x):\n",
    "    if x==\"male\":\n",
    "        return 1\n",
    "    else:\n",
    "        return 0\n",
    "#將Embarked轉換為數值（empty=0, C=1, Q=2, S=3）\n",
    "def Embarked(x):\n",
    "    if x==\"C\":\n",
    "        return 1\n",
    "    elif x==\"Q\":\n",
    "        return 2\n",
    "    elif x==\"S\":\n",
    "        return 3\n",
    "    else:\n",
    "        return 0\n",
    "    \n",
    "def convert_float(x):\n",
    "    if x ==\"\":\n",
    "        return 0\n",
    "    else:\n",
    "        return float(x)\n",
    "\n",
    "#收集特徵\n",
    "def extract_features(x):\n",
    "    categoryFeatures = [genderIndex(x[3]), Embarked(x[-1])]\n",
    "    numericalFeatures=[x[2], convert_float(x[4]), x[5], x[6], convert_float(x[8])]\n",
    "    return np.concatenate((categoryFeatures, numericalFeatures))\n",
    "    \n",
    "def extract_label(x):\n",
    "    label = x[1]\n",
    "    return float(label)\n",
    "\n",
    "def PrepareData(sc): \n",
    "    #----------------------1.匯入並轉換資料-------------\n",
    "    global Path    \n",
    "    if sc.master[0:5]==\"local\" :\n",
    "       Path=\"file:/home/hduser/pythonsparkexample/PythonProject/\"\n",
    "    else:   \n",
    "       Path=\"hdfs://master:9000/user/hduser/\"\n",
    "\n",
    "    print(\"開始匯入資料...\")\n",
    "    rawDataWithHeader = sc.textFile(Path+\"data/train.csv\")\n",
    "    header = rawDataWithHeader.first() \n",
    "    rawData = rawDataWithHeader.filter(lambda x:x !=header)\n",
    "    lines = rawData.map(lambda x: x.split(\",\"))\n",
    "    newline = lines.map(lambda x: x[:3]+x[5:])\n",
    "    print(\"共計：\" + str(lines.count()) + \"筆\")\n",
    "    #----------2.建立訓練評估所需資料 RDD[LabeledPoint]-------    \n",
    "    labelpointRDD = newline.map(lambda r: LabeledPoint(extract_label(r), extract_features(r)))\n",
    "        \n",
    "    #-----------3.以隨機方式將資料分為3部份並且回傳-------------\n",
    "    (trainData, validationData, testData) = labelpointRDD.randomSplit([8, 1, 1])\n",
    "    print(\"將資料分為trainData:\" + str(trainData.count()) + \n",
    "              \"   validationData:\" + str(validationData.count()) +\n",
    "              \"   testData:\" + str(testData.count()))\n",
    "    return (trainData, validationData, testData) #回傳資料\n",
    "\n",
    "(trainData, validationData, testData) =PrepareData(sc)\n",
    "trainData.persist()\n",
    "validationData.persist()\n",
    "testData.persist()"
   ]
  },
  {
   "cell_type": "markdown",
   "metadata": {},
   "source": [
    "# 訓練模型與預測資料"
   ]
  },
  {
   "cell_type": "code",
   "execution_count": 18,
   "metadata": {
    "collapsed": false
   },
   "outputs": [
    {
     "name": "stdout",
     "output_type": "stream",
     "text": [
      "==========預測資料===============\n",
      "開始匯入資料...\n",
      "共計：418筆\n",
      " 名單編號：  892\n",
      "             ==>預測:0.0 說明:死亡\n",
      "\n",
      " 名單編號：  893\n",
      "             ==>預測:0.0 說明:死亡\n",
      "\n",
      " 名單編號：  894\n",
      "             ==>預測:0.0 說明:死亡\n",
      "\n",
      " 名單編號：  895\n",
      "             ==>預測:0.0 說明:死亡\n",
      "\n",
      " 名單編號：  896\n",
      "             ==>預測:1.0 說明:倖存\n",
      "\n",
      " 名單編號：  897\n",
      "             ==>預測:0.0 說明:死亡\n",
      "\n",
      " 名單編號：  898\n",
      "             ==>預測:1.0 說明:倖存\n",
      "\n",
      " 名單編號：  899\n",
      "             ==>預測:0.0 說明:死亡\n",
      "\n",
      " 名單編號：  900\n",
      "             ==>預測:1.0 說明:倖存\n",
      "\n",
      " 名單編號：  901\n",
      "             ==>預測:0.0 說明:死亡\n",
      "\n"
     ]
    }
   ],
   "source": [
    "from pyspark.mllib.tree import DecisionTree\n",
    "model=DecisionTree.trainClassifier( \\\n",
    "        trainData, numClasses=2, categoricalFeaturesInfo={}, \\\n",
    "        impurity=\"entropy\", maxDepth=5, maxBins=5)\n",
    "\n",
    "#testdata沒有label欄位，所以選取特徵都必須往前挪一欄\n",
    "def extract_features1(x):\n",
    "    categoryFeatures = [genderIndex(x[2]), Embarked(x[-1])]\n",
    "    numericalFeatures=[x[1], convert_float(x[3]), x[4], x[5], convert_float(x[7])]\n",
    "    return np.concatenate((categoryFeatures, numericalFeatures))\n",
    "\n",
    "def PredictData(sc,model): \n",
    "    print(\"開始匯入資料...\")\n",
    "    rawDataWithHeader = sc.textFile(Path+\"data/test.csv\")\n",
    "    header = rawDataWithHeader.first() \n",
    "    rawData = rawDataWithHeader.filter(lambda x:x !=header)\n",
    "    lines = rawData.map(lambda x: x.split(\",\"))\n",
    "    newline = lines.map(lambda x: x[:2]+x[4:])\n",
    "    print(\"共計：\" + str(newline.count()) + \"筆\")\n",
    "    dataRDD = newline.map(lambda r:(r[0], extract_features1(r)))\n",
    "    DescDict = {\n",
    "           0: \"死亡\",\n",
    "           1: \"倖存\"\n",
    "     }\n",
    "    for data in dataRDD.take(10):\n",
    "        predictResult = model.predict(data[1])\n",
    "        print \" 名單編號：  \" +str(data[0])+\"\\n\" +\\\n",
    "                  \"             ==>預測:\"+ str(predictResult)+ \\\n",
    "                  \" 說明:\"+DescDict[predictResult] +\"\\n\"\n",
    "\n",
    "print(\"==========預測資料===============\")\n",
    "PredictData(sc, model)\n",
    "    "
   ]
  },
  {
   "cell_type": "markdown",
   "metadata": {},
   "source": [
    "# 評估模型的準確率"
   ]
  },
  {
   "cell_type": "code",
   "execution_count": 12,
   "metadata": {
    "collapsed": false
   },
   "outputs": [
    {
     "data": {
      "text/plain": [
       "[(0.0, 0.0), (0.0, 1.0), (1.0, 1.0), (0.0, 0.0), (1.0, 1.0)]"
      ]
     },
     "execution_count": 12,
     "metadata": {},
     "output_type": "execute_result"
    }
   ],
   "source": [
    "score = model.predict(validationData.map(lambda p: p.features))\n",
    "scoreAndLabels=score.zip(validationData.map(lambda p: p.label))\n",
    "scoreAndLabels.take(5)"
   ]
  },
  {
   "cell_type": "code",
   "execution_count": 13,
   "metadata": {
    "collapsed": false
   },
   "outputs": [
    {
     "name": "stdout",
     "output_type": "stream",
     "text": [
      "AUC=0.778225806452\n"
     ]
    }
   ],
   "source": [
    "from pyspark.mllib.evaluation import BinaryClassificationMetrics\n",
    "metrics = BinaryClassificationMetrics(scoreAndLabels)\n",
    "print \"AUC=\"+str(metrics.areaUnderROC)"
   ]
  },
  {
   "cell_type": "code",
   "execution_count": 14,
   "metadata": {
    "collapsed": true
   },
   "outputs": [],
   "source": [
    "def evaluateModel(model, validationData):\n",
    "    score = model.predict(validationData.map(lambda p: p.features))\n",
    "    scoreAndLabels=score.zip(validationData.map(lambda p: p.label))\n",
    "    metrics = BinaryClassificationMetrics(scoreAndLabels)\n",
    "    AUC=metrics.areaUnderROC\n",
    "    return( AUC)"
   ]
  },
  {
   "cell_type": "code",
   "execution_count": 15,
   "metadata": {
    "collapsed": false
   },
   "outputs": [
    {
     "name": "stdout",
     "output_type": "stream",
     "text": [
      "AUC=0.778225806452\n"
     ]
    }
   ],
   "source": [
    "AUC=evaluateModel(model, validationData)\n",
    "print \"AUC=\"+str(AUC)"
   ]
  },
  {
   "cell_type": "code",
   "execution_count": 16,
   "metadata": {
    "collapsed": false
   },
   "outputs": [
    {
     "name": "stdout",
     "output_type": "stream",
     "text": [
      "訓練評估：使用參數 impurity=entropy maxDepth=5 maxBins=5\n",
      " ==>所需時間=1.82187891006 結果AUC = 0.778225806452\n",
      "訓練評估：使用參數 impurity=entropy maxDepth=5 maxBins=5\n",
      " ==>所需時間=1.12168097496 結果AUC = 0.826203208556\n"
     ]
    }
   ],
   "source": [
    "from time import time\n",
    "def trainEvaluateModel(trainData,validationData,\n",
    "                                        impurityParm, maxDepthParm, maxBinsParm):\n",
    "    startTime = time()\n",
    "    model = DecisionTree.trainClassifier(trainData,\n",
    "                numClasses=2, categoricalFeaturesInfo={}, impurity=impurityParm,\n",
    "                maxDepth=maxDepthParm, maxBins=maxBinsParm)\n",
    "    AUC = evaluateModel(model, validationData)\n",
    "    duration = time() - startTime\n",
    "    print    \"訓練評估：使用參數\" + \\\n",
    "                \" impurity=\"+str(impurityParm) +\\\n",
    "                \" maxDepth=\"+str(maxDepthParm) + \\\n",
    "                \" maxBins=\"+str(maxBinsParm) +\"\\n\" +\\\n",
    "                 \" ==>所需時間=\"+str(duration) + \\\n",
    "                 \" 結果AUC = \" + str(AUC) \n",
    "    return (AUC,duration, impurityParm, maxDepthParm, maxBinsParm,model)\n",
    "(AUC,duration, impurityParm, maxDepthParm, maxBinsParm,model)=  \\\n",
    "       trainEvaluateModel(trainData, validationData, \"entropy\", 5, 5)\n",
    "(AUC,duration, impurityParm, maxDepthParm, maxBinsParm,model)=  \\\n",
    "       trainEvaluateModel(trainData, testData, \"entropy\", 5, 5)"
   ]
  },
  {
   "cell_type": "code",
   "execution_count": 17,
   "metadata": {
    "collapsed": false
   },
   "outputs": [
    {
     "name": "stdout",
     "output_type": "stream",
     "text": [
      "訓練評估：使用參數 impurity=gini maxDepth=10 maxBins=10\n",
      " ==>所需時間=1.94670820236 結果AUC = 0.72465437788\n",
      "訓練評估：使用參數 impurity=entropy maxDepth=10 maxBins=10\n",
      " ==>所需時間=1.36335992813 結果AUC = 0.672811059908\n"
     ]
    }
   ],
   "source": [
    "#測試gini and entropy何者較佳\n",
    "impurityList=[\"gini\", \"entropy\"]\n",
    "maxDepthList  =[10]\n",
    "maxBinsList=[10 ]\n",
    "\n",
    "metrics = [trainEvaluateModel(trainData, validationData,  \n",
    "                              impurity,maxDepth,  maxBins  ) \n",
    "                 for impurity in impurityList \n",
    "                 for maxDepth in maxDepthList  \n",
    "                 for maxBins in maxBinsList ]"
   ]
  },
  {
   "cell_type": "code",
   "execution_count": 18,
   "metadata": {
    "collapsed": false
   },
   "outputs": [
    {
     "data": {
      "text/plain": [
       "[(0.7246543778801843,\n",
       "  1.9467082023620605,\n",
       "  'gini',\n",
       "  10,\n",
       "  10,\n",
       "  DecisionTreeModel classifier of depth 10 with 275 nodes),\n",
       " (0.6728110599078341,\n",
       "  1.3633599281311035,\n",
       "  'entropy',\n",
       "  10,\n",
       "  10,\n",
       "  DecisionTreeModel classifier of depth 10 with 287 nodes)]"
      ]
     },
     "execution_count": 18,
     "metadata": {},
     "output_type": "execute_result"
    }
   ],
   "source": [
    "#AUC, duration, impurity, maxDepth, maxBins, model\n",
    "metrics"
   ]
  },
  {
   "cell_type": "code",
   "execution_count": 19,
   "metadata": {
    "collapsed": false
   },
   "outputs": [
    {
     "data": {
      "text/html": [
       "<div>\n",
       "<table border=\"1\" class=\"dataframe\">\n",
       "  <thead>\n",
       "    <tr style=\"text-align: right;\">\n",
       "      <th></th>\n",
       "      <th>AUC</th>\n",
       "      <th>duration</th>\n",
       "      <th>impurity</th>\n",
       "      <th>maxDepth</th>\n",
       "      <th>maxBins</th>\n",
       "      <th>model</th>\n",
       "    </tr>\n",
       "  </thead>\n",
       "  <tbody>\n",
       "    <tr>\n",
       "      <th>gini</th>\n",
       "      <td>0.724654</td>\n",
       "      <td>1.946708</td>\n",
       "      <td>gini</td>\n",
       "      <td>10</td>\n",
       "      <td>10</td>\n",
       "      <td>DecisionTreeModel classifier of depth 10 with ...</td>\n",
       "    </tr>\n",
       "    <tr>\n",
       "      <th>entropy</th>\n",
       "      <td>0.672811</td>\n",
       "      <td>1.363360</td>\n",
       "      <td>entropy</td>\n",
       "      <td>10</td>\n",
       "      <td>10</td>\n",
       "      <td>DecisionTreeModel classifier of depth 10 with ...</td>\n",
       "    </tr>\n",
       "  </tbody>\n",
       "</table>\n",
       "</div>"
      ],
      "text/plain": [
       "              AUC  duration impurity  maxDepth  maxBins  \\\n",
       "gini     0.724654  1.946708     gini        10       10   \n",
       "entropy  0.672811  1.363360  entropy        10       10   \n",
       "\n",
       "                                                     model  \n",
       "gini     DecisionTreeModel classifier of depth 10 with ...  \n",
       "entropy  DecisionTreeModel classifier of depth 10 with ...  "
      ]
     },
     "execution_count": 19,
     "metadata": {},
     "output_type": "execute_result"
    }
   ],
   "source": [
    "import pandas as pd\n",
    "IndexList=impurityList\n",
    "df = pd.DataFrame(metrics,index=IndexList,\n",
    "            columns=['AUC', 'duration','impurity', 'maxDepth', 'maxBins','model'])\n",
    "df"
   ]
  },
  {
   "cell_type": "code",
   "execution_count": 30,
   "metadata": {
    "collapsed": false
   },
   "outputs": [
    {
     "data": {
      "image/png": "[encoded data removed]",
      "text/plain": [
       "<matplotlib.figure.Figure at 0x7fdddcb12550>"
      ]
     },
     "metadata": {},
     "output_type": "display_data"
    }
   ],
   "source": [
    "import matplotlib.pyplot as plt\n",
    "%matplotlib inline \n",
    "evalparm='impurity'\n",
    "ax = df['AUC'].plot(kind='bar', title =evalparm,figsize=(10,6),\n",
    "                legend=True, fontsize=12)\n",
    "ax.set_xlabel(evalparm,fontsize=12)\n",
    "ax.set_ylim([0.6,0.75])\n",
    "ax.set_ylabel(\"AUC\",fontsize=12)\n",
    "ax2 = ax.twinx()\n",
    "ax2.plot(df['duration'].values, linestyle='-', marker='o', linewidth=2.0,color='r')\n",
    "plt.show()"
   ]
  },
  {
   "cell_type": "code",
   "execution_count": 31,
   "metadata": {
    "collapsed": true
   },
   "outputs": [],
   "source": [
    "import matplotlib.pyplot as plt\n",
    "def showchart(df,evalparm ,barData,lineData,yMin,yMax):\n",
    "    ax = df[barData].plot(kind='bar', title =evalparm,\n",
    "                                         figsize=(10,6),legend=True, fontsize=12)\n",
    "    ax.set_xlabel(evalparm,fontsize=12)\n",
    "    ax.set_ylim([yMin,yMax])\n",
    "    ax.set_ylabel(barData,fontsize=12)\n",
    "    ax2 = ax.twinx()\n",
    "    ax2.plot(df[lineData ].values, linestyle='-', marker='o',\n",
    "                    linewidth=2.0,color='r')\n",
    "    plt.show()"
   ]
  },
  {
   "cell_type": "code",
   "execution_count": 32,
   "metadata": {
    "collapsed": false
   },
   "outputs": [
    {
     "data": {
      "image/png": "[encoded data removed]",
      "text/plain": [
       "<matplotlib.figure.Figure at 0x7fdddcad6650>"
      ]
     },
     "metadata": {},
     "output_type": "display_data"
    }
   ],
   "source": [
    "showchart(df,'impurity','AUC','duration',0.5,0.75 )"
   ]
  },
  {
   "cell_type": "markdown",
   "metadata": {},
   "source": [
    "# 找出最好的評估參數"
   ]
  },
  {
   "cell_type": "code",
   "execution_count": 36,
   "metadata": {
    "collapsed": true
   },
   "outputs": [],
   "source": [
    "#定義evalParameter函數\n",
    "def evalParameter(trainData, validationData, evalparm,\n",
    "                  impurityList, maxDepthList, maxBinsList):\n",
    "    #訓練評估參數\n",
    "    metrics = [trainEvaluateModel(trainData, validationData,  \n",
    "                                impurity,maxDepth,  maxBins  ) \n",
    "                       for impurity in impurityList\n",
    "                       for maxDepth in maxDepthList  \n",
    "                       for maxBins in maxBinsList ]\n",
    "    #設定目前評估的參數\n",
    "    if evalparm==\"impurity\":\n",
    "        IndexList=impurityList[:]\n",
    "    elif evalparm==\"maxDepth\":\n",
    "        IndexList=maxDepthList[:]\n",
    "    elif evalparm==\"maxBins\":\n",
    "        IndexList=maxBinsList[:]\n",
    "    #轉換為Pandas DataFrame\n",
    "    df = pd.DataFrame(metrics,index=IndexList,\n",
    "            columns=['AUC', 'duration','impurity', 'maxDepth', 'maxBins','model'])\n",
    "    #顯示圖形\n",
    "    showchart(df,evalparm,'AUC','duration',0.5,0.8 )"
   ]
  },
  {
   "cell_type": "code",
   "execution_count": 37,
   "metadata": {
    "collapsed": false
   },
   "outputs": [
    {
     "name": "stdout",
     "output_type": "stream",
     "text": [
      "訓練評估：使用參數 impurity=gini maxDepth=10 maxBins=10\n",
      " ==>所需時間=1.52641391754 結果AUC = 0.72465437788\n",
      "訓練評估：使用參數 impurity=entropy maxDepth=10 maxBins=10\n",
      " ==>所需時間=0.841737031937 結果AUC = 0.672811059908\n"
     ]
    },
    {
     "data": {
      "image/png": "[encoded data removed]",
      "text/plain": [
       "<matplotlib.figure.Figure at 0x7fdddcbdca90>"
      ]
     },
     "metadata": {},
     "output_type": "display_data"
    }
   ],
   "source": [
    "evalParameter(trainData, validationData,\"impurity\", \n",
    "                              impurityList=[\"gini\", \"entropy\"],   \n",
    "                              maxDepthList=[10],  \n",
    "                              maxBinsList=[10 ])  "
   ]
  },
  {
   "cell_type": "code",
   "execution_count": 38,
   "metadata": {
    "collapsed": false
   },
   "outputs": [
    {
     "name": "stdout",
     "output_type": "stream",
     "text": [
      "訓練評估：使用參數 impurity=gini maxDepth=3 maxBins=10\n",
      " ==>所需時間=1.00007200241 結果AUC = 0.756912442396\n",
      "訓練評估：使用參數 impurity=gini maxDepth=5 maxBins=10\n",
      " ==>所需時間=0.781147956848 結果AUC = 0.770161290323\n",
      "訓練評估：使用參數 impurity=gini maxDepth=10 maxBins=10\n",
      " ==>所需時間=0.960747003555 結果AUC = 0.72465437788\n",
      "訓練評估：使用參數 impurity=gini maxDepth=15 maxBins=10\n",
      " ==>所需時間=1.28373503685 結果AUC = 0.698732718894\n",
      "訓練評估：使用參數 impurity=gini maxDepth=20 maxBins=10\n",
      " ==>所需時間=1.34927582741 結果AUC = 0.698732718894\n",
      "訓練評估：使用參數 impurity=gini maxDepth=25 maxBins=10\n",
      " ==>所需時間=1.11240315437 結果AUC = 0.698732718894\n"
     ]
    },
    {
     "data": {
      "image/png": "[encoded data removed]",
      "text/plain": [
       "<matplotlib.figure.Figure at 0x7fdddc9fae10>"
      ]
     },
     "metadata": {},
     "output_type": "display_data"
    }
   ],
   "source": [
    "evalParameter(trainData, validationData,\"maxDepth\", \n",
    "                          impurityList=[\"gini\"],                    \n",
    "                          maxDepthList=[3, 5, 10, 15, 20, 25],    \n",
    "                          maxBinsList=[10])   "
   ]
  },
  {
   "cell_type": "code",
   "execution_count": 39,
   "metadata": {
    "collapsed": false
   },
   "outputs": [
    {
     "name": "stdout",
     "output_type": "stream",
     "text": [
      "訓練評估：使用參數 impurity=gini maxDepth=10 maxBins=3\n",
      " ==>所需時間=1.55386090279 結果AUC = 0.672811059908\n",
      "訓練評估：使用參數 impurity=gini maxDepth=10 maxBins=5\n",
      " ==>所需時間=0.760903120041 結果AUC = 0.706797235023\n",
      "訓練評估：使用參數 impurity=gini maxDepth=10 maxBins=10\n",
      " ==>所需時間=0.849941968918 結果AUC = 0.72465437788\n",
      "訓練評估：使用參數 impurity=gini maxDepth=10 maxBins=50\n",
      " ==>所需時間=0.813411951065 結果AUC = 0.726382488479\n",
      "訓練評估：使用參數 impurity=gini maxDepth=10 maxBins=100\n",
      " ==>所需時間=0.864961147308 結果AUC = 0.690668202765\n",
      "訓練評估：使用參數 impurity=gini maxDepth=10 maxBins=200\n",
      " ==>所需時間=0.922462940216 結果AUC = 0.698732718894\n"
     ]
    },
    {
     "data": {
      "image/png": "[encoded data removed]",
      "text/plain": [
       "<matplotlib.figure.Figure at 0x7fdddc9abd10>"
      ]
     },
     "metadata": {},
     "output_type": "display_data"
    }
   ],
   "source": [
    "evalParameter(trainData, validationData,\"maxBins\", \n",
    "                          impurityList=[\"gini\"],      \n",
    "                          maxDepthList =[10],        \n",
    "                          maxBinsList=[3, 5, 10, 50, 100, 200 ])"
   ]
  },
  {
   "cell_type": "code",
   "execution_count": 27,
   "metadata": {
    "collapsed": true
   },
   "outputs": [],
   "source": [
    "#定義evalAllParameter函數\n",
    "def evalAllParameter(trainData, validationData, \n",
    "                     impurityList, maxDepthList, maxBinsList):    \n",
    "    #for迴圈訓練評估所有參數組合\n",
    "    metrics = [trainEvaluateModel(trainData, validationData,  \n",
    "                            impurity,maxDepth,  maxBins  ) \n",
    "                      for impurity in impurityList \n",
    "                      for maxDepth in maxDepthList  \n",
    "                      for  maxBins in maxBinsList ]\n",
    "    #找出AUC最大的參數組合\n",
    "    Smetrics = sorted(metrics, key=lambda k: k[0], reverse=True)\n",
    "    bestParameter=Smetrics[0]\n",
    "    #顯示調校後最佳參數組合      \n",
    "    print(\"調校後最佳參數：impurity:\" + str(bestParameter[2]) + \n",
    "                                      \",maxDepth:\" + str(bestParameter[3]) + \n",
    "                                     \",maxBins:\" + str(bestParameter[4])   + \n",
    "                                      \"\\n,    結果AUC = \" + str(bestParameter[0]))\n",
    "    #傳回最佳模型\n",
    "    return bestParameter[5]"
   ]
  },
  {
   "cell_type": "code",
   "execution_count": 28,
   "metadata": {
    "collapsed": false
   },
   "outputs": [
    {
     "name": "stdout",
     "output_type": "stream",
     "text": [
      "-----所有參數訓練評估找出最好的參數組合---------\n",
      "訓練評估：使用參數 impurity=gini maxDepth=3 maxBins=3\n",
      " ==>所需時間=0.734194993973 結果AUC = 0.709677419355\n",
      "訓練評估：使用參數 impurity=gini maxDepth=3 maxBins=5\n",
      " ==>所需時間=0.834145069122 結果AUC = 0.756912442396\n",
      "訓練評估：使用參數 impurity=gini maxDepth=3 maxBins=10\n",
      " ==>所需時間=0.721841096878 結果AUC = 0.756912442396\n",
      "訓練評估：使用參數 impurity=gini maxDepth=3 maxBins=50\n",
      " ==>所需時間=0.692436933517 結果AUC = 0.756912442396\n",
      "訓練評估：使用參數 impurity=gini maxDepth=3 maxBins=100\n",
      " ==>所需時間=0.793614149094 結果AUC = 0.756912442396\n",
      "訓練評估：使用參數 impurity=gini maxDepth=3 maxBins=200\n",
      " ==>所需時間=0.687457084656 結果AUC = 0.756912442396\n",
      "訓練評估：使用參數 impurity=gini maxDepth=5 maxBins=3\n",
      " ==>所需時間=0.750644922256 結果AUC = 0.760368663594\n",
      "訓練評估：使用參數 impurity=gini maxDepth=5 maxBins=5\n",
      " ==>所需時間=0.72509598732 結果AUC = 0.770161290323\n",
      "訓練評估：使用參數 impurity=gini maxDepth=5 maxBins=10\n",
      " ==>所需時間=0.723938941956 結果AUC = 0.770161290323\n",
      "訓練評估：使用參數 impurity=gini maxDepth=5 maxBins=50\n",
      " ==>所需時間=0.733811855316 結果AUC = 0.774769585253\n",
      "訓練評估：使用參數 impurity=gini maxDepth=5 maxBins=100\n",
      " ==>所需時間=0.771236896515 結果AUC = 0.774769585253\n",
      "訓練評估：使用參數 impurity=gini maxDepth=5 maxBins=200\n",
      " ==>所需時間=0.719837903976 結果AUC = 0.774769585253\n",
      "訓練評估：使用參數 impurity=gini maxDepth=10 maxBins=3\n",
      " ==>所需時間=0.961812019348 結果AUC = 0.672811059908\n",
      "訓練評估：使用參數 impurity=gini maxDepth=10 maxBins=5\n",
      " ==>所需時間=1.07050800323 結果AUC = 0.706797235023\n",
      "訓練評估：使用參數 impurity=gini maxDepth=10 maxBins=10\n",
      " ==>所需時間=0.976687908173 結果AUC = 0.72465437788\n",
      "訓練評估：使用參數 impurity=gini maxDepth=10 maxBins=50\n",
      " ==>所需時間=1.09085202217 結果AUC = 0.726382488479\n",
      "訓練評估：使用參數 impurity=gini maxDepth=10 maxBins=100\n",
      " ==>所需時間=0.971967935562 結果AUC = 0.690668202765\n",
      "訓練評估：使用參數 impurity=gini maxDepth=10 maxBins=200\n",
      " ==>所需時間=0.989795923233 結果AUC = 0.698732718894\n",
      "訓練評估：使用參數 impurity=gini maxDepth=15 maxBins=3\n",
      " ==>所需時間=0.927925109863 結果AUC = 0.672811059908\n",
      "訓練評估：使用參數 impurity=gini maxDepth=15 maxBins=5\n",
      " ==>所需時間=1.03562498093 結果AUC = 0.706797235023\n",
      "訓練評估：使用參數 impurity=gini maxDepth=15 maxBins=10\n",
      " ==>所需時間=1.12534117699 結果AUC = 0.698732718894\n",
      "訓練評估：使用參數 impurity=gini maxDepth=15 maxBins=50\n",
      " ==>所需時間=1.44339203835 結果AUC = 0.708525345622\n",
      "訓練評估：使用參數 impurity=gini maxDepth=15 maxBins=100\n",
      " ==>所需時間=1.11050510406 結果AUC = 0.676267281106\n",
      "訓練評估：使用參數 impurity=gini maxDepth=15 maxBins=200\n",
      " ==>所需時間=1.10852384567 結果AUC = 0.684331797235\n",
      "訓練評估：使用參數 impurity=gini maxDepth=20 maxBins=3\n",
      " ==>所需時間=0.917469978333 結果AUC = 0.672811059908\n",
      "訓練評估：使用參數 impurity=gini maxDepth=20 maxBins=5\n",
      " ==>所需時間=1.00762295723 結果AUC = 0.706797235023\n",
      "訓練評估：使用參數 impurity=gini maxDepth=20 maxBins=10\n",
      " ==>所需時間=1.30816602707 結果AUC = 0.698732718894\n",
      "訓練評估：使用參數 impurity=gini maxDepth=20 maxBins=50\n",
      " ==>所需時間=1.36421513557 結果AUC = 0.708525345622\n",
      "訓練評估：使用參數 impurity=gini maxDepth=20 maxBins=100\n",
      " ==>所需時間=1.23045992851 結果AUC = 0.686059907834\n",
      "訓練評估：使用參數 impurity=gini maxDepth=20 maxBins=200\n",
      " ==>所需時間=1.27373600006 結果AUC = 0.694124423963\n",
      "訓練評估：使用參數 impurity=gini maxDepth=25 maxBins=3\n",
      " ==>所需時間=1.52554702759 結果AUC = 0.672811059908\n",
      "訓練評估：使用參數 impurity=gini maxDepth=25 maxBins=5\n",
      " ==>所需時間=1.12197184563 結果AUC = 0.706797235023\n",
      "訓練評估：使用參數 impurity=gini maxDepth=25 maxBins=10\n",
      " ==>所需時間=1.03171300888 結果AUC = 0.698732718894\n",
      "訓練評估：使用參數 impurity=gini maxDepth=25 maxBins=50\n",
      " ==>所需時間=1.25974082947 結果AUC = 0.708525345622\n",
      "訓練評估：使用參數 impurity=gini maxDepth=25 maxBins=100\n",
      " ==>所需時間=1.1883790493 結果AUC = 0.686059907834\n",
      "訓練評估：使用參數 impurity=gini maxDepth=25 maxBins=200\n",
      " ==>所需時間=1.21072387695 結果AUC = 0.694124423963\n",
      "訓練評估：使用參數 impurity=entropy maxDepth=3 maxBins=3\n",
      " ==>所需時間=0.636150121689 結果AUC = 0.709677419355\n",
      "訓練評估：使用參數 impurity=entropy maxDepth=3 maxBins=5\n",
      " ==>所需時間=0.687474012375 結果AUC = 0.756912442396\n",
      "訓練評估：使用參數 impurity=entropy maxDepth=3 maxBins=10\n",
      " ==>所需時間=0.978922128677 結果AUC = 0.756912442396\n",
      "訓練評估：使用參數 impurity=entropy maxDepth=3 maxBins=50\n",
      " ==>所需時間=0.701714038849 結果AUC = 0.756912442396\n",
      "訓練評估：使用參數 impurity=entropy maxDepth=3 maxBins=100\n",
      " ==>所需時間=0.662735939026 結果AUC = 0.756912442396\n",
      "訓練評估：使用參數 impurity=entropy maxDepth=3 maxBins=200\n",
      " ==>所需時間=0.707269191742 結果AUC = 0.756912442396\n",
      "訓練評估：使用參數 impurity=entropy maxDepth=5 maxBins=3\n",
      " ==>所需時間=0.730703830719 結果AUC = 0.760368663594\n",
      "訓練評估：使用參數 impurity=entropy maxDepth=5 maxBins=5\n",
      " ==>所需時間=0.734095096588 結果AUC = 0.778225806452\n",
      "訓練評估：使用參數 impurity=entropy maxDepth=5 maxBins=10\n",
      " ==>所需時間=0.685792922974 結果AUC = 0.756912442396\n",
      "訓練評估：使用參數 impurity=entropy maxDepth=5 maxBins=50\n",
      " ==>所需時間=1.03477478027 結果AUC = 0.747119815668\n",
      "訓練評估：使用參數 impurity=entropy maxDepth=5 maxBins=100\n",
      " ==>所需時間=1.07965397835 結果AUC = 0.747119815668\n",
      "訓練評估：使用參數 impurity=entropy maxDepth=5 maxBins=200\n",
      " ==>所需時間=0.950623035431 結果AUC = 0.747119815668\n",
      "訓練評估：使用參數 impurity=entropy maxDepth=10 maxBins=3\n",
      " ==>所需時間=0.811959028244 結果AUC = 0.682603686636\n",
      "訓練評估：使用參數 impurity=entropy maxDepth=10 maxBins=5\n",
      " ==>所需時間=0.851075172424 結果AUC = 0.708525345622\n",
      "訓練評估：使用參數 impurity=entropy maxDepth=10 maxBins=10\n",
      " ==>所需時間=0.840861797333 結果AUC = 0.672811059908\n",
      "訓練評估：使用參數 impurity=entropy maxDepth=10 maxBins=50\n",
      " ==>所需時間=0.839825868607 結果AUC = 0.703341013825\n",
      "訓練評估：使用參數 impurity=entropy maxDepth=10 maxBins=100\n",
      " ==>所需時間=0.865029096603 結果AUC = 0.719470046083\n",
      "訓練評估：使用參數 impurity=entropy maxDepth=10 maxBins=200\n",
      " ==>所需時間=0.946081876755 結果AUC = 0.701612903226\n",
      "訓練評估：使用參數 impurity=entropy maxDepth=15 maxBins=3\n",
      " ==>所需時間=0.85627412796 結果AUC = 0.682603686636\n",
      "訓練評估：使用參數 impurity=entropy maxDepth=15 maxBins=5\n",
      " ==>所需時間=1.13688707352 結果AUC = 0.716589861751\n",
      "訓練評估：使用參數 impurity=entropy maxDepth=15 maxBins=10\n",
      " ==>所需時間=1.01109004021 結果AUC = 0.682603686636\n",
      "訓練評估：使用參數 impurity=entropy maxDepth=15 maxBins=50\n",
      " ==>所需時間=1.339427948 結果AUC = 0.698732718894\n",
      "訓練評估：使用參數 impurity=entropy maxDepth=15 maxBins=100\n",
      " ==>所需時間=1.02465415001 結果AUC = 0.748847926267\n",
      "訓練評估：使用參數 impurity=entropy maxDepth=15 maxBins=200\n",
      " ==>所需時間=1.47923207283 結果AUC = 0.73099078341\n",
      "訓練評估：使用參數 impurity=entropy maxDepth=20 maxBins=3\n",
      " ==>所需時間=0.864283084869 結果AUC = 0.682603686636\n",
      "訓練評估：使用參數 impurity=entropy maxDepth=20 maxBins=5\n",
      " ==>所需時間=0.937386035919 結果AUC = 0.716589861751\n",
      "訓練評估：使用參數 impurity=entropy maxDepth=20 maxBins=10\n",
      " ==>所需時間=1.06239008904 結果AUC = 0.682603686636\n",
      "訓練評估：使用參數 impurity=entropy maxDepth=20 maxBins=50\n",
      " ==>所需時間=1.20383000374 結果AUC = 0.716589861751\n",
      "訓練評估：使用參數 impurity=entropy maxDepth=20 maxBins=100\n",
      " ==>所需時間=1.19193005562 結果AUC = 0.740783410138\n",
      "訓練評估：使用參數 impurity=entropy maxDepth=20 maxBins=200\n",
      " ==>所需時間=1.20948410034 結果AUC = 0.722926267281\n",
      "訓練評估：使用參數 impurity=entropy maxDepth=25 maxBins=3\n",
      " ==>所需時間=0.85169506073 結果AUC = 0.682603686636\n",
      "訓練評估：使用參數 impurity=entropy maxDepth=25 maxBins=5\n",
      " ==>所需時間=0.962154150009 結果AUC = 0.716589861751\n",
      "訓練評估：使用參數 impurity=entropy maxDepth=25 maxBins=10\n",
      " ==>所需時間=0.984586954117 結果AUC = 0.682603686636\n",
      "訓練評估：使用參數 impurity=entropy maxDepth=25 maxBins=50\n",
      " ==>所需時間=1.2089650631 結果AUC = 0.716589861751\n",
      "訓練評估：使用參數 impurity=entropy maxDepth=25 maxBins=100\n",
      " ==>所需時間=1.2632291317 結果AUC = 0.732718894009\n",
      "訓練評估：使用參數 impurity=entropy maxDepth=25 maxBins=200\n",
      " ==>所需時間=1.47259402275 結果AUC = 0.706797235023\n",
      "調校後最佳參數：impurity:entropy,maxDepth:5,maxBins:5\n",
      ",    結果AUC = 0.778225806452\n"
     ]
    }
   ],
   "source": [
    "    print(\"-----所有參數訓練評估找出最好的參數組合---------\")  \n",
    "    bestModel=evalAllParameter(trainData, validationData,\n",
    "                          [\"gini\", \"entropy\"],\n",
    "                          [3, 5, 10, 15, 20, 25], \n",
    "                          [3, 5, 10, 50, 100, 200 ])"
   ]
  },
  {
   "cell_type": "code",
   "execution_count": 29,
   "metadata": {
    "collapsed": false
   },
   "outputs": [
    {
     "name": "stdout",
     "output_type": "stream",
     "text": [
      "AUC=0.826203208556\n"
     ]
    }
   ],
   "source": [
    "#確認傳回的最佳模型是否有overfitting的問題\n",
    "AUC=evaluateModel(model, testData)\n",
    "print \"AUC=\"+str(AUC)"
   ]
  }
 ],
 "metadata": {
  "kernelspec": {
   "display_name": "Python 2",
   "language": "python",
   "name": "python2"
  },
  "language_info": {
   "codemirror_mode": {
    "name": "ipython",
    "version": 2
   },
   "file_extension": ".py",
   "mimetype": "text/x-python",
   "name": "python",
   "nbconvert_exporter": "python",
   "pygments_lexer": "ipython2",
   "version": "2.7.11"
  }
 },
 "nbformat": 4,
 "nbformat_minor": 0
}
